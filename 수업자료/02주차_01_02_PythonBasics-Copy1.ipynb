{
 "cells": [
  {
   "cell_type": "markdown",
   "metadata": {},
   "source": [
    "# 2주 1강: Python Basics\n",
    "Python에 익숙하지 않은 수강생분들이 있는 것 같아서, Python의 기본 문법을 간단히 다뤄볼까 합니다\n",
    "\n",
    "## 1. Basics\n",
    "\n",
    "일단 본인이 설치한 python의 버전을 확인해 봅시다.\n",
    "수업에서는 3.8.3을 사용합니다만, 3.4 이상이면 문제가 없을 것이라고 생각합니다\n",
    "아래의 코드에 대한 자세한 설명은 뒤에 하고, 아래처럼 major, minor, micro version이 나옵니다.\n",
    "\n",
    "Python의 버전은 major.minor.micro 이런 식으로 표기합니다. 예를 들어서 지금 제가 쓰는 버전은 아래와 같이 나옵니다. \n",
    "\n",
    "```Python\n",
    "sys.version_info(major=3, minor=8, micro=3, releaselevel='final', serial=0)\n",
    "```\n",
    "\n",
    "즉, 지금의 Python Version이 3.8.3 인 것을 알 수 있습니다."
   ]
  },
  {
   "cell_type": "code",
   "execution_count": 1,
   "metadata": {},
   "outputs": [
    {
     "name": "stdout",
     "output_type": "stream",
     "text": [
      "sys.version_info(major=3, minor=8, micro=3, releaselevel='final', serial=0)\n"
     ]
    }
   ],
   "source": [
    "import sys\n",
    "print(sys.version_info)"
   ]
  },
  {
   "cell_type": "markdown",
   "metadata": {},
   "source": [
    "Python에서 외부 패키지를 가져오려면 import를 사용합니다. C의 include와 유사합니다. \n",
    "위 소스에서는 import sys가 있네요. 대부분 관례적으로 소스코드 맨 앞에 import 합니다만, 실제로는 사용하기 전 언제 import를 해도 크게 상관 없습니다. \n",
    "\n",
    "Python 소스코드의 확장자는 .py 입니다.\n",
    "Python 인터프리터는 이 소스코드를 한 줄 씩 읽어서 프로그램을 실행해줍니다.\n",
    "\n",
    "지금 여러분이 보시는 .ipynb 파일은 Jupyter notebook 형태의 파일입니다.\n",
    "Jupyter는 interactive computing을 위한 툴입니다. 이번 강의는 여러가지 이유로 주피터를 사용합니다.\n",
    "Jupyter의 하위 프로젝트가 많은데요. 저는 연구용으로 주로 Jupyter lab을 많이 사용합니다.\n",
    "Jupyter noteook과 lab은 거의 같은 일을 해 주지만, lab의 경우 좌측의 파일탐색기, 화면분할, 탭 기능을 지원해서 개발과 연구에 더 편합니다. 다만 자원을 더 많이 사용하고, 옛날에 노트북으로 나왔던 extension중 일부는 사용이 되지 않는 것 같습니다.\n",
    "\n",
    "jupyter notebook/lab에서 소스를 쓰는 이 한 \"칸\"을 \"Cell\" 이라고 합니다.\n",
    "이 cell은 크게 소스코드를 쓰고 실행할 수 있는 code, 형식이 있는 텍스트를 쓸 수 있는 markdown, 그냥 텍스트를 쓸 수 있는 text로 나뉩니다.\n",
    "\n",
    "code cell에서 shell (command line) 프로그램을 실행시키고 싶으면 앞에 !를 붙이면 됩니다"
   ]
  },
  {
   "cell_type": "code",
   "execution_count": 2,
   "metadata": {},
   "outputs": [
    {
     "name": "stdout",
     "output_type": "stream",
     "text": [
      " E 드라이브의 볼륨: DATADISK02\n",
      " 볼륨 일련 번호: 6270-F0CF\n",
      "\n",
      " e:\\ 디렉터리\n",
      "\n",
      "2021-03-09  오전 11:01    <DIR>          Lecture\n",
      "2021-03-08  오후 04:31    <DIR>          RAWDATA\n",
      "2021-01-18  오전 11:35    <DIR>          workbox\n",
      "               0개 파일                   0 바이트\n",
      "               3개 디렉터리  2,955,346,567,168 바이트 남음\n"
     ]
    }
   ],
   "source": [
    "# 본인이 원하는 커맨드를 넣어보세요\n",
    "\n",
    "!dir e:\\ "
   ]
  },
  {
   "cell_type": "markdown",
   "metadata": {},
   "source": [
    "Magic Command는 셀 내부에서 특별하게 동작하는 커맨드입니다. \n",
    "- % : 한줄의 magic command를 동작\n",
    "- %% : 셀단위의 magic command를 동작\n",
    "- 주요 magic command\n",
    "    - pwd : 현재 실행중인 노트북 파일의 경로\n",
    "    - ls : 현재 디렉토리의 파일 리스트 (!dir / !ls 와 %ls의 차이는 무엇일까요?)\n",
    "    - whos : 현재 선언된 변수 출력\n",
    "    - reset : 현재 선언된 변수 전체 삭제"
   ]
  },
  {
   "cell_type": "code",
   "execution_count": 3,
   "metadata": {},
   "outputs": [
    {
     "data": {
      "text/plain": [
       "'D:\\\\OneDrive\\\\OneDrive - 숭실대학교 - Soongsil University\\\\Lecture\\\\2021S_Big_Data_Programming\\\\LectureNote'"
      ]
     },
     "execution_count": 3,
     "metadata": {},
     "output_type": "execute_result"
    }
   ],
   "source": [
    "%pwd"
   ]
  },
  {
   "cell_type": "code",
   "execution_count": 4,
   "metadata": {},
   "outputs": [],
   "source": [
    "a = 1"
   ]
  },
  {
   "cell_type": "code",
   "execution_count": 5,
   "metadata": {},
   "outputs": [
    {
     "name": "stdout",
     "output_type": "stream",
     "text": [
      "Variable   Type      Data/Info\n",
      "------------------------------\n",
      "a          int       1\n",
      "sys        module    <module 'sys' (built-in)>\n"
     ]
    }
   ],
   "source": [
    "%whos"
   ]
  },
  {
   "cell_type": "code",
   "execution_count": 6,
   "metadata": {},
   "outputs": [
    {
     "name": "stdout",
     "output_type": "stream",
     "text": [
      "Hello world\n"
     ]
    },
    {
     "data": {
      "text/plain": [
       "'\\n여러줄의 주석을 작성하고 싶으시면 이런 형태로 하시면 됩니다.\\n엄밀하게 말하면 이렇게 작성한 주석과 #로 작성한 주석은 처리하는 방법이 전혀 다르긴 합니다.\\n이건 사실은 docstring이라고 부릅니다.\\n가장 큰 차이는 #로 작성한 주석은 인터프리터가 코드의 일부로 보지 않고 무시하지만, \\n이런 docstring은 소스의 일부로 인지한다는 것입니다. \\n예를 들어서 이 뒤에 추가적인 출력이 없다면, jupyter는 이 스트링의 내용을 아래에 같이 출력해줄 것입니다. \\n이 docstring에 대한것은 나중에 함수를 다룰 때 다시 잠깐 다루겠습니다.\\n'"
      ]
     },
     "execution_count": 6,
     "metadata": {},
     "output_type": "execute_result"
    }
   ],
   "source": [
    "# python에서 주석을 달기 위한 방법은 두 가지가 있습니다. \n",
    "# 첫 번째 방법은 지금처럼 #을 쓰면 됩니다.\n",
    "# Console에 텍스트를 출력해봅시다. 아래처럼 print 함수를 쓰면 됩니다. \n",
    "# python 2에서의 print는 함수가 아니라 for 문과 같은 statement였습니다만, 이제는 fuction입니다.\n",
    "\n",
    "print(\"Hello world\") # 이렇게 한 줄에 소스코드와 주석을 모두 쓸 수 있습니다.\n",
    "\n",
    "\"\"\"\n",
    "여러줄의 주석을 작성하고 싶으시면 이런 형태로 하시면 됩니다.\n",
    "엄밀하게 말하면 이렇게 작성한 주석과 #로 작성한 주석은 처리하는 방법이 전혀 다르긴 합니다.\n",
    "이건 사실은 docstring이라고 부릅니다.\n",
    "가장 큰 차이는 #로 작성한 주석은 인터프리터가 코드의 일부로 보지 않고 무시하지만, \n",
    "이런 docstring은 소스의 일부로 인지한다는 것입니다. \n",
    "예를 들어서 이 뒤에 추가적인 출력이 없다면, jupyter는 이 스트링의 내용을 아래에 같이 출력해줄 것입니다. \n",
    "이 docstring에 대한것은 나중에 함수를 다룰 때 다시 잠깐 다루겠습니다.\n",
    "\"\"\"\n",
    "\n",
    "#print(\"test\") 이것을 uncomment 하시면 위의 출력이 사라집니다. 해보세요."
   ]
  },
  {
   "cell_type": "markdown",
   "metadata": {},
   "source": [
    "변수를 정의하는 방법은 대부분의 언어와 같습니다. Python의 대표적인 특징이자 C와 같은 언어를 사용하던 사람들이 쉽게 적응하지 못하는 것 중 하나가, Python은 변수를 정의할 때 명시적인 type을 지정해주지 않아도 된다는 것입니다."
   ]
  },
  {
   "cell_type": "code",
   "execution_count": 7,
   "metadata": {},
   "outputs": [
    {
     "name": "stdout",
     "output_type": "stream",
     "text": [
      "Jinhyk Yun\n"
     ]
    }
   ],
   "source": [
    "name = \"Jinhyk Yun\"\n",
    "print(name)"
   ]
  },
  {
   "cell_type": "code",
   "execution_count": 8,
   "metadata": {},
   "outputs": [
    {
     "name": "stdout",
     "output_type": "stream",
     "text": [
      "1-2\t3\n"
     ]
    }
   ],
   "source": [
    "# print 함수는 아래와 같이 옵션을 넣어서 쓸 수도 있습니다.\n",
    "print(1, 2, sep=\"-\", end=\"\\t\")\n",
    "print(3)"
   ]
  },
  {
   "cell_type": "markdown",
   "metadata": {},
   "source": [
    "## 2. 사칙연산 (Arithmetic)\n",
    "\n",
    "Python은 매우 다양한 자료형을 제공합니다. 주요 데이터 타입은 아래와 같습니다."
   ]
  },
  {
   "cell_type": "code",
   "execution_count": 9,
   "metadata": {},
   "outputs": [],
   "source": [
    "var1 = 100 # integer: int\n",
    "var2 = 100.1 # float: float \n",
    "var3 = \"String\" # string: str\n",
    "var4 = [100, 100] # list: list\n",
    "var5 = {1: 100, 2:200} # dictionary: dict 키값과 벨류값으로 이루어지는 쌍의 구조 -> 해쉬이다. set보다 약간 빠름 O(1)이론, 실제론 O(log(n))\n",
    "# orderedDic -> 키가 순서대로 유지됨, defaultdict : key가 없을때 기본값\n",
    "var6 = {100, 200, 300} # set 딕셔너리와 동일하게 중괄호로 정의하는데, key값 따로 없음 O(log(n))\n",
    "var7 = (10, 20, 30) # tuple : 한번 정의되면 값을 바꿀 수 없음. \n",
    "\n",
    "# 변수, 함수, 클래스 모듈의 이름을 \"식별자\"라고 합니다.\n",
    "# 소문자, 대문자, 숫자, 언더스코어(_) 만 사용 가능합니다\n",
    "# 맨 앞에 숫자가 들어갈 수 없습니다\n",
    "# def, class, try, except같은 python의 기본 예약어를 사용할 수 없습니다."
   ]
  },
  {
   "cell_type": "code",
   "execution_count": null,
   "metadata": {},
   "outputs": [],
   "source": [
    "# 식별자 관련\n",
    "# 맨 앞의 언더스코어는 private _ 두개는 protected __ 의 역할을한다.\n",
    "# 맨 앞에 숫자는 쓸 수 없음\n",
    "# 이미 정의되어 있는 예약어는 사용할 수 없음"
   ]
  },
  {
   "cell_type": "markdown",
   "metadata": {},
   "source": [
    "숫자의 연산자는 아래의 7가지가 있습니다"
   ]
  },
  {
   "cell_type": "code",
   "execution_count": 10,
   "metadata": {},
   "outputs": [
    {
     "name": "stdout",
     "output_type": "stream",
     "text": [
      "10 + 4 =  14\n",
      "10 - 4 =  6\n",
      "10 * 4 =  40\n",
      "10 / 4 =  2.5\n",
      "10 % 4 =  2\n",
      "10 // 4 =  2\n",
      "10.0 // 4.0 =  2.0\n",
      "10 ** 4 =  10000\n"
     ]
    }
   ],
   "source": [
    "print(\"10 + 4 = \", 10 + 4)\n",
    "print(\"10 - 4 = \", 10 - 4)\n",
    "print(\"10 * 4 = \", 10 * 4)\n",
    "print(\"10 / 4 = \", 10 / 4)\n",
    "print(\"10 % 4 = \", 10 % 4)\n",
    "print(\"10 // 4 = \", 10 // 4) # 나눗셈의 소숫점 아래를 버립니다 (몫만 나옵니다.)\n",
    "print(\"10.0 // 4.0 = \", 10.0 // 4.0) # integer는 integer로, float은 float으로 나옵니다. \n",
    "print(\"10 ** 4 = \", 10 ** 4)"
   ]
  },
  {
   "cell_type": "markdown",
   "metadata": {},
   "source": [
    "연산의 순서는 일반적인 사칙연산과 같습니다. (곱하기와 나누기를 먼저, 그 다음에 더하기와 빼기)"
   ]
  },
  {
   "cell_type": "code",
   "execution_count": 11,
   "metadata": {},
   "outputs": [
    {
     "name": "stdout",
     "output_type": "stream",
     "text": [
      "-9\n",
      "0\n"
     ]
    }
   ],
   "source": [
    "print(1 + 2 - 3 * 4) # 3 - 12 = -9 가 됩니다\n",
    "print((1 + 2 - 3) * 4) # 0 * 4 = 0 이 됩니다"
   ]
  },
  {
   "cell_type": "markdown",
   "metadata": {},
   "source": [
    "C/C++ 이나 Java같은 언어는 각 변수마다 최대/최소값이 존재합니다.\n",
    "Python은 어떨까요?"
   ]
  },
  {
   "cell_type": "code",
   "execution_count": 12,
   "metadata": {},
   "outputs": [
    {
     "name": "stdout",
     "output_type": "stream",
     "text": [
      "9223372036854775807 9223372036854775807\n",
      "9223372036854775808\n"
     ]
    }
   ],
   "source": [
    "import sys\n",
    "print(sys.maxsize, 2**63 - 1) # 64bit platform이라 2**63 - 1 이 최대값이라고 나옵니다. \n",
    "intvar = sys.maxsize #인티저의 맥스 사이즈를 알 수 있다. 결과값만큼의 정수 값을 가질 수 있음.\n",
    "\n",
    "#실제 저장가능한 값 보다 1을 더해서 저장하면?\n",
    "#큰 값도 담아져서 나온다.\n",
    "print(intvar+1) # Python3의 경우는 system의 최대 int보다 큰 값도 integer로 씁니다. \n",
    "\n",
    "import numpy as np"
   ]
  },
  {
   "cell_type": "code",
   "execution_count": 13,
   "metadata": {},
   "outputs": [],
   "source": [
    "# numpy를 쓸 때는 변수형에 따라 주의해야 합니다. 예를 들어 int64라면 에러가 납니다.\n",
    "# 이는 numpy의 내부는 C++로 구현되어 있기 때문입니다. \n",
    "# np.int64(intvar+1)"
   ]
  },
  {
   "cell_type": "markdown",
   "metadata": {},
   "source": [
    "## 3. 스트링 (strings)\n",
    "string은 아래와 정의합니다."
   ]
  },
  {
   "cell_type": "code",
   "execution_count": 14,
   "metadata": {},
   "outputs": [
    {
     "name": "stdout",
     "output_type": "stream",
     "text": [
      "스트링을 출력합니다 String, 스트링 \n",
      "이렇게 여러 줄의\n",
      "스트링을 정의 할 수도 있습니다. 개인적으로는 한 줄에 개행문자\n",
      "를 쓰는 것을 더 선호합니다\n"
     ]
    }
   ],
   "source": [
    "simple_string = \"String, 스트링\"\n",
    "\n",
    "multiline_string = '''\n",
    "이렇게 여러 줄의\n",
    "스트링을 정의 할 수도 있습니다.'''\n",
    "\n",
    "multiline_string2 = \"개인적으로는 한 줄에 개행문자\\n를 쓰는 것을 더 선호합니다\"\n",
    "\n",
    "print(\"%s %s %s %s\" % (\"스트링을 출력합니다\", simple_string, multiline_string, multiline_string2))"
   ]
  },
  {
   "cell_type": "markdown",
   "metadata": {},
   "source": [
    "문장의 끝 문자는 기본적으로 개행문자 \\n 입니다\n",
    "end를 통해서 print에서 끝 문자를 바꿀 수 있습니다. "
   ]
  },
  {
   "cell_type": "code",
   "execution_count": 15,
   "metadata": {},
   "outputs": [
    {
     "name": "stdout",
     "output_type": "stream",
     "text": [
      "문장의 끝에 줄바꿈을 하고 싶지 않다면, 이렇게 하면 됩니다\n"
     ]
    }
   ],
   "source": [
    "print(\"문장의 끝에 줄바꿈을 하고 싶지 않다면, \", end=\"\") \n",
    "print(\"이렇게 하면 됩니다\") "
   ]
  },
  {
   "cell_type": "markdown",
   "metadata": {},
   "source": [
    "string도 사칙연산(?)이 가능합니다. "
   ]
  },
  {
   "cell_type": "code",
   "execution_count": 16,
   "metadata": {},
   "outputs": [
    {
     "name": "stdout",
     "output_type": "stream",
     "text": [
      "안녕하세요, 안녕하십니까\n",
      "안녕하세요, 안녕하세요, 안녕하세요, 안녕하세요, 안녕하세요, \n"
     ]
    }
   ],
   "source": [
    "print(\"안녕하세요, \" + \"안녕하십니까\")\n",
    "print(\"안녕하세요, \" * 5)"
   ]
  },
  {
   "cell_type": "markdown",
   "metadata": {},
   "source": [
    "f-string은 매우 유용하게 쓸 수 있습니다. 원래 기존에는 % formatting이나 str.format()등을 사용했습니다만, fstring은 훨씬 직관적이고 편합니다."
   ]
  },
  {
   "cell_type": "code",
   "execution_count": 17,
   "metadata": {},
   "outputs": [
    {
     "name": "stdout",
     "output_type": "stream",
     "text": [
      "입력한 변수는 100 입니다\n",
      "10 + 100 = 110\n"
     ]
    }
   ],
   "source": [
    "var = 100\n",
    "print(f\"입력한 변수는 {var} 입니다\") # {} 안에는 별개의 라인으로 작동함! 앞에 f를 붙여주면 됨\n",
    "# 아래와 같이 연산도 사용할 수 있습니다. \n",
    "x = 10\n",
    "y = 100\n",
    "print(f\"{x} + {y} = {x+y}\")"
   ]
  },
  {
   "cell_type": "markdown",
   "metadata": {},
   "source": [
    "python은 스트링에 매우 다양한 기능을 제공합니다. 뒤에 다시 다루고자 합니다."
   ]
  },
  {
   "cell_type": "markdown",
   "metadata": {},
   "source": [
    "## 4. List / Array"
   ]
  },
  {
   "cell_type": "markdown",
   "metadata": {},
   "source": [
    "리스트는 [ ] 이런 대괄호로 정의합니다"
   ]
  },
  {
   "cell_type": "code",
   "execution_count": 18,
   "metadata": {},
   "outputs": [
    {
     "name": "stdout",
     "output_type": "stream",
     "text": [
      "확률및통계\n",
      "빅데이터프로그래밍(AI융합학부)\n",
      "['자료구조', '알고리즘']\n"
     ]
    }
   ],
   "source": [
    "class_list = [\"확률및통계\", \"자료구조\", \"알고리즘\", \"이산수학\"]\n",
    "print(class_list[0]) # 이런 식으로 조회합니다. \n",
    "\n",
    "class_list[0] = \"빅데이터프로그래밍(AI융합학부)\" # 이런식으로 각 index의 내용을 바꿀 수 있습니다\n",
    "print(class_list[0]) # 이런 식으로 조회합니다. \n",
    "\n",
    "print(class_list[1:3]) # [:] 을 통해서 sublist를 불러올 수 있습니다. [a:b]는 a,a+1,...,b-1 까지를 의미합니다"
   ]
  },
  {
   "cell_type": "code",
   "execution_count": 19,
   "metadata": {},
   "outputs": [
    {
     "data": {
      "text/plain": [
       "['빅데이터프로그래밍(AI융합학부)', '알고리즘']"
      ]
     },
     "execution_count": 19,
     "metadata": {},
     "output_type": "execute_result"
    }
   ],
   "source": [
    "class_list[::2] # 매 2개마다 sampling도 가능합니다"
   ]
  },
  {
   "cell_type": "markdown",
   "metadata": {},
   "source": [
    "2-d list를 만드는 것도 간편합니다. 사실 n-d 리스트를 만들기도 쉽습니다"
   ]
  },
  {
   "cell_type": "code",
   "execution_count": 20,
   "metadata": {},
   "outputs": [
    {
     "name": "stdout",
     "output_type": "stream",
     "text": [
      "[['빅데이터프로그래밍(AI융합학부)', '자료구조', '알고리즘', '이산수학'], ['GitHub 가입', 'Python 설치', '문제 1번 풀기', '문제 2번 풀기']]\n",
      "문제 1번 풀기\n",
      "[['빅데이터프로그래밍(AI융합학부)', '자료구조', '알고리즘', '이산수학'], ['GitHub 가입', 'Python 설치', '문제 1번 풀기', '문제 2번 풀기', '문제 3번 풀기']]\n",
      "[['빅데이터프로그래밍(AI융합학부)', '자료구조', '알고리즘', '이산수학'], ['GitHub 가입', '아이디와 이메일 보내기', 'Python 설치', '문제 1번 풀기', '문제 2번 풀기', '문제 3번 풀기']]\n",
      "[['빅데이터프로그래밍(AI융합학부)', '자료구조', '알고리즘', '이산수학'], ['GitHub 가입', '아이디와 이메일 보내기', 'Python 설치', '문제 1번 풀기', '문제 3번 풀기']]\n",
      "['A', 'B', 'A']\n",
      "[['빅데이터프로그래밍(AI융합학부)', '자료구조', '알고리즘', '이산수학'], ['GitHub 가입', 'Python 설치', '문제 1번 풀기', '문제 3번 풀기', '아이디와 이메일 보내기']]\n",
      "[['빅데이터프로그래밍(AI융합학부)', '자료구조', '알고리즘', '이산수학'], ['아이디와 이메일 보내기', '문제 3번 풀기', '문제 1번 풀기', 'Python 설치', 'GitHub 가입']]\n",
      "[['빅데이터프로그래밍(AI융합학부)', '자료구조', '알고리즘', '이산수학'], ['GitHub 가입', 'Python 설치', '문제 1번 풀기', '문제 3번 풀기', '아이디와 이메일 보내기']]\n",
      "[['빅데이터프로그래밍(AI융합학부)', '자료구조', '알고리즘', '이산수학'], ['GitHub 가입', 'Python 설치', '문제 1번 풀기', '아이디와 이메일 보내기']]\n"
     ]
    }
   ],
   "source": [
    "homework_list = [\"GitHub 가입\", \"Python 설치\", \"문제 1번 풀기\", \"문제 2번 풀기\"]\n",
    "this_week = [class_list, homework_list]\n",
    "print(this_week)\n",
    "print(this_week[1][2])\n",
    "\n",
    "# append는 리스트의 맨 뒤에 추가하는 함수이므로, 2d리스트에서도 맨 뒤쪽에 엘레멘트가 추가된다.\n",
    "homework_list.append(\"문제 3번 풀기\") # append를 통해 맨 뒤에 element를 추가할 수 있습니다.\n",
    "# 중요: list의 이름은 C++의 pointer같이 자료의 메모리상 위치를 다룹니다. \n",
    "# 그래서 this_week의 내용도 바뀌어 있습니다.\n",
    "print(this_week) \n",
    "\n",
    "homework_list.insert(1, \"아이디와 이메일 보내기\") \n",
    "# insert를 이용해 임의의 위치에 삽입할 수 있습니다.\n",
    "# 자료구조 들으신 분들은 아시겠지만 이런 임의 삽입 연산은 매우 느립니다.\n",
    "print(this_week)\n",
    "\n",
    "homework_list.remove(\"문제 2번 풀기\") # 같은 이름의 성분을 지웁니다\n",
    "print(this_week)\n",
    "\n",
    "sample_list = [\"A\", \"A\", \"B\", \"A\"]\n",
    "sample_list.remove(\"A\") # 이렇게 되면 모든 \"A\"를 지우지 않고, 맨 앞의 것만 지워집니다.\n",
    "print(sample_list)\n",
    "\n",
    "homework_list.sort() # 역순으로 뒤집을 수도 있습니다ㅇ\n",
    "print(this_week)\n",
    "\n",
    "homework_list.sort(reverse=True) # 역순으로 뒤집을 수도 있습니다\n",
    "print(this_week)\n",
    "\n",
    "homework_list.reverse() # 전체의 순서를 한 번에 뒤집을 수도 있습니다.\n",
    "print(this_week)\n",
    "\n",
    "del homework_list[3] # 3번 인덱스의 자료를 지웁니다. \n",
    "print(this_week)"
   ]
  },
  {
   "cell_type": "markdown",
   "metadata": {},
   "source": [
    "리스트도 더하기, 곱하기 연산이 정의되어 있습니다."
   ]
  },
  {
   "cell_type": "code",
   "execution_count": 21,
   "metadata": {},
   "outputs": [
    {
     "name": "stdout",
     "output_type": "stream",
     "text": [
      "['빅데이터프로그래밍(AI융합학부)', '자료구조', '알고리즘', '이산수학', 'GitHub 가입', 'Python 설치', '문제 1번 풀기', '아이디와 이메일 보내기']\n",
      "['빅데이터프로그래밍(AI융합학부)', '자료구조', '알고리즘', '이산수학', '빅데이터프로그래밍(AI융합학부)', '자료구조', '알고리즘', '이산수학']\n",
      "[['빅데이터프로그래밍(AI융합학부)', '자료구조', '알고리즘', '이산수학'], ['빅데이터프로그래밍(AI융합학부)', '자료구조', '알고리즘', '이산수학']]\n",
      "[['빅데이터프로그래밍(AI융합학부)', '치환됨', '알고리즘', '이산수학'], ['빅데이터프로그래밍(AI융합학부)', '치환됨', '알고리즘', '이산수학']]\n",
      "4\n",
      "치환됨\n",
      "빅데이터프로그래밍(AI융합학부)\n"
     ]
    }
   ],
   "source": [
    "#리스트로 더하기 빼기 곱하기 연산 등이 가능하다!\n",
    "\n",
    "this_week2 = class_list + homework_list\n",
    "print(this_week2)\n",
    "class_list2 = class_list * 2\n",
    "print(class_list2)\n",
    "\n",
    "# 주의할 것: 2d list를 *으로 정의하면 위와 다르게 아래처럼 작동합니다. \n",
    "class_list2 = [class_list] * 2\n",
    "print(class_list2)\n",
    "class_list2[0][1] = \"치환됨\"\n",
    "print(class_list2) # [0][1]과 [1][1]이 모두 class list라는 같은 주소를 가키키고 있어서 모두 바뀝니다\n",
    "\n",
    "print(len(class_list)) # 길이는 len으로 체크합니다\n",
    "print(max(class_list)) # 숫자 뿐 아니라 오름차순 정렬시 가장 마지막 element와 같은 것을 return해줍니다.\n",
    "print(min(class_list)) # 숫자 뿐 아니라 오름차순 정렬시 가장 마지막 element와 같은 것을 return해줍니다.\n"
   ]
  },
  {
   "cell_type": "code",
   "execution_count": 22,
   "metadata": {},
   "outputs": [
    {
     "data": {
      "text/plain": [
       "['확률및통계', 3, ['테스트', 1234], '선생님']"
      ]
     },
     "execution_count": 22,
     "metadata": {},
     "output_type": "execute_result"
    }
   ],
   "source": [
    "[\"확률및통계\", 3, [\"테스트\", 1234], \"선생님\"] # 같은 형태의 자료형이 아니더라도 list를 만들 수 있습니다"
   ]
  },
  {
   "cell_type": "markdown",
   "metadata": {},
   "source": [
    "## 5. Tuple\n",
    "Tuple도 리스트와 같이 변수들이 나열되어 있는 형태입니다.\n",
    "Tuple의 경우 리스트와 다르게 한번 정의되면 안의 내용을 바꿀 수 없습니다. "
   ]
  },
  {
   "cell_type": "code",
   "execution_count": 23,
   "metadata": {},
   "outputs": [
    {
     "name": "stdout",
     "output_type": "stream",
     "text": [
      "<class 'tuple'>\n",
      "<class 'list'>\n",
      "<class 'tuple'>\n",
      "4\n",
      "6\n",
      "1\n",
      "9\n"
     ]
    }
   ],
   "source": [
    "pi = (3, 1, 4, 1, 5, 9) # 이렇게 () 로 정의합니다\n",
    "print(type(pi))\n",
    "# 리스트와 typecast로 변환이 가능합니다.\n",
    "list_pi = list(pi)\n",
    "print(type(list_pi))\n",
    "tuple_pi = tuple(pi)\n",
    "print(type(tuple_pi))\n",
    "\n",
    "# list와 같이 아래처럼 잘 작동합니다. \n",
    "print(pi[2])\n",
    "print(len(pi))\n",
    "print(min(pi))\n",
    "print(max(pi))"
   ]
  },
  {
   "cell_type": "code",
   "execution_count": null,
   "metadata": {},
   "outputs": [],
   "source": [
    "# 튜플과 리스트는 순서가 있지만,\n",
    "# 셋과 딕셔너리는 순서가 없다."
   ]
  },
  {
   "cell_type": "markdown",
   "metadata": {},
   "source": [
    "## 6. set / dictionary\n",
    "\n",
    "set과 dictionary는 tuple/list와 다르게 순서가 없는 자료형입니다.\n",
    "\n",
    "set과 dictionary의 가장 큰 차이는 set은 값(value)만 가지고 있고, dictionary는 key-value pair로 저장되어 key를 통해 value를 조회할 수 있다는 점입니다.\n",
    "\n",
    "둘 다 { } 으로 정의합니다"
   ]
  },
  {
   "cell_type": "code",
   "execution_count": 24,
   "metadata": {},
   "outputs": [
    {
     "name": "stdout",
     "output_type": "stream",
     "text": [
      "<class 'set'>\n",
      "{'Mike', 'Jane', 'Tom'}\n",
      "<class 'set'>\n",
      "{'Mike', 'Jane', 'Tom'}\n",
      "<class 'dict'>\n",
      "20201010\n",
      "20201010\n",
      "{'Tom': 20201010, 'Mike': 20191219}\n",
      "{'Tom': 20201010, 'Mike': 20191219, 'Jane': 20172193}\n",
      "{'Tom': 20201010, 'Mike': 20192191, 'Jane': 20172193}\n",
      "3\n",
      "dict_items([('Tom', 20201010), ('Mike', 20192191), ('Jane', 20172193)])\n",
      "dict_keys(['Tom', 'Mike', 'Jane'])\n",
      "dict_values([20201010, 20192191, 20172193])\n"
     ]
    }
   ],
   "source": [
    "attendence_set = {\"Tom\", \"Mike\", \"Jane\"} # set\n",
    "print(type(attendence_set))\n",
    "print(attendence_set)\n",
    "\n",
    "attendence_set2 = {\"Tom\", \"Mike\", \"Jane\", \"Tom\"} # set\n",
    "print(type(attendence_set2)) # 순서는 없고 중복을 허용하지 않습니다.\n",
    "print(attendence_set2)\n",
    "\n",
    "student_number = {\"Tom\": 20201010, \"Mike\": 20191219, \"Jane\": 20172193} # dict\n",
    "print(type(student_number))\n",
    "\n",
    "# 딕셔너리는 인티저, 플롯, 스트링, 튜플을 key로 사용 가능하다. 다만 list는 내부의 값을 변경할 수 있으므로 사용 불가.\n",
    "\n",
    "\n",
    "print(student_number[\"Tom\"]) # 조회연산\n",
    "print(student_number.get(\"Tom\")) # 조회연산2\n",
    "\n",
    "del(student_number[\"Jane\"])\n",
    "print(student_number)\n",
    "\n",
    "student_number[\"Jane\"] = 20172193 # 없는 값을 이렇게 정의해줄 수도 있고\n",
    "print(student_number)\n",
    "\n",
    "student_number[\"Mike\"] = 20192191 # 있는 값을 교체할 수도 있습니다.\n",
    "print(student_number)\n",
    "\n",
    "print(len(student_number))\n",
    "# dictionary의 key로 int, string, flaot등 말고 tuple도 가질 수 있습니다 (list는 불가능합니다.)\n",
    "\n",
    "print(student_number.items())\n",
    "print(student_number.keys())\n",
    "print(student_number.values()) \n",
    "\n",
    "# 2.X에서는 iteritems, iterkeys, itervalues라는 iterator형태도 있었는데 3.x에서 삭제되었습니다."
   ]
  },
  {
   "cell_type": "markdown",
   "metadata": {},
   "source": [
    "## 7. 조건문 (conditions)\n",
    "\n",
    "if, elif, else 의 형태를 씁니다.\n",
    "\n",
    "논리연산은 아래의 5가지가 있습니다\n",
    "\n",
    "```python\n",
    "== \n",
    "!= \n",
    ">\n",
    ">=\n",
    "<= \n",
    "```"
   ]
  },
  {
   "cell_type": "code",
   "execution_count": 25,
   "metadata": {},
   "outputs": [
    {
     "name": "stdout",
     "output_type": "stream",
     "text": [
      "학업장려 장학금을 수여받을 수 있습니다\n",
      "우수 졸업입니다.\n",
      "2016학번 이외의 졸업자는 졸업식 전에 과사무실에 방문해야 합니다\n"
     ]
    }
   ],
   "source": [
    "my_gpa = 3.5\n",
    "my_admission_year = 2017\n",
    "\n",
    "if(my_gpa > 4.0):\n",
    "    print(\"당신은 최우수 장학금을 수여받을 수 있습니다\")\n",
    "else:\n",
    "    print(\"학업장려 장학금을 수여받을 수 있습니다\")\n",
    "    \n",
    "if(my_gpa >= 4.0):\n",
    "    print(\"최우수 졸업입니다\")\n",
    "elif(my_gpa <= 2.0):\n",
    "    print(\"졸업을 축하합니다\")\n",
    "else:\n",
    "    print(\"우수 졸업입니다.\")\n",
    "    \n",
    "if(my_gpa >= 4.0 and my_admission_year >= 2018):\n",
    "    print(\"졸업시에 총장님의 악수를 받을 수 있습니다\")\n",
    "elif(my_gpa == 4.3 or my_admission_year < 2000):\n",
    "    print(\"졸업 대표가 되셨습니다\")\n",
    "elif not(my_admission_year == 2016): # not으로 조건이 \"옳지 않을 때\"를 표현할 수 있습니다\n",
    "    print(\"2016학번 이외의 졸업자는 졸업식 전에 과사무실에 방문해야 합니다\")\n",
    "else:\n",
    "    print(\"2016학번 여러분의 졸업을 축하합니다\")"
   ]
  },
  {
   "cell_type": "markdown",
   "metadata": {},
   "source": [
    "## 8. For loop\n",
    "for문을 사용하는 법을 알아봅니다.\n",
    "for문은 종료 횟수를 우리가 정확하게 측정 가능한 경우에 쓰면 좋습니다"
   ]
  },
  {
   "cell_type": "code",
   "execution_count": 26,
   "metadata": {},
   "outputs": [
    {
     "name": "stdout",
     "output_type": "stream",
     "text": [
      "0 1 2 3 4 5 6 7 8 9 \n",
      "\n"
     ]
    }
   ],
   "source": [
    "# range는 이터레이터를 반환해준다.\n",
    "for x in range(0, 10): # range(a,b) 는 a, a+1, ..., b-1 까지를 반환합니다\n",
    "    print(x, \"\", end=\"\")\n",
    "print(\"\\n\")"
   ]
  },
  {
   "cell_type": "code",
   "execution_count": 27,
   "metadata": {},
   "outputs": [
    {
     "name": "stdout",
     "output_type": "stream",
     "text": [
      "GitHub 가입\n",
      "Python 설치\n",
      "문제 1번 풀기\n",
      "문제 2번 풀기\n",
      "GitHub 가입\n",
      "Python 설치\n",
      "문제 1번 풀기\n",
      "문제 2번 풀기\n"
     ]
    }
   ],
   "source": [
    "homework_list = [\"GitHub 가입\", \"Python 설치\", \"문제 1번 풀기\", \"문제 2번 풀기\"]\n",
    "for y in homework_list: # 리스트를 넣으면 리스트의 element 하나씩 반복문에 사용됩니다\n",
    "    print(y)\n",
    "    \n",
    "for y in [\"GitHub 가입\", \"Python 설치\", \"문제 1번 풀기\", \"문제 2번 풀기\"]:\n",
    "    print(y) # 이렇게 바로 list를 넣어도 작동합니다"
   ]
  },
  {
   "cell_type": "code",
   "execution_count": 28,
   "metadata": {},
   "outputs": [
    {
     "name": "stdout",
     "output_type": "stream",
     "text": [
      "1\n",
      "2\n",
      "3\n",
      "10\n",
      "20\n",
      "30\n",
      "100\n",
      "200\n",
      "300\n"
     ]
    }
   ],
   "source": [
    "numbers = [[1, 2, 3], [10, 20, 30], [100, 200, 300]]\n",
    "for i in range(len(numbers)):\n",
    "    for j in range(len(numbers[i])):\n",
    "        print(numbers[i][j])"
   ]
  },
  {
   "cell_type": "code",
   "execution_count": 29,
   "metadata": {},
   "outputs": [
    {
     "name": "stdout",
     "output_type": "stream",
     "text": [
      "0 1 2 3 \n",
      "\n",
      "1 3 5 7 9 \n",
      "\n"
     ]
    }
   ],
   "source": [
    "for x in range(0, 10): # range(a,b) 는 a, a+1, ..., b-1 까지를 반환합니다\n",
    "    print(x, \"\", end=\"\")\n",
    "    if(x == 3):\n",
    "        break # 이렇게 중간에 loop를 멈출 수 있습니다       \n",
    "print(\"\\n\")\n",
    "\n",
    "for x in range(0, 10): # range(a,b) 는 a, a+1, ..., b-1 까지를 반환합니다\n",
    "    if(x % 2 == 0):\n",
    "        continue # 이렇게 contiunue를 통해 아래의 구문을 넘길 수 있습니다\n",
    "    print(x, \"\", end=\"\")\n",
    "    \n",
    "print(\"\\n\")"
   ]
  },
  {
   "cell_type": "code",
   "execution_count": null,
   "metadata": {},
   "outputs": [],
   "source": [
    "# psss -> 루프 조건에서 아무것도 하고싶지 않은 경우 사용\n",
    "# break, continue, pass가 있음"
   ]
  },
  {
   "cell_type": "markdown",
   "metadata": {},
   "source": [
    "## 9. While loop\n",
    "종료 횟수를 측정하기 힘들 때는 while을 써 봅시다"
   ]
  },
  {
   "cell_type": "code",
   "execution_count": 30,
   "metadata": {},
   "outputs": [],
   "source": [
    "import random #랜덤 제너레이터 모듈 임포트\n",
    "# (pseudo) random number generater를 불러옵니다\n",
    "# python의 기본 random number generator는 mersenne twister 인지라 성능이 좋습니다."
   ]
  },
  {
   "cell_type": "code",
   "execution_count": 31,
   "metadata": {},
   "outputs": [
    {
     "name": "stdout",
     "output_type": "stream",
     "text": [
      "10\n",
      "65\n",
      "9\n",
      "57\n",
      "4\n"
     ]
    }
   ],
   "source": [
    "randnum = random.randrange(0, 100)\n",
    "while(randnum < 90):\n",
    "    print(randnum)\n",
    "    randnum = random.randrange(0, 100)"
   ]
  },
  {
   "cell_type": "code",
   "execution_count": 32,
   "metadata": {},
   "outputs": [
    {
     "name": "stdout",
     "output_type": "stream",
     "text": [
      "1\n",
      "3\n",
      "5\n"
     ]
    }
   ],
   "source": [
    "index = 0\n",
    "while(index < 10):\n",
    "    index += 1\n",
    "    if(index % 2 == 0):\n",
    "        continue\n",
    "    elif(index == 7):\n",
    "        break\n",
    "    print(index)        \n",
    "    "
   ]
  },
  {
   "cell_type": "markdown",
   "metadata": {},
   "source": [
    "## 10. Define functions\n",
    "\n",
    "function은 def로 정의합니다."
   ]
  },
  {
   "cell_type": "code",
   "execution_count": 33,
   "metadata": {},
   "outputs": [
    {
     "name": "stdout",
     "output_type": "stream",
     "text": [
      "11\n"
     ]
    }
   ],
   "source": [
    "def addNumber(number1, number2):\n",
    "    total = number1 + number2\n",
    "    return total\n",
    "print(addNumber(1, 10))\n",
    "#print(total) # function 안에 정의된 변수는 function 안에서만 쓰입니다"
   ]
  },
  {
   "cell_type": "code",
   "execution_count": 34,
   "metadata": {},
   "outputs": [
    {
     "name": "stdout",
     "output_type": "stream",
     "text": [
      "71\n"
     ]
    }
   ],
   "source": [
    "# 아래처럼 default parameter를 정의할 수 있습니다.\n",
    "def addNumber2(number1, number2 = 100, number3 = 30):\n",
    "    total = number1 + number2 - number3\n",
    "    return total\n",
    "print(addNumber2(1))"
   ]
  },
  {
   "cell_type": "code",
   "execution_count": 35,
   "metadata": {},
   "outputs": [
    {
     "name": "stdout",
     "output_type": "stream",
     "text": [
      "-19\n"
     ]
    }
   ],
   "source": [
    "# 일반적으로 argument를 넣으면 함수에 정의된 순서대로 들어갑니다.\n",
    "print(addNumber2(1, 10))"
   ]
  },
  {
   "cell_type": "code",
   "execution_count": 36,
   "metadata": {},
   "outputs": [
    {
     "name": "stdout",
     "output_type": "stream",
     "text": [
      "91\n"
     ]
    }
   ],
   "source": [
    "# 아래처럼 keyword argument를 정의할 수도 있습니다.\n",
    "print(addNumber2(1, number3 = 10))"
   ]
  },
  {
   "cell_type": "code",
   "execution_count": 37,
   "metadata": {},
   "outputs": [],
   "source": [
    "# 함수를 호출할때 아규먼트와 키워드 아규먼트의 갯수를 특정지을수 없을때는 *args와 **kwargs를 씁니다\n",
    "# kwargs : keyword argument\n",
    "\n",
    "def addNumber3(*args, **kwargs):\n",
    "    print(type(args), args)\n",
    "    print(type(kwargs), kwargs)\n",
    "    return sum(args) + sum(list(kwargs.values()))"
   ]
  },
  {
   "cell_type": "code",
   "execution_count": 38,
   "metadata": {},
   "outputs": [
    {
     "name": "stdout",
     "output_type": "stream",
     "text": [
      "<class 'tuple'> (1, 2, 3, 4, 5)\n",
      "<class 'dict'> {'num1': 6, 'num2': 7}\n"
     ]
    },
    {
     "data": {
      "text/plain": [
       "28"
      ]
     },
     "execution_count": 38,
     "metadata": {},
     "output_type": "execute_result"
    }
   ],
   "source": [
    "addNumber3(1, 2, 3, 4, 5, num1=6, num2=7)"
   ]
  },
  {
   "cell_type": "code",
   "execution_count": 39,
   "metadata": {},
   "outputs": [
    {
     "data": {
      "text/plain": [
       "-99"
      ]
     },
     "execution_count": 39,
     "metadata": {},
     "output_type": "execute_result"
    }
   ],
   "source": [
    "# dict를 이용해서 아래처럼 할 수도 있습니다\n",
    "data = {\n",
    "    \"number2\": 100,\n",
    "    \"number3\": 200,\n",
    "}\n",
    "addNumber2(1, **data) # addNumber2(1, number2=100, number3=200) 과 같습니다"
   ]
  },
  {
   "cell_type": "code",
   "execution_count": null,
   "metadata": {},
   "outputs": [],
   "source": [
    "# 함수 내부에서 글로벌 변수를 정의하고 싶은 경우 global을 붙이면 됨 -> 다만 자주 안쓰는게좋다.\n"
   ]
  },
  {
   "cell_type": "markdown",
   "metadata": {},
   "source": [
    "## 11. String operations\n",
    "python은 아주 강력한 문자열 처리 기능을 지원합니다.\n",
    "\n",
    "python3는 기본적으로 unicode로 처리하므로 한국어 처리가 잘 되는 편입니다"
   ]
  },
  {
   "cell_type": "code",
   "execution_count": 40,
   "metadata": {},
   "outputs": [
    {
     "name": "stdout",
     "output_type": "stream",
     "text": [
      "이상을 우\n",
      "름이 없고\n",
      "이상을 우러르는 우리의 기상 저높은 백두산과 다름이 없고진리를 사모하는 우리의 마음\n",
      "나는 윤진혁 이고, 숭실대학교 교수 입니다 2020년 부터 숭실대학교에서 일합니다\n",
      "나는 윤진혁 이고, 숭실대학교 교수 입니다 2020년 부터 숭실대학교에서 일합니다\n"
     ]
    }
   ],
   "source": [
    "ssu_song = \"이상을 우러르는 우리의 기상 저높은 백두산과 다름이 없고\" # 교가입니다 -_-\n",
    "# string은 list처럼 쓸 수 있습니다. \n",
    "\n",
    "print(ssu_song[0:5]) # 앞부터 자르면 이렇게 되고\n",
    "print(ssu_song[-5:]) # -를 통해서 index를 뒤부터 셀 수 있습니다\n",
    "print(ssu_song + \"진리를 사모하는 우리의 마음\") # -를 통해서 index를 뒤부터 셀 수 있습니다\n",
    "\n",
    "name = \"윤진혁\"\n",
    "myclass = \"교수\"\n",
    "mystartingyear = 2020\n",
    "print(\"나는 %s 이고, 숭실대학교 %s 입니다 %d년 부터 숭실대학교에서 일합니다\" \n",
    "      % (name, myclass, mystartingyear))\n",
    "\n",
    "# python 3에는 fstring이라는 조금 더 진보한 방법도 있습니다 (추천)\n",
    "# f 스트링을 쓰자!\n",
    "print(f\"나는 {name} 이고, 숭실대학교 {myclass} 입니다 {mystartingyear}년 부터 숭실대학교에서 일합니다\")"
   ]
  },
  {
   "cell_type": "markdown",
   "metadata": {},
   "source": [
    "영어는 조금 더 강력한 기능들이 있습니다"
   ]
  },
  {
   "cell_type": "code",
   "execution_count": 41,
   "metadata": {},
   "outputs": [
    {
     "name": "stdout",
     "output_type": "stream",
     "text": [
      "Every night in my dreams, i see you, i feel you - my heart will go on\n",
      "every night in my dreams, i see you, i feel you - my heart will go on\n",
      "EVERY NIGHT IN MY DREAMS, I SEE YOU, I FEEL YOU - MY HEART WILL GO ON\n",
      "False\n",
      "False\n",
      "Every night in my dreams, I see you, I feel you - my heart will go on by Celine Dion\n",
      "18\n",
      "['Every', 'night', 'in', 'my', 'dreams,', 'I', 'see', 'you,', 'I', 'feel', 'you', '-', 'my', 'heart', 'will', 'go', 'on']\n",
      "['Every night in my dreams', ' I see you', ' I feel you - my heart will go on']\n",
      "Somewhere over the rainbow, way up high\n",
      "     Somewhere over the rainbow, way up high\n",
      "Somewhere over the rainbow, way up high     \n"
     ]
    }
   ],
   "source": [
    "pop_song = \"Every night in my dreams, I see you, I feel you - my heart will go on\" # by Celine Dion\n",
    "\n",
    "print(pop_song.capitalize()) # 첫 글자만 대문자로\n",
    "print(pop_song.lower()) # 전부 소문자로\n",
    "print(pop_song.upper()) # 전부 대문자로\n",
    "\n",
    "print(pop_song.isalpha()) # alphabet으로 되어있는지\n",
    "print(pop_song.isalnum()) # alphabet과 숫자로 되어있는지 트루 펄스 값이 반환된다.\n",
    "\n",
    "print(pop_song.replace(\"on\", \"on by Celine Dion\")) # 치환\n",
    "print(pop_song.find(\"dreams\")) # 찾고 위치의 index를 반환\n",
    "print(pop_song.split()) # string을 분할해서 list of string으로 만들어줍니다. 기본은 공백으로 분할\n",
    "print(pop_song.split(\",\")) # 다른 문자로 분할할 수 있습니다.\n",
    "\n",
    "pop_song2 = \"     Somewhere over the rainbow, way up high     \"\n",
    "print(pop_song2.strip()) #양쪽의 공백을 없애준다\n",
    "print(pop_song2.rstrip()) # 오른쪽의 공백을 없애준다\n",
    "print(pop_song2.lstrip()) # 왼쪽의 공백을 없애준다"
   ]
  },
  {
   "cell_type": "markdown",
   "metadata": {},
   "source": [
    "## 12. File IO\n",
    "파일 입출력 방법을 배웁니다"
   ]
  },
  {
   "cell_type": "code",
   "execution_count": 42,
   "metadata": {},
   "outputs": [
    {
     "name": "stdout",
     "output_type": "stream",
     "text": [
      "w\n",
      "./test.txt\n"
     ]
    }
   ],
   "source": [
    "test_file = open(\"./test.txt\", \"w\") # 쓰기는 이렇게 하면 됩니다. r = 읽기.. b = 바이너리 모드\n",
    "print(test_file.mode)\n",
    "print(test_file.name)\n",
    "test_file.write(\"안녕하세요?\")\n",
    "test_file.close()"
   ]
  },
  {
   "cell_type": "code",
   "execution_count": 43,
   "metadata": {},
   "outputs": [
    {
     "name": "stdout",
     "output_type": "stream",
     "text": [
      "r\n",
      "./test.txt\n",
      "안녕하세요?\n"
     ]
    }
   ],
   "source": [
    "test_file = open(\"./test.txt\", \"r\")\n",
    "print(test_file.mode)\n",
    "print(test_file.name)\n",
    "text_in_file = test_file.read()\n",
    "print(text_in_file)\n",
    "test_file.close()"
   ]
  },
  {
   "cell_type": "code",
   "execution_count": 44,
   "metadata": {},
   "outputs": [],
   "source": [
    "import os\n",
    "os.remove(\"./test.txt\") # 파일 삭제도 가능합니다"
   ]
  },
  {
   "cell_type": "code",
   "execution_count": 45,
   "metadata": {},
   "outputs": [],
   "source": [
    "import csv # comma separated file을 다루는 methods들을 제공합니다"
   ]
  },
  {
   "cell_type": "markdown",
   "metadata": {},
   "source": [
    "## 13. class와 object\n",
    "\n",
    "객체지향 프로그래밍을 위한 class와 object에 대해 알아봅시다"
   ]
  },
  {
   "cell_type": "code",
   "execution_count": 46,
   "metadata": {},
   "outputs": [],
   "source": [
    "class Student:\n",
    "    '''학생 정보에 대한 클래스입니다''' #docstring을 통해 클래스에 대한 문서화를 한다.\n",
    "    \n",
    "    __name = \"\" # python은 pritave 변수를 __으로 표현합니다 _인 경우는 protected 입니다\n",
    "    __id = 0 #일반적으로 객체지향에서는 private로 만드므로 __를 써준다!\n",
    "    __gpa = 0.0\n",
    "    __department = \"\"\n",
    "    \n",
    "    # class 내에 정의된 함수를 method라고 합니다.\n",
    "    # class의 methods는 무조건 첫 번째 인자가 self 여야 합니다. \n",
    "    # https://wikidocs.net/1742 이 문서를 읽어보세요\n",
    "   \n",
    "    # 생성자 함수 만들어주기\n",
    "    def __init__(self, name, id, gpa, department):\n",
    "        self.__name = name\n",
    "        self.__id = id\n",
    "        self.__gpa = gpa\n",
    "        self.__department = department\n",
    "          \n",
    "    # setter와 getter 만들기\n",
    "    # self = this\n",
    "    def set_name(self, name): # self는 c++의 this같은 역할을 합니다.\n",
    "        self.__name = name\n",
    "    \n",
    "    def set_id(self, id):\n",
    "        self.__id = id\n",
    "\n",
    "    def set_gpa(self, gpa):\n",
    "        self.__gpa = gpa\n",
    "        \n",
    "    def set_department(self, department):\n",
    "        self.__department = department\n",
    "\n",
    "    def get_name(self):\n",
    "        return self.__name\n",
    "\n",
    "    def get_id(self):\n",
    "        return self.__id\n",
    "    \n",
    "    def get_gpa(self):\n",
    "        return self.__gpa\n",
    "       \n",
    "    def get_department(self):\n",
    "        return self.__department\n",
    "    \n",
    "    def get_type(self):\n",
    "        print(\"Student\")\n",
    "    \n",
    "    def toString(self):\n",
    "        return f\"학생 {self.__name}은(는) 학번이 {self.__id}이고, 평균학점은 {self.__gpa}이며 {self.__department}를 다닙니다\""
   ]
  },
  {
   "cell_type": "code",
   "execution_count": 47,
   "metadata": {},
   "outputs": [],
   "source": [
    "#위의 함수들을 토대로 student 클래스 타입의 변수를 만들어서 생성해준다.\n",
    "jinhyuk = Student(\"윤진혁\", 20202020, 4.3, \"스시소\")"
   ]
  },
  {
   "cell_type": "code",
   "execution_count": 48,
   "metadata": {},
   "outputs": [
    {
     "data": {
      "text/plain": [
       "'학생 윤진혁은(는) 학번이 20202020이고, 평균학점은 4.3이며 스시소를 다닙니다'"
      ]
     },
     "execution_count": 48,
     "metadata": {},
     "output_type": "execute_result"
    }
   ],
   "source": [
    "jinhyuk.toString()"
   ]
  },
  {
   "cell_type": "code",
   "execution_count": 49,
   "metadata": {},
   "outputs": [],
   "source": [
    "class UnionStudent(Student): #학생회장인지 여부 Student를 상속받는 클래스이다.\n",
    "    __unionclass = \"\" #멤버변수 생성\n",
    "    \n",
    "    \n",
    "    #마찬가지로 생성자, setter, getter를 만들어준다.\n",
    "    def __init__(self, name, id, gpa, department, unionclass):\n",
    "        self.__unionclass = unionclass\n",
    "        super(UnionStudent, self).__init__(name, id, gpa, department) # 부모 클래스를 초기화\n",
    "        \n",
    "    def set_class(self, unionclass): \n",
    "        self.__unionclass = unionclass\n",
    "    \n",
    "    def get_class(self): \n",
    "        return self.__unionclass\n",
    "    \n",
    "    def get_type(self):\n",
    "        print(\"Student Union\")\n",
    "\n",
    "    def toString(self):\n",
    "        return f\"학생 {self.get_name()}은(는) 학번이 {self.get_id()}이고, 평균학점은 {self.get_gpa()}이며 {self.get_department()}를 다니는 학생회 {self.__unionclass}입니다\""
   ]
  },
  {
   "cell_type": "code",
   "execution_count": 50,
   "metadata": {},
   "outputs": [
    {
     "data": {
      "text/plain": [
       "'학생 Mike은(는) 학번이 20202021이고, 평균학점은 4.3이며 스시소를 다니는 학생회 과대표입니다'"
      ]
     },
     "execution_count": 50,
     "metadata": {},
     "output_type": "execute_result"
    }
   ],
   "source": [
    "mike = UnionStudent(\"Mike\", 20202021, 4.3, \"스시소\", \"과대표\")\n",
    "mike.toString()"
   ]
  },
  {
   "cell_type": "markdown",
   "metadata": {},
   "source": [
    "## 14. Inline operations\n",
    "\n",
    "Python을 Python답게 해 주는 것 중 대표적인 것이 inline for문과 if문일 것입니다. 이를 간단히 알아봅시다."
   ]
  },
  {
   "cell_type": "code",
   "execution_count": 51,
   "metadata": {},
   "outputs": [
    {
     "name": "stdout",
     "output_type": "stream",
     "text": [
      ",\n",
      "3\n",
      "['2', '4', '6']\n",
      "[2, 2, 6, 4, 10, 6]\n",
      "{2: 200, 4: 400}\n"
     ]
    }
   ],
   "source": [
    "num_list = [1, 2, 3, 4, 5, 6] #인티저 값이 들어가 있는 리스트를 생성한 뒤 스트링으로 전부 값을 바꾸고 싶다면!?\n",
    "# num_list = list(range(6)) # 이렇게 간단히 정의 할 수도 있습니다.\n",
    "\n",
    "# 이 리스트의 element를 전부 str로 변환하고 싶다고 해 보죠\n",
    "str(num_list) # 이렇게 하면 한 개의 string이 됩니다. -> 뭉텅이로 스트링이 되어버림\n",
    "print(str(num_list)[2]) # 그래서 index 2의 \"문자\" 인 , 이 출력되죠!\n",
    "# 이걸 elementwise하게 바꾸는 것은 아래처럼 하시면 됩니다\n",
    "str_list = [str(x) for x in num_list] # -> inline 오퍼레이션, 각각의 x를 스트링으로 치환해달라!\n",
    "print(num_list[2]) # 원하는대로 3이 출력됩니다.\n",
    "\n",
    "# 만약 짝수만 가져와서 string으로 바꾸고 싶으면 어떻게 할까요?\n",
    "part_str_list = [str(x) for x in num_list if x%2 == 0] #조건을 붙여서 일부만 스트링으로 변경할 수도 있다.\n",
    "print(part_str_list)\n",
    "\n",
    "# 짝수는 그대로, 홀수는 두 배로 곱하고 싶다면?\n",
    "print([x if x%2==0 else x*2 for x in num_list]) # if/else를 모두 쓰려면 순서가 조금 다릅니다.\n",
    "\n",
    "num_dict = {1: 100, 2: 200, 3:300, 4:400} #딕셔너리 형태여도 set의 형태여도 str으로 변경할 수 있다\n",
    "num_dict_filtered = {k: v for k, v in num_dict.items() if k%2 == 0} # dict나 set도 같은 방식으로 가능합니다.\n",
    "print(num_dict_filtered)"
   ]
  },
  {
   "cell_type": "markdown",
   "metadata": {},
   "source": [
    "## 15. 마치면서\n",
    "이 이외에도 Python은 정말 많은 강력한 기능이 있습니다.\n",
    "\n",
    "Python은 사람의 생각하는 논리와 많은 부분이 일치되도록 구성되어 있어서, \"이게 되나\" 싶은 대로 쓰면 되는 경우가 아주 많습니다. 여러가지 실험을 많이 해 보시길 바랍니다!"
   ]
  }
 ],
 "metadata": {
  "kernelspec": {
   "display_name": "Python 3",
   "language": "python",
   "name": "python3"
  },
  "language_info": {
   "codemirror_mode": {
    "name": "ipython",
    "version": 3
   },
   "file_extension": ".py",
   "mimetype": "text/x-python",
   "name": "python",
   "nbconvert_exporter": "python",
   "pygments_lexer": "ipython3",
   "version": "3.7.3"
  }
 },
 "nbformat": 4,
 "nbformat_minor": 4
}
