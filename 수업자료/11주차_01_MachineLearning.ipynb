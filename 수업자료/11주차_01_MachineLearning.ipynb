{
 "cells": [
  {
   "cell_type": "markdown",
   "metadata": {
    "slideshow": {
     "slide_type": "slide"
    }
   },
   "source": [
    "# 빅데이터프로그래밍\n",
    "       \n",
    "       \n",
    "11주 1강: Machine Learning Basics\n",
    "<br/><br/>\n",
    "\n",
    "숭실대학교<br/>\n",
    "AI융합학부<br/>\n",
    "윤진혁<br/>"
   ]
  },
  {
   "cell_type": "markdown",
   "metadata": {
    "slideshow": {
     "slide_type": "slide"
    }
   },
   "source": [
    "# Today\n",
    "- 머신러닝이란 무엇인가\n",
    "- 회귀분석?\n",
    "- 선형회귀분석\n",
    "- 로지스틱회귀분석"
   ]
  },
  {
   "cell_type": "markdown",
   "metadata": {
    "slideshow": {
     "slide_type": "slide"
    }
   },
   "source": [
    "# What Is Machine Learning?"
   ]
  },
  {
   "cell_type": "markdown",
   "metadata": {
    "slideshow": {
     "slide_type": "fragment"
    }
   },
   "source": [
    "## Categories of Machine Learning\n",
    "\n",
    "* 머신러닝은 크게는 두가지로 나뉩니다.\n",
    " * 지도학습: 정답을 알려줌\n",
    " * 비지도학습: 정답을 알려주지 않음"
   ]
  },
  {
   "cell_type": "markdown",
   "metadata": {
    "slideshow": {
     "slide_type": "subslide"
    }
   },
   "source": [
    "<img src = \"Figs/ml_map.png\" width=1024>"
   ]
  },
  {
   "cell_type": "markdown",
   "metadata": {
    "slideshow": {
     "slide_type": "subslide"
    }
   },
   "source": [
    "### Classification: Predicting discrete labels\n",
    "![](Figs/05.01-classification-3.png)"
   ]
  },
  {
   "cell_type": "markdown",
   "metadata": {
    "slideshow": {
     "slide_type": "subslide"
    }
   },
   "source": [
    "### Regression: Predicting continuous labels\n",
    "![](Figs/05.01-regression-1.png)"
   ]
  },
  {
   "cell_type": "markdown",
   "metadata": {
    "slideshow": {
     "slide_type": "subslide"
    }
   },
   "source": [
    "![](Figs/05.01-regression-2.png)"
   ]
  },
  {
   "cell_type": "markdown",
   "metadata": {
    "slideshow": {
     "slide_type": "subslide"
    }
   },
   "source": [
    "![](Figs/05.01-regression-3.png)"
   ]
  },
  {
   "cell_type": "markdown",
   "metadata": {
    "slideshow": {
     "slide_type": "subslide"
    }
   },
   "source": [
    "### Clustering: Inferring labels on unlabeled data\n",
    "![](Figs/05.01-clustering-1.png)"
   ]
  },
  {
   "cell_type": "markdown",
   "metadata": {
    "slideshow": {
     "slide_type": "subslide"
    }
   },
   "source": [
    "![](Figs/05.01-clustering-2.png)"
   ]
  },
  {
   "cell_type": "markdown",
   "metadata": {
    "slideshow": {
     "slide_type": "subslide"
    }
   },
   "source": [
    "### Dimensionality reduction: Inferring structure of unlabeled data\n",
    "![](figs/05.01-dimesionality-1.png)"
   ]
  },
  {
   "cell_type": "markdown",
   "metadata": {
    "slideshow": {
     "slide_type": "subslide"
    }
   },
   "source": [
    "Isomap algorithm을 사용하면 아래처럼 됩니다.\n",
    "![](figs/05.01-dimesionality-2.png)"
   ]
  },
  {
   "cell_type": "markdown",
   "metadata": {
    "slideshow": {
     "slide_type": "subslide"
    }
   },
   "source": [
    "## Short Summary\n",
    "\n",
    "- *지도 학습* : 레이블이 지정된 학습 데이터를 기반으로 레이블을 예측할 수있는 모델\n",
    " - *분류* : 라벨을 두 개 이상의 개별 카테고리로 예측하는 모델\n",
    " - *회귀* : 연속 레이블을 예측하는 모델\n",
    "  \n",
    "- *비지도 학습* : 라벨이없는 데이터의 구조를 식별하는 모델\n",
    " - *클러스터링* : 데이터에서 고유 한 그룹을 감지하고 식별하는 모델\n",
    " - *차원 축소* : 고차원 데이터에서 저 차원 구조를 감지하고 식별하는 모델\n",
    " \n",
    "짧은 시간이라 강의에 모든 것을 할 수는 없고, 지도학습, 그리고 분류와 회귀 (의 일부 알고리즘에) 집중해서 공부해 봅시다. "
   ]
  },
  {
   "cell_type": "markdown",
   "metadata": {
    "slideshow": {
     "slide_type": "slide"
    }
   },
   "source": [
    "# Linear Regression"
   ]
  },
  {
   "cell_type": "code",
   "execution_count": null,
   "metadata": {},
   "outputs": [],
   "source": [
    "# 선형회귀 문제\n",
    "# 변수를 입력하고, 값을 계산하는 문제\n",
    "# 선형함수를 사용하느 회귀가 linear regression"
   ]
  },
  {
   "cell_type": "markdown",
   "metadata": {
    "slideshow": {
     "slide_type": "fragment"
    }
   },
   "source": [
    "특정한 입력변수값을 사용하여 출력변수의 값을 계산하는 것을 예측(prediction)문제라고 합니다. \n",
    "\n",
    "위에서 보았듯, 예측문제 중에서 출력변수의 값이 연속값인 문제를 회귀(regression) 또는 회귀분석(regression analysis) 문제라고 합니다."
   ]
  },
  {
   "cell_type": "markdown",
   "metadata": {
    "slideshow": {
     "slide_type": "subslide"
    }
   },
   "source": [
    "### 보스턴 집값 예측"
   ]
  },
  {
   "cell_type": "markdown",
   "metadata": {
    "slideshow": {
     "slide_type": "fragment"
    }
   },
   "source": [
    "sklearn 패키지의 datasets 서브패키지는 회귀분석을 공부하기 위한 예제를 제공합니다. 그 중 `load_boston()` 명령으로 받을 수 있는 보스턴 주택 가격 데이터는 다음과 같은 데이터입니다. 보스턴의 506개 타운(town)의 13개 독립변수값로부터 해당 타운의 주택가격 중앙값을 예측하는 문제를 풀 수 있습니다."
   ]
  },
  {
   "cell_type": "markdown",
   "metadata": {
    "school_cell_uuid": "4ceca8c56f62463582dad4be74c43294",
    "slideshow": {
     "slide_type": "subslide"
    }
   },
   "source": [
    "* 독립변수\n",
    " * `CRIM`: 범죄율\n",
    " * `INDUS`: 비소매상업지역 면적 비율\n",
    " * `NOX`: 일산화질소 농도 \n",
    " * `RM`: 주택당 방 수\n",
    " * `LSTAT`: 인구 중 하위 계층 비율\n",
    " * `B`: 인구 중 흑인 비율\n",
    " * `PTRATIO`: 학생/교사 비율\n",
    " * `ZN`: 25,000 평방피트를 초과 거주지역 비율\n",
    " * `CHAS`: 찰스강의 경계에 위치한 경우는 1, 아니면 0\n",
    " * `AGE`: 1940년 이전에 건축된 주택의 비율\n",
    " * `RAD`: 방사형 고속도로까지의 거리\n",
    " * `DIS`: 직업센터의 거리\n",
    " * `TAX`:\t재산세율\n",
    " \n",
    "* 종속변수\n",
    " * 보스턴 506개 타운의 1978년 주택 가격 중앙값 (단위 1,000 달러)"
   ]
  },
  {
   "cell_type": "markdown",
   "metadata": {
    "slideshow": {
     "slide_type": "subslide"
    }
   },
   "source": [
    "`load_boston` 명령으로 받는 데이터 집합은 `Bunch` 라는 클래스 객체로 생성됩니다. 이 클래스 객체는 다음과 같은 속성을 가집니다.\n",
    "\n",
    "\n",
    " * `data`: 독립변수 `ndarray` 배열\n",
    " * `target`: 종속변수 `ndarray` 배열\n",
    " * `feature_names`: 독립변수 이름 리스트\n",
    " * `target_names`: (옵션) 종속변수 이름 리스트\n",
    " * `DESCR`: (옵션) 자료에 대한 설명 문자열"
   ]
  },
  {
   "cell_type": "code",
   "execution_count": 1,
   "metadata": {
    "school_cell_uuid": "73141a8b99d74a04a624e6959187e298",
    "slideshow": {
     "slide_type": "subslide"
    }
   },
   "outputs": [
    {
     "data": {
      "text/plain": [
       "['DESCR', 'data', 'feature_names', 'filename', 'target']"
      ]
     },
     "execution_count": 1,
     "metadata": {},
     "output_type": "execute_result"
    }
   ],
   "source": [
    "import pandas as pd\n",
    "from sklearn.datasets import load_boston\n",
    "import seaborn as sns\n",
    "from matplotlib import pyplot as plt\n",
    "import numpy as np\n",
    "\n",
    "boston = load_boston()\n",
    "dir(boston)"
   ]
  },
  {
   "cell_type": "markdown",
   "metadata": {
    "slideshow": {
     "slide_type": "subslide"
    }
   },
   "source": [
    "분석할 데이터는 pandas 일단 데이터프레임 형태로 만들겠습니다. 여기에서는 독립변수 행렬을 `dfX`로, 종속변수 벡터를 `dfy`로 만들겠습니다. 종속변수의 이름은 MEDV로 지정하겠습니다."
   ]
  },
  {
   "cell_type": "code",
   "execution_count": 2,
   "metadata": {
    "slideshow": {
     "slide_type": "fragment"
    }
   },
   "outputs": [],
   "source": [
    "dfX = pd.DataFrame(boston.data, columns=boston.feature_names)\n",
    "dfy = pd.DataFrame(boston.target, columns=[\"MEDV\"])"
   ]
  },
  {
   "cell_type": "markdown",
   "metadata": {
    "slideshow": {
     "slide_type": "subslide"
    }
   },
   "source": [
    "독립변수과 종속변수 데이터프레임을 하나의 데이터프레임으로 묶어두면 편리합니다."
   ]
  },
  {
   "cell_type": "code",
   "execution_count": 3,
   "metadata": {
    "school_cell_uuid": "5e23d5bb33884a119fa1f345bda495c0",
    "slideshow": {
     "slide_type": "fragment"
    }
   },
   "outputs": [
    {
     "data": {
      "text/html": [
       "<div>\n",
       "<style scoped>\n",
       "    .dataframe tbody tr th:only-of-type {\n",
       "        vertical-align: middle;\n",
       "    }\n",
       "\n",
       "    .dataframe tbody tr th {\n",
       "        vertical-align: top;\n",
       "    }\n",
       "\n",
       "    .dataframe thead th {\n",
       "        text-align: right;\n",
       "    }\n",
       "</style>\n",
       "<table border=\"1\" class=\"dataframe\">\n",
       "  <thead>\n",
       "    <tr style=\"text-align: right;\">\n",
       "      <th></th>\n",
       "      <th>CRIM</th>\n",
       "      <th>ZN</th>\n",
       "      <th>INDUS</th>\n",
       "      <th>CHAS</th>\n",
       "      <th>NOX</th>\n",
       "      <th>RM</th>\n",
       "      <th>AGE</th>\n",
       "      <th>DIS</th>\n",
       "      <th>RAD</th>\n",
       "      <th>TAX</th>\n",
       "      <th>PTRATIO</th>\n",
       "      <th>B</th>\n",
       "      <th>LSTAT</th>\n",
       "      <th>MEDV</th>\n",
       "    </tr>\n",
       "  </thead>\n",
       "  <tbody>\n",
       "    <tr>\n",
       "      <th>501</th>\n",
       "      <td>0.06263</td>\n",
       "      <td>0.0</td>\n",
       "      <td>11.93</td>\n",
       "      <td>0.0</td>\n",
       "      <td>0.573</td>\n",
       "      <td>6.593</td>\n",
       "      <td>69.1</td>\n",
       "      <td>2.4786</td>\n",
       "      <td>1.0</td>\n",
       "      <td>273.0</td>\n",
       "      <td>21.0</td>\n",
       "      <td>391.99</td>\n",
       "      <td>9.67</td>\n",
       "      <td>22.4</td>\n",
       "    </tr>\n",
       "    <tr>\n",
       "      <th>502</th>\n",
       "      <td>0.04527</td>\n",
       "      <td>0.0</td>\n",
       "      <td>11.93</td>\n",
       "      <td>0.0</td>\n",
       "      <td>0.573</td>\n",
       "      <td>6.120</td>\n",
       "      <td>76.7</td>\n",
       "      <td>2.2875</td>\n",
       "      <td>1.0</td>\n",
       "      <td>273.0</td>\n",
       "      <td>21.0</td>\n",
       "      <td>396.90</td>\n",
       "      <td>9.08</td>\n",
       "      <td>20.6</td>\n",
       "    </tr>\n",
       "    <tr>\n",
       "      <th>503</th>\n",
       "      <td>0.06076</td>\n",
       "      <td>0.0</td>\n",
       "      <td>11.93</td>\n",
       "      <td>0.0</td>\n",
       "      <td>0.573</td>\n",
       "      <td>6.976</td>\n",
       "      <td>91.0</td>\n",
       "      <td>2.1675</td>\n",
       "      <td>1.0</td>\n",
       "      <td>273.0</td>\n",
       "      <td>21.0</td>\n",
       "      <td>396.90</td>\n",
       "      <td>5.64</td>\n",
       "      <td>23.9</td>\n",
       "    </tr>\n",
       "    <tr>\n",
       "      <th>504</th>\n",
       "      <td>0.10959</td>\n",
       "      <td>0.0</td>\n",
       "      <td>11.93</td>\n",
       "      <td>0.0</td>\n",
       "      <td>0.573</td>\n",
       "      <td>6.794</td>\n",
       "      <td>89.3</td>\n",
       "      <td>2.3889</td>\n",
       "      <td>1.0</td>\n",
       "      <td>273.0</td>\n",
       "      <td>21.0</td>\n",
       "      <td>393.45</td>\n",
       "      <td>6.48</td>\n",
       "      <td>22.0</td>\n",
       "    </tr>\n",
       "    <tr>\n",
       "      <th>505</th>\n",
       "      <td>0.04741</td>\n",
       "      <td>0.0</td>\n",
       "      <td>11.93</td>\n",
       "      <td>0.0</td>\n",
       "      <td>0.573</td>\n",
       "      <td>6.030</td>\n",
       "      <td>80.8</td>\n",
       "      <td>2.5050</td>\n",
       "      <td>1.0</td>\n",
       "      <td>273.0</td>\n",
       "      <td>21.0</td>\n",
       "      <td>396.90</td>\n",
       "      <td>7.88</td>\n",
       "      <td>11.9</td>\n",
       "    </tr>\n",
       "  </tbody>\n",
       "</table>\n",
       "</div>"
      ],
      "text/plain": [
       "        CRIM   ZN  INDUS  CHAS    NOX     RM   AGE     DIS  RAD    TAX  \\\n",
       "501  0.06263  0.0  11.93   0.0  0.573  6.593  69.1  2.4786  1.0  273.0   \n",
       "502  0.04527  0.0  11.93   0.0  0.573  6.120  76.7  2.2875  1.0  273.0   \n",
       "503  0.06076  0.0  11.93   0.0  0.573  6.976  91.0  2.1675  1.0  273.0   \n",
       "504  0.10959  0.0  11.93   0.0  0.573  6.794  89.3  2.3889  1.0  273.0   \n",
       "505  0.04741  0.0  11.93   0.0  0.573  6.030  80.8  2.5050  1.0  273.0   \n",
       "\n",
       "     PTRATIO       B  LSTAT  MEDV  \n",
       "501     21.0  391.99   9.67  22.4  \n",
       "502     21.0  396.90   9.08  20.6  \n",
       "503     21.0  396.90   5.64  23.9  \n",
       "504     21.0  393.45   6.48  22.0  \n",
       "505     21.0  396.90   7.88  11.9  "
      ]
     },
     "execution_count": 3,
     "metadata": {},
     "output_type": "execute_result"
    }
   ],
   "source": [
    "df = pd.concat([dfX, dfy], axis=1) # concat으로 데이터프레임 합치기\n",
    "df.tail()"
   ]
  },
  {
   "cell_type": "markdown",
   "metadata": {
    "slideshow": {
     "slide_type": "subslide"
    }
   },
   "source": [
    "일부 독립변수와 종속변수의 관계를 스캐터플롯(scatter plot)으로 살펴보겠습니다."
   ]
  },
  {
   "cell_type": "code",
   "execution_count": 4,
   "metadata": {
    "slideshow": {
     "slide_type": "fragment"
    }
   },
   "outputs": [
    {
     "data": {
      "image/png": "[encoded data removed]",
      "text/plain": [
       "<Figure size 720x720 with 20 Axes>"
      ]
     },
     "metadata": {
      "needs_background": "light"
     },
     "output_type": "display_data"
    }
   ],
   "source": [
    "sns.pairplot(df[[\"MEDV\", \"RM\", \"AGE\", \"CHAS\"]]) #변수들의 조합으로 스캐터를 그려준다\n",
    "plt.show()"
   ]
  },
  {
   "cell_type": "markdown",
   "metadata": {
    "slideshow": {
     "slide_type": "subslide"
    }
   },
   "source": [
    "이 플롯의 첫 행을 보면 종속변수인 집값(MEDV)과 방 개수(RM), 노후화 정도(AGE)와 어떤 관계를 가지는지 알 수 있습니다.\n",
    "\n",
    "* 방 개수가 증가할 수록 집값은 증가하는 경향이 뚜렷하다.\n",
    "* 노후화 정도와 집값은 관계가 없어 보인다.\n",
    "\n",
    "또한 스케터플롯의 모양으로부터 찰스강 유역 여부(CHAS)는 범주값이며 값이 1이면 0일 때 보다 집값의 평균이 더 높아지는 것도 볼 수 있습니다."
   ]
  },
  {
   "cell_type": "markdown",
   "metadata": {
    "slideshow": {
     "slide_type": "subslide"
    }
   },
   "source": [
    "### Note on Linear Regression\n",
    "확률 및 통계 과목을 수강하셨다면 Ordinary Least Squrares 방법을 배우셨을 것이라 생각합니다. 하지만 간단하게 다시 짚고 넘어갑시다.\n",
    "\n",
    "회귀분석은 독립변수 $x$에 대응하는 종속변수 $y$와 가장 비슷한 값 $\\hat{y}$를 출력하는 함수 $f(x)$를 찾는 과정입니다.\n",
    "\n",
    "$$ \n",
    "\\hat{y} = f \\left( x \\right) \\approx y \n",
    "$$\n",
    "\n",
    "만약 $f(x)$가 다음과 같은 선형함수면 이 함수를 **선형회귀모형(linear regression model)**이라고 합니다. \n",
    "그리고 선형회귀모형을 사용하는 회귀분석은 선형회귀분석이라고 합니다.\n",
    "\n",
    "$$ \n",
    "\\hat{y} = w_0 + w_1 x_1 + w_2 x_2 + \\cdots + w_D x_D = w_0 + w^Tx \n",
    "$$\n",
    "\n",
    "위 식에서 독립변수 $x=(x_1, x_2, \\ldots, x_D)$는 $D$차원 벡터로 생각할 수 있습니다.가중치 벡터 $w=(w_0, \\cdots, w_D)$는 함수 $f(x)$의 계수(coefficient)이자 이 선형회귀모형의 **모수(parameter)**라고 합니다."
   ]
  },
  {
   "cell_type": "markdown",
   "metadata": {
    "school_cell_uuid": "bf72a59924f84e588c33031b5f4251d3",
    "slideshow": {
     "slide_type": "subslide"
    }
   },
   "source": [
    "### Ordinary Least Squares\n",
    "최소자승법(OLS: Ordinary Least Squares)는 잔차제곱합(RSS: Residual Sum of Squares)를 최소화하는 가중치 벡터를 구하는 방법입니다. \n",
    "\n",
    "재밌는건 선형함수의 경우 최대가능도 방법을 쓰는 것과 최소자승법을 쓰는 것이 같은 결과를 줍니다. 즉, 이 방법이 가장 좋은 방법입니다.\n",
    "\n",
    "확률 및 통계에서는 독립변수가 \n",
    "\n",
    "일반적으로 우리가 사용하는 예측 모형은 다음과 같이 상수항이 결합된 선형모형입니다.\n",
    "\n",
    "$$ \\hat{y} = Xw $$"
   ]
  },
  {
   "cell_type": "markdown",
   "metadata": {
    "slideshow": {
     "slide_type": "subslide"
    }
   },
   "source": [
    "이때 잔차 벡터(residual vector) $e$는\n",
    "\n",
    "$$ e = {y} - \\hat{y} = y - Xw $$\n",
    "\n",
    "이고 잔차 제곱합(RSS:residual sum of squares)은\n",
    "\n",
    "$$\n",
    "\\begin{aligned}\n",
    "\\text{RSS}\n",
    "&=  e^Te \\\\\n",
    "&= (y - Xw)^T(y - Xw) \\\\\n",
    "&= y^Ty - 2y^T X w + w^TX^TXw  \n",
    "\\end{aligned}\n",
    "$$\n",
    "\n",
    "으로 주어집니다. 잔차의 크기(잔차 제곱합)를 가장 작게 하는 가중치 벡터를 구하기 위해 이 식을 미분하여 잔차 제곱합의 그레디언트(gradient) 벡터를 구하면 다음과 같습니다."
   ]
  },
  {
   "cell_type": "markdown",
   "metadata": {
    "slideshow": {
     "slide_type": "subslide"
    }
   },
   "source": [
    "$$ \n",
    "\\dfrac{d \\text{RSS}}{d w} = -2 X^T y + 2 X^TX w \n",
    "$$\n",
    "\n",
    "잔차가 최소가 되는 최적화 조건은 그레디언트 벡터가 0벡터이어야 하므로 다음 식이 성립합니.\n",
    "\n",
    "$$ \n",
    "\\dfrac{d \\text{RSS}}{d w} = 0 \n",
    "$$\n",
    "\n",
    "$$ \n",
    "X^TX w^{\\ast} = X^T y \n",
    "$$\n",
    "\n",
    "만약 $X^TX$ 행렬의 역행렬이 존재한다면 다음처럼 최적 가중치 벡터 $w^{\\ast}$를 구할 수 있습니다.\n",
    "\n",
    "$$ \n",
    "w^{\\ast} = (X^TX)^{-1} X^T y \n",
    "$$"
   ]
  },
  {
   "cell_type": "markdown",
   "metadata": {
    "slideshow": {
     "slide_type": "subslide"
    }
   },
   "source": [
    "$X^TX$ 행렬의 역행렬이 존재하고 위에서 구한 값이 최저값이 되려면 잔차 제곱합의 헤시안 행렬인 $X^TX$가 양의 정부호(positive definite)이어야만 합니다.\n",
    "\n",
    "$$ \n",
    "\\frac{d^2 \\text{RSS}}{dw^2} = 2X^TX > 0 \n",
    "$$\n",
    "\n",
    "$X$의 각 행렬이 서로 독립($X$가 풀랭크)이 아니면 $X^TX$가 양의 정부호가 아니고 역행렬이 존재하지 않으므로 위와 같은 해를 구할 수 없습니다."
   ]
  },
  {
   "cell_type": "markdown",
   "metadata": {
    "school_cell_uuid": "0d975171501b40f5b1710d5903868a6d",
    "slideshow": {
     "slide_type": "subslide"
    }
   },
   "source": [
    "### Linear regression using Statmodels\n",
    "statsmodels 패키지에서는 `OLS` 클래스를 사용하여 선형 회귀분석을 할 수 있습니다. `OLS` 클래스 사용법은 다음과 같습니다.\n",
    "\n",
    "1. 독립변수와 종속변수가 모두 포함된 데이터프레임을 만듭니다.\n",
    "\n",
    "\n",
    "2. `OLS` 클래스 객체를 생성합니다. 이 때 from_formula 메서드의 인수로 종속변수와 독립변수를 지정하는 formula 문자열을 넣습니다. \n",
    "   data 인수로는 독립변수와 종속변수가 모두 포함된 데이터프레임을 넣습니다..\n",
    "    ```\n",
    "    model = OLS.from_formula(formula, data=df)\n",
    "    ```\n",
    "    또는 독립변수만 있는 데이터프레임 `dfX`와 종속변수만 있는 데이터프레임  `dfy`를 인수로 넣어서 만들 수도 있습니다. 이 때는 독립변수만 있는 데이터프레임 `dfX`가 상수항을 가지고 있어야만 합니다.\n",
    "    \n",
    "    ```\n",
    "    model = OLS(dfy, dfX)\n",
    "    ```"
   ]
  },
  {
   "cell_type": "code",
   "execution_count": null,
   "metadata": {},
   "outputs": [],
   "source": [
    "# OLS 클래스 : 선형회귀 분석해주는 클래스\n"
   ]
  },
  {
   "cell_type": "markdown",
   "metadata": {
    "slideshow": {
     "slide_type": "subslide"
    }
   },
   "source": [
    "3. `fit` 메서드로 모형을 추합니다정. 추정 결과는 별도의 `RegressionResults` 클래스 객체로 출력됩니다.\n",
    "    ```\n",
    "    result = model.fit()\n",
    "    ```\n",
    "\n",
    "4. `RegressionResults` 클래스 객체는 결과 리포트용 `summary` 메서드와 예측을 위한 `prediction` 메서드를 제공합니다.\n",
    "    ```\n",
    "    print(result.summary())\n",
    "    \n",
    "    y_new = result.predict(x_new)\n",
    "    ```\n",
    "    이 때, 예측을 위한 데이터는 추정시와 동일하게 상수항 결합을 해 주어야 합니다.."
   ]
  },
  {
   "cell_type": "markdown",
   "metadata": {
    "slideshow": {
     "slide_type": "subslide"
    }
   },
   "source": [
    "1차원 데이터 예제를 statsmodels의 `OLS` 명령으로 선형회귀를 하면 다음과 같습니다. 우선 독립변수와 종속변수가 모두 포함된 데이터프레임을 생성합시다."
   ]
  },
  {
   "cell_type": "code",
   "execution_count": 5,
   "metadata": {
    "slideshow": {
     "slide_type": "fragment"
    }
   },
   "outputs": [
    {
     "data": {
      "text/html": [
       "<div>\n",
       "<style scoped>\n",
       "    .dataframe tbody tr th:only-of-type {\n",
       "        vertical-align: middle;\n",
       "    }\n",
       "\n",
       "    .dataframe tbody tr th {\n",
       "        vertical-align: top;\n",
       "    }\n",
       "\n",
       "    .dataframe thead th {\n",
       "        text-align: right;\n",
       "    }\n",
       "</style>\n",
       "<table border=\"1\" class=\"dataframe\">\n",
       "  <thead>\n",
       "    <tr style=\"text-align: right;\">\n",
       "      <th></th>\n",
       "      <th>x</th>\n",
       "      <th>y</th>\n",
       "    </tr>\n",
       "  </thead>\n",
       "  <tbody>\n",
       "    <tr>\n",
       "      <th>0</th>\n",
       "      <td>0.232495</td>\n",
       "      <td>127.879017</td>\n",
       "    </tr>\n",
       "    <tr>\n",
       "      <th>1</th>\n",
       "      <td>-0.038696</td>\n",
       "      <td>93.032914</td>\n",
       "    </tr>\n",
       "    <tr>\n",
       "      <th>2</th>\n",
       "      <td>0.550537</td>\n",
       "      <td>161.857508</td>\n",
       "    </tr>\n",
       "    <tr>\n",
       "      <th>3</th>\n",
       "      <td>0.503185</td>\n",
       "      <td>141.692050</td>\n",
       "    </tr>\n",
       "    <tr>\n",
       "      <th>4</th>\n",
       "      <td>2.186980</td>\n",
       "      <td>283.260119</td>\n",
       "    </tr>\n",
       "    <tr>\n",
       "      <th>...</th>\n",
       "      <td>...</td>\n",
       "      <td>...</td>\n",
       "    </tr>\n",
       "    <tr>\n",
       "      <th>195</th>\n",
       "      <td>-0.172428</td>\n",
       "      <td>87.874277</td>\n",
       "    </tr>\n",
       "    <tr>\n",
       "      <th>196</th>\n",
       "      <td>-1.199268</td>\n",
       "      <td>-13.626664</td>\n",
       "    </tr>\n",
       "    <tr>\n",
       "      <th>197</th>\n",
       "      <td>1.462108</td>\n",
       "      <td>216.106619</td>\n",
       "    </tr>\n",
       "    <tr>\n",
       "      <th>198</th>\n",
       "      <td>1.131629</td>\n",
       "      <td>212.743149</td>\n",
       "    </tr>\n",
       "    <tr>\n",
       "      <th>199</th>\n",
       "      <td>0.495211</td>\n",
       "      <td>150.017589</td>\n",
       "    </tr>\n",
       "  </tbody>\n",
       "</table>\n",
       "<p>200 rows × 2 columns</p>\n",
       "</div>"
      ],
      "text/plain": [
       "            x           y\n",
       "0    0.232495  127.879017\n",
       "1   -0.038696   93.032914\n",
       "2    0.550537  161.857508\n",
       "3    0.503185  141.692050\n",
       "4    2.186980  283.260119\n",
       "..        ...         ...\n",
       "195 -0.172428   87.874277\n",
       "196 -1.199268  -13.626664\n",
       "197  1.462108  216.106619\n",
       "198  1.131629  212.743149\n",
       "199  0.495211  150.017589\n",
       "\n",
       "[200 rows x 2 columns]"
      ]
     },
     "execution_count": 5,
     "metadata": {},
     "output_type": "execute_result"
    }
   ],
   "source": [
    "from sklearn.datasets import make_regression\n",
    "bias = 100\n",
    "\n",
    "X0, y, w = make_regression(\n",
    "    n_samples=200, n_features=1, bias=bias, noise=10, coef=True, random_state=1\n",
    ")\n",
    "y = y.reshape(len(y), 1)\n",
    "df = pd.DataFrame({\"x\": X0[:, 0], \"y\": y[:, 0]})\n",
    "df"
   ]
  },
  {
   "cell_type": "markdown",
   "metadata": {
    "slideshow": {
     "slide_type": "subslide"
    }
   },
   "source": [
    "다음으로 모델 객체를 만듭니다. 독립변수만 있는 데이터프레임 `dfX`와 종속변수만 있는 데이터프레임  `dfy`를 인수로 넣어서 만들 수도 있습니다. 이 때는 수동으로 상수항 추가를 해주어야 합니다."
   ]
  },
  {
   "cell_type": "code",
   "execution_count": 6,
   "metadata": {
    "slideshow": {
     "slide_type": "subslide"
    }
   },
   "outputs": [],
   "source": [
    "import statsmodels.api as sm\n",
    "dfy = df[[\"y\"]]\n",
    "dfX = sm.add_constant(df[[\"x\"]]) # 상수항 추가\n",
    "model = sm.OLS(dfy, dfX)\n",
    "result = model.fit()"
   ]
  },
  {
   "cell_type": "code",
   "execution_count": 7,
   "metadata": {
    "slideshow": {
     "slide_type": "subslide"
    }
   },
   "outputs": [
    {
     "data": {
      "text/html": [
       "<div>\n",
       "<style scoped>\n",
       "    .dataframe tbody tr th:only-of-type {\n",
       "        vertical-align: middle;\n",
       "    }\n",
       "\n",
       "    .dataframe tbody tr th {\n",
       "        vertical-align: top;\n",
       "    }\n",
       "\n",
       "    .dataframe thead th {\n",
       "        text-align: right;\n",
       "    }\n",
       "</style>\n",
       "<table border=\"1\" class=\"dataframe\">\n",
       "  <thead>\n",
       "    <tr style=\"text-align: right;\">\n",
       "      <th></th>\n",
       "      <th>const</th>\n",
       "      <th>x</th>\n",
       "    </tr>\n",
       "  </thead>\n",
       "  <tbody>\n",
       "    <tr>\n",
       "      <th>0</th>\n",
       "      <td>1.0</td>\n",
       "      <td>0.232495</td>\n",
       "    </tr>\n",
       "    <tr>\n",
       "      <th>1</th>\n",
       "      <td>1.0</td>\n",
       "      <td>-0.038696</td>\n",
       "    </tr>\n",
       "    <tr>\n",
       "      <th>2</th>\n",
       "      <td>1.0</td>\n",
       "      <td>0.550537</td>\n",
       "    </tr>\n",
       "    <tr>\n",
       "      <th>3</th>\n",
       "      <td>1.0</td>\n",
       "      <td>0.503185</td>\n",
       "    </tr>\n",
       "    <tr>\n",
       "      <th>4</th>\n",
       "      <td>1.0</td>\n",
       "      <td>2.186980</td>\n",
       "    </tr>\n",
       "    <tr>\n",
       "      <th>...</th>\n",
       "      <td>...</td>\n",
       "      <td>...</td>\n",
       "    </tr>\n",
       "    <tr>\n",
       "      <th>195</th>\n",
       "      <td>1.0</td>\n",
       "      <td>-0.172428</td>\n",
       "    </tr>\n",
       "    <tr>\n",
       "      <th>196</th>\n",
       "      <td>1.0</td>\n",
       "      <td>-1.199268</td>\n",
       "    </tr>\n",
       "    <tr>\n",
       "      <th>197</th>\n",
       "      <td>1.0</td>\n",
       "      <td>1.462108</td>\n",
       "    </tr>\n",
       "    <tr>\n",
       "      <th>198</th>\n",
       "      <td>1.0</td>\n",
       "      <td>1.131629</td>\n",
       "    </tr>\n",
       "    <tr>\n",
       "      <th>199</th>\n",
       "      <td>1.0</td>\n",
       "      <td>0.495211</td>\n",
       "    </tr>\n",
       "  </tbody>\n",
       "</table>\n",
       "<p>200 rows × 2 columns</p>\n",
       "</div>"
      ],
      "text/plain": [
       "     const         x\n",
       "0      1.0  0.232495\n",
       "1      1.0 -0.038696\n",
       "2      1.0  0.550537\n",
       "3      1.0  0.503185\n",
       "4      1.0  2.186980\n",
       "..     ...       ...\n",
       "195    1.0 -0.172428\n",
       "196    1.0 -1.199268\n",
       "197    1.0  1.462108\n",
       "198    1.0  1.131629\n",
       "199    1.0  0.495211\n",
       "\n",
       "[200 rows x 2 columns]"
      ]
     },
     "execution_count": 7,
     "metadata": {},
     "output_type": "execute_result"
    }
   ],
   "source": [
    "dfX"
   ]
  },
  {
   "cell_type": "markdown",
   "metadata": {
    "slideshow": {
     "slide_type": "subslide"
    }
   },
   "source": [
    "또는 formula 문자열을 사용하여 모형을 만들 수도 있습니다. formula 문자열을 만드는 방법은 `~` 기호의 왼쪽에 종속변수의 이름을 넣고 `~` 기호의 오른쪽에 독립변수의 이름을 넣으면 됩니다. \n",
    "\n",
    "만약 독립변수가 여러개일 경우에는 `'Y ~ x_1 + x_2 + ... + x_n'` 형태로 만들면 됩니다."
   ]
  },
  {
   "cell_type": "code",
   "execution_count": 8,
   "metadata": {
    "slideshow": {
     "slide_type": "fragment"
    }
   },
   "outputs": [],
   "source": [
    "model = sm.OLS.from_formula(\"y ~ x\", data=df)\n",
    "result = model.fit()"
   ]
  },
  {
   "cell_type": "markdown",
   "metadata": {
    "slideshow": {
     "slide_type": "subslide"
    }
   },
   "source": [
    "`RegressionResults` 클래스 객체의 `summary` 메서드는 복잡한 형태의 보고서를 보여줍니다."
   ]
  },
  {
   "cell_type": "code",
   "execution_count": 9,
   "metadata": {
    "slideshow": {
     "slide_type": "fragment"
    }
   },
   "outputs": [
    {
     "name": "stdout",
     "output_type": "stream",
     "text": [
      "                            OLS Regression Results                            \n",
      "==============================================================================\n",
      "Dep. Variable:                      y   R-squared:                       0.985\n",
      "Model:                            OLS   Adj. R-squared:                  0.985\n",
      "Method:                 Least Squares   F-statistic:                 1.278e+04\n",
      "Date:                Sat, 08 May 2021   Prob (F-statistic):          8.17e-182\n",
      "Time:                        21:38:58   Log-Likelihood:                -741.28\n",
      "No. Observations:                 200   AIC:                             1487.\n",
      "Df Residuals:                     198   BIC:                             1493.\n",
      "Df Model:                           1                                         \n",
      "Covariance Type:            nonrobust                                         \n",
      "==============================================================================\n",
      "                 coef    std err          t      P>|t|      [0.025      0.975]\n",
      "------------------------------------------------------------------------------\n",
      "Intercept     99.7915      0.705    141.592      0.000      98.402     101.181\n",
      "x             86.9617      0.769    113.058      0.000      85.445      88.479\n",
      "==============================================================================\n",
      "Omnibus:                        1.418   Durbin-Watson:                   1.690\n",
      "Prob(Omnibus):                  0.492   Jarque-Bera (JB):                1.059\n",
      "Skew:                           0.121   Prob(JB):                        0.589\n",
      "Kurtosis:                       3.262   Cond. No.                         1.16\n",
      "==============================================================================\n",
      "\n",
      "Warnings:\n",
      "[1] Standard Errors assume that the covariance matrix of the errors is correctly specified.\n"
     ]
    }
   ],
   "source": [
    "print(result.summary())"
   ]
  },
  {
   "cell_type": "markdown",
   "metadata": {
    "slideshow": {
     "slide_type": "subslide"
    }
   },
   "source": [
    "`RegressionResults` 클래스 객체의 `predict` 메서드를 사용하면 새로운 $x_{new}$ 값에 대응하는 $y$ 값을 예측할 수 있습니다."
   ]
  },
  {
   "cell_type": "code",
   "execution_count": 10,
   "metadata": {
    "slideshow": {
     "slide_type": "fragment"
    }
   },
   "outputs": [
    {
     "data": {
      "text/plain": [
       "0    -74.131915\n",
       "1     12.829797\n",
       "2     99.791509\n",
       "3    186.753221\n",
       "4    273.714933\n",
       "dtype: float64"
      ]
     },
     "execution_count": 10,
     "metadata": {},
     "output_type": "execute_result"
    }
   ],
   "source": [
    "result.predict({\"x\": [-2, -1, 0, 1, 2] })"
   ]
  },
  {
   "cell_type": "markdown",
   "metadata": {
    "school_cell_uuid": "fe37c32f92e24e1eaefe9c8dec2822e8",
    "slideshow": {
     "slide_type": "subslide"
    }
   },
   "source": [
    "`RegressionResults` 클래스는 분석 결과를 다양한 속성에 저장해주므로 추후 사용자가 선택하여 활용할 수 있습니다. 자주 사용되는 속성으로는 다음과 같은 것들이 있지요.\n",
    "* `params`: 가중치 벡터\n",
    "* `resid`: 잔차 벡터"
   ]
  },
  {
   "cell_type": "markdown",
   "metadata": {
    "slideshow": {
     "slide_type": "fragment"
    }
   },
   "source": [
    "가중치 벡터의 값은 다음처럼 확인하면 됩니다."
   ]
  },
  {
   "cell_type": "code",
   "execution_count": 11,
   "metadata": {
    "school_cell_uuid": "2cd2fb38e52d454c9f1662955a49168d",
    "slideshow": {
     "slide_type": "fragment"
    }
   },
   "outputs": [
    {
     "data": {
      "text/plain": [
       "Intercept    99.791509\n",
       "x            86.961712\n",
       "dtype: float64"
      ]
     },
     "execution_count": 11,
     "metadata": {},
     "output_type": "execute_result"
    }
   ],
   "source": [
    "result.params"
   ]
  },
  {
   "cell_type": "markdown",
   "metadata": {
    "slideshow": {
     "slide_type": "subslide"
    }
   },
   "source": [
    "잔차 벡터의 형태는 다음과 같습니다."
   ]
  },
  {
   "cell_type": "code",
   "execution_count": 12,
   "metadata": {
    "slideshow": {
     "slide_type": "fragment"
    }
   },
   "outputs": [
    {
     "data": {
      "text/plain": [
       "0       7.869384\n",
       "1      -3.393567\n",
       "2      14.190317\n",
       "3      -1.857271\n",
       "4      -6.714883\n",
       "         ...    \n",
       "195     3.077420\n",
       "196    -9.127772\n",
       "197   -10.832299\n",
       "198    14.543212\n",
       "199     7.161656\n",
       "Length: 200, dtype: float64"
      ]
     },
     "execution_count": 12,
     "metadata": {},
     "output_type": "execute_result"
    }
   ],
   "source": [
    "result.resid"
   ]
  },
  {
   "cell_type": "code",
   "execution_count": 13,
   "metadata": {
    "school_cell_uuid": "b75a9db0bf0640b886ed9108bec547e6",
    "slideshow": {
     "slide_type": "subslide"
    }
   },
   "outputs": [
    {
     "data": {
      "image/png": "[encoded data removed]",
      "text/plain": [
       "<Figure size 432x288 with 1 Axes>"
      ]
     },
     "metadata": {
      "needs_background": "light"
     },
     "output_type": "display_data"
    }
   ],
   "source": [
    "result.resid.plot(style=\"o\")\n",
    "plt.title(\"Residuals\")\n",
    "plt.xlabel(\"Data number\")\n",
    "plt.ylabel(\"Residual\")\n",
    "plt.show()"
   ]
  },
  {
   "cell_type": "code",
   "execution_count": 14,
   "metadata": {
    "slideshow": {
     "slide_type": "subslide"
    }
   },
   "outputs": [
    {
     "data": {
      "text/plain": [
       "0    109.069351\n",
       "dtype: float64"
      ]
     },
     "execution_count": 14,
     "metadata": {},
     "output_type": "execute_result"
    }
   ],
   "source": [
    "result.predict({\"x\": X0.mean()})"
   ]
  },
  {
   "cell_type": "code",
   "execution_count": 15,
   "metadata": {
    "slideshow": {
     "slide_type": "fragment"
    }
   },
   "outputs": [
    {
     "data": {
      "text/plain": [
       "109.06935068170773"
      ]
     },
     "execution_count": 15,
     "metadata": {},
     "output_type": "execute_result"
    }
   ],
   "source": [
    "y.mean()"
   ]
  },
  {
   "cell_type": "markdown",
   "metadata": {
    "slideshow": {
     "slide_type": "subslide"
    }
   },
   "source": [
    "### Estimating House price of Boston\n",
    "위의 보스턴 집값 데이터를 statsmodels의 `OLS` 명령으로 분석한 결과는 다음과 같습니다. "
   ]
  },
  {
   "cell_type": "code",
   "execution_count": 16,
   "metadata": {
    "school_cell_uuid": "bf293ddc7d924313b681232798941e76",
    "slideshow": {
     "slide_type": "subslide"
    }
   },
   "outputs": [
    {
     "name": "stdout",
     "output_type": "stream",
     "text": [
      "                            OLS Regression Results                            \n",
      "==============================================================================\n",
      "Dep. Variable:                   MEDV   R-squared:                       0.741\n",
      "Model:                            OLS   Adj. R-squared:                  0.734\n",
      "Method:                 Least Squares   F-statistic:                     108.1\n",
      "Date:                Sat, 08 May 2021   Prob (F-statistic):          6.72e-135\n",
      "Time:                        21:41:09   Log-Likelihood:                -1498.8\n",
      "No. Observations:                 506   AIC:                             3026.\n",
      "Df Residuals:                     492   BIC:                             3085.\n",
      "Df Model:                          13                                         \n",
      "Covariance Type:            nonrobust                                         \n",
      "==============================================================================\n",
      "                 coef    std err          t      P>|t|      [0.025      0.975]\n",
      "------------------------------------------------------------------------------\n",
      "const         36.4595      5.103      7.144      0.000      26.432      46.487\n",
      "CRIM          -0.1080      0.033     -3.287      0.001      -0.173      -0.043\n",
      "ZN             0.0464      0.014      3.382      0.001       0.019       0.073\n",
      "INDUS          0.0206      0.061      0.334      0.738      -0.100       0.141\n",
      "CHAS           2.6867      0.862      3.118      0.002       0.994       4.380\n",
      "NOX          -17.7666      3.820     -4.651      0.000     -25.272     -10.262\n",
      "RM             3.8099      0.418      9.116      0.000       2.989       4.631\n",
      "AGE            0.0007      0.013      0.052      0.958      -0.025       0.027\n",
      "DIS           -1.4756      0.199     -7.398      0.000      -1.867      -1.084\n",
      "RAD            0.3060      0.066      4.613      0.000       0.176       0.436\n",
      "TAX           -0.0123      0.004     -3.280      0.001      -0.020      -0.005\n",
      "PTRATIO       -0.9527      0.131     -7.283      0.000      -1.210      -0.696\n",
      "B              0.0093      0.003      3.467      0.001       0.004       0.015\n",
      "LSTAT         -0.5248      0.051    -10.347      0.000      -0.624      -0.425\n",
      "==============================================================================\n",
      "Omnibus:                      178.041   Durbin-Watson:                   1.078\n",
      "Prob(Omnibus):                  0.000   Jarque-Bera (JB):              783.126\n",
      "Skew:                           1.521   Prob(JB):                    8.84e-171\n",
      "Kurtosis:                       8.281   Cond. No.                     1.51e+04\n",
      "==============================================================================\n",
      "\n",
      "Warnings:\n",
      "[1] Standard Errors assume that the covariance matrix of the errors is correctly specified.\n",
      "[2] The condition number is large, 1.51e+04. This might indicate that there are\n",
      "strong multicollinearity or other numerical problems.\n"
     ]
    }
   ],
   "source": [
    "from sklearn.datasets import load_boston\n",
    "\n",
    "boston = load_boston()\n",
    "\n",
    "dfX0 = pd.DataFrame(boston.data, columns=boston.feature_names)\n",
    "dfX = sm.add_constant(dfX0)\n",
    "dfy = pd.DataFrame(boston.target, columns=[\"MEDV\"])\n",
    "\n",
    "model_boston2 = sm.OLS(dfy, dfX)\n",
    "result_boston2 = model_boston2.fit()\n",
    "print(result_boston2.summary())"
   ]
  },
  {
   "cell_type": "markdown",
   "metadata": {
    "slideshow": {
     "slide_type": "subslide"
    }
   },
   "source": [
    "따라서 보스턴 집값을 예측하는 식은 다음과 같습니다.\n",
    "\n",
    "$$\n",
    "\\begin{aligned}\n",
    "y &= 36.4595 - 0.1080\\,\\text{CRIM} + 0.0464\\,\\text{ZN}  + 0.0206\\,\\text{INDUS}  + 2.6867 \\,\\text{CHAS} \\\\\n",
    "&  -17.7666\\,\\text{NOX}  + 3.8099\\,\\text{RM}  + 0.0007\\,\\text{AGE}  -1.4756\\,\\text{DIS} + 0.3060\\,\\text{RAD} \\\\\n",
    "&  -0.0123\\,\\text{TAX}  -0.9527\\,\\text{PTRATIO}  + 0.0093 \\,\\text{B} -0.5248\\,\\text{LSTAT}\n",
    "\\end{aligned}\n",
    "$$"
   ]
  },
  {
   "cell_type": "markdown",
   "metadata": {
    "school_cell_uuid": "bc5ec3bb402747328e88d84b90d0deec",
    "slideshow": {
     "slide_type": "slide"
    }
   },
   "source": [
    "# Logistic Regression\n",
    "\n",
    "로지스틱(Logistic) 회귀분석은 회귀분석이라는 명칭과 달리 회귀분석 문제와 분류문제 모두에 사용할 수 있습니다.\n",
    "\n",
    "선형 회귀와 다르게 로지스틱 회귀분석 모형에서는 종속변수가 이항분포를 따릅니다.\n",
    "\n",
    "$$ \\binom{N}{k}p^k(1-p)^{N-k} $$\n",
    "\n",
    "그 모수 $\\mu$가 독립변수 $x$에 의존한다고 가정합니다."
   ]
  },
  {
   "cell_type": "markdown",
   "metadata": {
    "slideshow": {
     "slide_type": "subslide"
    }
   },
   "source": [
    "$$ p(y \\mid x) = \\text{Bin} (y; \\mu(x), N) $$\n",
    "\n",
    "위 식에서 보듯이 로지스틱 함수는 $y$의 값이 특정한 구간내의 값($0 \\sim N$)만 가질 수 있기 때문에 종속변수가 이러한 특성을 가진 경우에 회귀분석 방법으로 쓸 수 있습니다.  \n",
    "\n",
    "또는 이항 분포의 특별한 경우($N=1$)로 $y$가 베르누이 확률분포인 경우도 있을 수 있다. 여기에서는 베르누이 확률분포를 따르는 로지스틱 회귀분석만 고려하기로 한다.\n",
    "\n",
    "$$ p(y \\mid x) = \\text{Bern} (y; \\mu(x) ) $$\n",
    "\n",
    "$$ \\text{Bernp} = p^y(1-p)^{1-y} $$"
   ]
  },
  {
   "cell_type": "markdown",
   "metadata": {
    "school_cell_uuid": "e9c98390d3944061ba0dae57b8c38ed4",
    "slideshow": {
     "slide_type": "subslide"
    }
   },
   "source": [
    "종속변수 $y$가 0또는 1인 분류 예측 문제를 풀 때는 $x$ 값을 이용하여 $\\mu(x)$를 예측한 후 다음 기준에 따라 $\\hat{y}$값을 출력합니다.\n",
    "\n",
    "$$ \\hat{y} = \\begin{cases} 1 & \\text{ if } \\mu(x) \\geq 0.5 \\\\ 0 & \\text{ if } \\mu(x) < 0.5 \\end{cases} $$\n",
    "\n",
    "회귀분석을 할 때는 $\\hat{y}$으로 $y=1$이 될 확률값 $\\mu(x)$를 직접 사용합니다.\n",
    "\n",
    "$$ \\hat{y} = \\mu(x) $$"
   ]
  },
  {
   "cell_type": "markdown",
   "metadata": {
    "school_cell_uuid": "063801a7da4b46c89fe310f99fe6d7e1",
    "slideshow": {
     "slide_type": "subslide"
    }
   },
   "source": [
    "### Sigmoid Function\n",
    "\n",
    "로지스틱 회귀모형에서는 베르누이 확률분포의 모수 $\\mu$가 $x$의 함수라고 가정합니다. 그리고 $\\mu(x)$는 $x$에 대한 함수를 0부터 1사이의 값만 나올 수 있도록 **시그모이드함수(sigmoid function)**라는 함수를 사용하여 변형한 것을 사용합니다.\n",
    "\n",
    "시그모이드함수는 종속변수의 모든 실수 값에 대해 \n",
    "\n",
    "* 유한한 구간 $(a,b)$ 사이의 한정된(bounded) 값을 가지고\n",
    "$$ a < f(x) < b $$\n",
    "* 항상 양의 기울기를 가지는 단조증가하는\n",
    "$$ a > b \\; \\rightarrow \\; f(a) > f(b) $$\n",
    "\n",
    "함수의 집합을 말합니다. \n",
    "\n",
    "실제로는 다음과 같은 함수들이 주로 사용됩니다."
   ]
  },
  {
   "cell_type": "markdown",
   "metadata": {
    "slideshow": {
     "slide_type": "subslide"
    }
   },
   "source": [
    " * 로지스틱(Logistic)함수 \n",
    " \n",
    "$$ \\text{logitstic}(z) = \\sigma(z) = \\dfrac{1}{1+\\exp{(-z)}} $$\n",
    " \n",
    " * 하이퍼볼릭탄젠트(Hyperbolic tangent)함수 \n",
    " \n",
    "$$ \\tanh(z) = \\frac{\\sinh z}{\\cosh z} = \\frac{(e^z - e^{-z})/2}{(e^z + e^{-z})/2} = 2 \\sigma(2z) - 1$$\n",
    "\n",
    " * 오차(Error)함수\n",
    " \n",
    "$$ \\text{erf}(z) = \\frac{2}{\\sqrt\\pi}\\int_0^z e^{-t^2}\\,dt $$\n",
    " \n",
    "\n",
    "하이퍼볼릭탄젠트함수는 로지스틱함수를 위아래 방향으로 2배 늘리고 좌우 방향으로 1/2로 축소한 것과 같다. "
   ]
  },
  {
   "cell_type": "code",
   "execution_count": 17,
   "metadata": {
    "school_cell_uuid": "39de5fe7253f4e09b62c88398e1b774d",
    "slideshow": {
     "slide_type": "subslide"
    }
   },
   "outputs": [
    {
     "data": {
      "image/png": "[encoded data removed]",
      "text/plain": [
       "<Figure size 432x288 with 1 Axes>"
      ]
     },
     "metadata": {
      "needs_background": "light"
     },
     "output_type": "display_data"
    }
   ],
   "source": [
    "import numpy as np\n",
    "import scipy as sp\n",
    "import scipy.special\n",
    "from matplotlib import pyplot as plt \n",
    "xx = np.linspace(-5, 5, 1000)\n",
    "plt.plot(xx, 1/(1+np.exp(-xx)), 'r-', label=\"Logistic function\")\n",
    "plt.plot(xx, sp.special.erf(0.5*np.sqrt(np.pi)*xx), 'g:', label=\"ErrorFunction\")\n",
    "plt.plot(xx, np.tanh(xx), 'b--', label=\"Hyperbolic Tangent\")\n",
    "plt.ylim([-1.1, 1.1])\n",
    "plt.legend(loc=2)\n",
    "plt.xlabel(\"x\")\n",
    "plt.show()"
   ]
  },
  {
   "cell_type": "markdown",
   "metadata": {
    "school_cell_uuid": "9fc40e253d264a6b9d8e8eb77be0006c",
    "slideshow": {
     "slide_type": "subslide"
    }
   },
   "source": [
    "### Logistic Function\n",
    "로지스틱함수는 음의 무한대부터 양의 무한대까지의 실수값을 0부터 1사이의 실수값으로 1 대 1 대응시키는 시그모이드함수입니다. 보통 시그모이드함수라고 하면 로지스틱함수를 많이 씁니다. 로지스틱함수는 다음 과정을 통해 역으로 정의되었습니다.\n",
    "\n",
    "베르누이 시도에서 1이 나올 확률 $\\mu$와 0이 나올 확률 $1-\\mu$의 비율(ratio)을 승산비(odds ratio)라고 합니다.\n",
    "\n",
    "$$ \\text{odds ratio} = \\dfrac{\\mu}{1-\\mu} $$\n",
    "\n",
    "0부터 1사이의 값만 가지는 $\\mu$를 승산비로 변환하면 0부터 양의 무한대까지의 값을 가질 수 있습니다."
   ]
  },
  {
   "cell_type": "markdown",
   "metadata": {
    "slideshow": {
     "slide_type": "subslide"
    }
   },
   "source": [
    "승산비를 로그 변환한 것이 로지트함수(Logit function)다.\n",
    "\n",
    "$$ z = \\text{logit}(\\text{odds ratio}) = \\log \\left(\\dfrac{\\mu}{1-\\mu}\\right) $$ \n",
    "\n",
    "로지트함수의 값은 로그 변환에 의해 음의 무한대($-\\infty$)부터 양의 무한대($\\infty$)까지의 값을 가질 수 있습니다.\n",
    "\n",
    "로지스틱함수(Logistic function)는 로지트함수의 역함수입니다 (중요!!!). 즉 **음의 무한대($-\\infty$)부터 양의 무한대($\\infty$)까지의 값을 가지는 입력변수를 0부터 1사의 값을 가지는 출력변수로 변환**한 것입니다.\n",
    "\n",
    "$$ \\text{logitstic}(z) = \\mu(z) = \\dfrac{1}{1+\\exp{(-z)}} $$  "
   ]
  },
  {
   "cell_type": "markdown",
   "metadata": {
    "school_cell_uuid": "55f2fabaa9e64a8cb62578879b7d292f",
    "slideshow": {
     "slide_type": "subslide"
    }
   },
   "source": [
    "### Linear decision function\n",
    "로지스틱함수 $\\sigma(z)$를 사용하는 경우에는 $z$값과 $\\mu$값은 다음과 같은 관계가 있습니다.\n",
    "\n",
    "* $z = 0$일 때 $\\mu = 0.5$\n",
    "* $z > 0$일 때 $\\mu > 0.5 \\; \\rightarrow \\hat{y} = 1$\n",
    "* $z < 0$일 때 $\\mu < 0.5 \\; \\rightarrow \\hat{y} = 0$\n",
    "\n",
    "즉 $z$가 분류 모형의 판별함수(decision function)의 역할을 합니다. 로지스틱 회귀분석에서는 판별함수 수식으로 선형함수를 사용합니다.\n",
    "\n",
    "$$ z = w^Tx  $$\n",
    "\n",
    "따라서 판별 경계면도 선형이 됩니다."
   ]
  },
  {
   "cell_type": "markdown",
   "metadata": {
    "slideshow": {
     "slide_type": "subslide"
    }
   },
   "source": [
    "### Logisteic regression using StatsModels\n",
    "다음과 같은 1차원 독립변수를 가지는 분류문제를 풀어봅시다."
   ]
  },
  {
   "cell_type": "code",
   "execution_count": 18,
   "metadata": {
    "school_cell_uuid": "d3fb1b89f8a84c93bf72295471419884",
    "slideshow": {
     "slide_type": "fragment"
    }
   },
   "outputs": [
    {
     "data": {
      "image/png": "[encoded data removed]",
      "text/plain": [
       "<Figure size 432x288 with 1 Axes>"
      ]
     },
     "metadata": {
      "needs_background": "light"
     },
     "output_type": "display_data"
    }
   ],
   "source": [
    "from sklearn.datasets import make_classification\n",
    "import seaborn as sns\n",
    "\n",
    "X0, y = make_classification(n_features=1, n_redundant=0, n_informative=1,\n",
    "                            n_clusters_per_class=1, random_state=4)\n",
    "\n",
    "plt.scatter(X0, y, c=y, s=100, edgecolor=\"k\", linewidth=2)\n",
    "sns.kdeplot(data=X0[y == 0, :], label=\"y = 0\")\n",
    "sns.kdeplot(data=X0[y == 1, :], label=\"y = 1\")\n",
    "plt.legend()\n",
    "plt.ylim(-0.2, 1.2)\n",
    "plt.show();"
   ]
  },
  {
   "cell_type": "markdown",
   "metadata": {
    "school_cell_uuid": "236099a3deb34883a9c69a9f80e75c8a",
    "slideshow": {
     "slide_type": "subslide"
    }
   },
   "source": [
    "StatsModels 패키지는 베르누이 분포를 따르는 로지스틱 회귀 모형 `Logit` 를 지원합니다. 사용방법은 `OLS` 클래스 사용법과 동일합니다. 종속변수와 독립변수 데이터를 넣어 모형을 만들고 `fit` 메서드로 학습을 시킵니다. `fit` 메서드의 `disp=0` 인수는 최적화 과정에서 문자열 메세지를 나타내지 않는 역할을 합니다."
   ]
  },
  {
   "cell_type": "code",
   "execution_count": 19,
   "metadata": {
    "slideshow": {
     "slide_type": "subslide"
    }
   },
   "outputs": [
    {
     "data": {
      "text/plain": [
       "array([-0.56511345,  1.81256131, -1.33619806,  1.74890611, -0.19702637,\n",
       "       -0.97174619,  0.09145142, -0.81781175,  1.02115611, -0.37608967,\n",
       "       -0.63998141,  1.09331425, -1.04567041, -1.82248917,  0.66737508,\n",
       "       -1.33802467,  1.03973007,  1.02861972,  1.46827084,  1.20747622,\n",
       "       -1.60045596, -0.1215664 ,  1.12325354, -1.21712319,  0.6186367 ,\n",
       "        1.46318811,  1.68552793,  0.36681905,  0.68897352,  0.15405526,\n",
       "        1.14288962, -0.08399356,  1.3275078 , -2.22397948, -1.15725619,\n",
       "       -0.97375549, -1.59369901, -0.827541  , -0.97605292,  1.51279225,\n",
       "        0.4668358 ,  0.89903364, -0.7953375 , -0.58656328, -1.70642152,\n",
       "       -0.97508192,  0.6421675 , -1.51023072, -0.40132266, -0.5657922 ,\n",
       "        1.1056454 ,  0.77950937,  1.17691635, -1.51693555,  1.55036554,\n",
       "       -1.14336585, -0.68930413,  1.25336383,  0.89682787, -0.82754261,\n",
       "       -1.57386341,  0.08372829,  1.02210971,  1.1749706 ,  1.11108368,\n",
       "       -0.58366968,  0.35396347, -0.91700612,  2.19088642,  1.01124106,\n",
       "       -1.06784343, -1.62751549,  2.17185369, -0.52514351,  1.56217106,\n",
       "       -1.69941147, -1.31501034,  0.96787329,  1.30811263,  0.79619908,\n",
       "        0.14291351, -0.62454299, -1.10212242, -1.57761523,  0.54144162,\n",
       "       -1.00485845, -0.74049573,  0.70803893,  1.16538622,  1.30018156,\n",
       "        0.5688084 ,  0.44391173, -1.59560814,  2.45832825,  0.43366097,\n",
       "       -0.77936232, -0.73532152, -0.71843573, -0.67887389, -0.15095042])"
      ]
     },
     "execution_count": 19,
     "metadata": {},
     "output_type": "execute_result"
    }
   ],
   "source": [
    "X0.reshape(-1)"
   ]
  },
  {
   "cell_type": "code",
   "execution_count": 20,
   "metadata": {
    "slideshow": {
     "slide_type": "subslide"
    }
   },
   "outputs": [
    {
     "data": {
      "text/plain": [
       "array([0, 1, 0, 1, 0, 0, 1, 0, 1, 0, 0, 1, 0, 0, 1, 0, 1, 1, 1, 1, 0, 0,\n",
       "       1, 0, 1, 1, 1, 1, 1, 0, 1, 1, 1, 0, 0, 0, 0, 0, 0, 1, 1, 1, 0, 0,\n",
       "       0, 0, 1, 1, 1, 0, 1, 1, 1, 0, 1, 0, 0, 1, 1, 0, 0, 0, 1, 1, 1, 0,\n",
       "       1, 0, 1, 1, 0, 0, 1, 0, 1, 0, 0, 1, 1, 1, 1, 0, 0, 0, 1, 0, 0, 1,\n",
       "       1, 1, 1, 1, 0, 1, 1, 0, 0, 0, 0, 0])"
      ]
     },
     "execution_count": 20,
     "metadata": {},
     "output_type": "execute_result"
    }
   ],
   "source": [
    "y"
   ]
  },
  {
   "cell_type": "code",
   "execution_count": 21,
   "metadata": {
    "school_cell_uuid": "b18d9a7395784c6f9edde0eb04436df4",
    "slideshow": {
     "slide_type": "subslide"
    }
   },
   "outputs": [
    {
     "name": "stdout",
     "output_type": "stream",
     "text": [
      "                           Logit Regression Results                           \n",
      "==============================================================================\n",
      "Dep. Variable:                      y   No. Observations:                  100\n",
      "Model:                          Logit   Df Residuals:                       98\n",
      "Method:                           MLE   Df Model:                            1\n",
      "Date:                Sat, 08 May 2021   Pseudo R-squ.:                  0.7679\n",
      "Time:                        21:51:03   Log-Likelihood:                -16.084\n",
      "converged:                       True   LL-Null:                       -69.295\n",
      "Covariance Type:            nonrobust   LLR p-value:                 5.963e-25\n",
      "==============================================================================\n",
      "                 coef    std err          z      P>|z|      [0.025      0.975]\n",
      "------------------------------------------------------------------------------\n",
      "const          0.2515      0.477      0.527      0.598      -0.683       1.186\n",
      "x1             4.2382      0.902      4.699      0.000       2.470       6.006\n",
      "==============================================================================\n"
     ]
    }
   ],
   "source": [
    "X = sm.add_constant(X0)\n",
    "logit_mod = sm.Logit(y, X)\n",
    "logit_res = logit_mod.fit(disp=0)\n",
    "print(logit_res.summary())"
   ]
  },
  {
   "cell_type": "markdown",
   "metadata": {
    "slideshow": {
     "slide_type": "subslide"
    }
   },
   "source": [
    "결과 객체에서 `summary` 메서드를 사용하여 리포트를 출력할 수 있습니다. 결과 리포트에서 판별함수의 수식이 다음과 같다는 것을 알 수 있습니다.\n",
    "\n",
    "$$ \n",
    "\\mu(x) = \\sigma(4.2382x + 0.2515)\n",
    "$$\n",
    "\n",
    "따라서 $z$값의 부호를 나누는 기준값은 $4.2382x + 0.2515 = 0.5$가 되는 $x$값 즉, $(0.5-0.2515)/4.2382$다.\n",
    "\n",
    "`predict` 메서드를 사용하면 $\\mu(x)$값을 출력합니다.\n",
    "\n",
    "\n",
    "p-value를 감안하면 상수항의 값은 0과 마찬가지이므로 $\\mu(x)$가 다음과 같다고 추정해볼 수도 있습니다. \n",
    "\n",
    "$$ \n",
    "\\mu(x) = \\sigma(4.2382x)\n",
    "$$\n",
    "\n",
    "이렇게 생각하면 $z$값의 부호를 나누는 기준값은 실질적으로는 $0.5/4.2382=0.118$이 될 수도 있겠네요."
   ]
  },
  {
   "cell_type": "code",
   "execution_count": 22,
   "metadata": {
    "school_cell_uuid": "f0c7e33f87944f9097e400c1e534b1b9",
    "slideshow": {
     "slide_type": "subslide"
    }
   },
   "outputs": [
    {
     "data": {
      "image/png": "[encoded data removed]",
      "text/plain": [
       "<Figure size 432x288 with 1 Axes>"
      ]
     },
     "metadata": {
      "needs_background": "light"
     },
     "output_type": "display_data"
    }
   ],
   "source": [
    "xx = np.linspace(-3, 3, 100)\n",
    "mu = logit_res.predict(sm.add_constant(xx))\n",
    "plt.plot(xx, mu, lw=3)\n",
    "plt.scatter(X0, y, c=y, s=100, edgecolor=\"k\", lw=2)\n",
    "plt.scatter(X0, logit_res.predict(X), label=r\"$\\hat{y}$\", marker='s', c=y,\n",
    "            s=100, edgecolor=\"k\", lw=1)\n",
    "plt.xlim(-3, 3)\n",
    "plt.xlabel(\"x\")\n",
    "plt.ylabel(r\"$\\mu$\")\n",
    "plt.title(r\"$\\hat{y} = \\mu(x)$\")\n",
    "plt.legend()\n",
    "plt.show()"
   ]
  },
  {
   "cell_type": "markdown",
   "metadata": {
    "school_cell_uuid": "57fc47d2e81e4eb0b71de70ead08bc56",
    "slideshow": {
     "slide_type": "subslide"
    }
   },
   "source": [
    "### MedGPA Dataset\n",
    "다음 데이터는 미국 의대생의 입학관련 데이터이다. 데이터의 의미는 다음과 같습니다.\n",
    "\n",
    "* `Acceptance`: 0이면 불합격, 1이면 합격\n",
    "* `BCPM`: Bio/Chem/Physics/Math 과목의 학점 평균\n",
    "* `GPA`: 전체과목 학점 평균\n",
    "* `VR`: MCAT Verbal reasoning 과목 점수\n",
    "* `PS`: MCAT Physical sciences 과목 점수\n",
    "* `WS`: MCAT Writing sample 과목 점수\n",
    "* `BS`: MCAT Biological sciences 과목 점수\n",
    "* `MCAT`: MCAT 촘점\n",
    "* `Apps`: 의대 지원 횟수"
   ]
  },
  {
   "cell_type": "code",
   "execution_count": 23,
   "metadata": {
    "school_cell_uuid": "dc37862f85574bfda03083a5a1a1745d",
    "slideshow": {
     "slide_type": "subslide"
    }
   },
   "outputs": [
    {
     "data": {
      "text/html": [
       "<div>\n",
       "<style scoped>\n",
       "    .dataframe tbody tr th:only-of-type {\n",
       "        vertical-align: middle;\n",
       "    }\n",
       "\n",
       "    .dataframe tbody tr th {\n",
       "        vertical-align: top;\n",
       "    }\n",
       "\n",
       "    .dataframe thead th {\n",
       "        text-align: right;\n",
       "    }\n",
       "</style>\n",
       "<table border=\"1\" class=\"dataframe\">\n",
       "  <thead>\n",
       "    <tr style=\"text-align: right;\">\n",
       "      <th></th>\n",
       "      <th>Accept</th>\n",
       "      <th>Acceptance</th>\n",
       "      <th>Sex</th>\n",
       "      <th>BCPM</th>\n",
       "      <th>GPA</th>\n",
       "      <th>VR</th>\n",
       "      <th>PS</th>\n",
       "      <th>WS</th>\n",
       "      <th>BS</th>\n",
       "      <th>MCAT</th>\n",
       "      <th>Apps</th>\n",
       "    </tr>\n",
       "  </thead>\n",
       "  <tbody>\n",
       "    <tr>\n",
       "      <th>50</th>\n",
       "      <td>D</td>\n",
       "      <td>0</td>\n",
       "      <td>M</td>\n",
       "      <td>2.41</td>\n",
       "      <td>2.72</td>\n",
       "      <td>8</td>\n",
       "      <td>8</td>\n",
       "      <td>8.0</td>\n",
       "      <td>8</td>\n",
       "      <td>32</td>\n",
       "      <td>7</td>\n",
       "    </tr>\n",
       "    <tr>\n",
       "      <th>51</th>\n",
       "      <td>D</td>\n",
       "      <td>0</td>\n",
       "      <td>M</td>\n",
       "      <td>3.51</td>\n",
       "      <td>3.56</td>\n",
       "      <td>11</td>\n",
       "      <td>8</td>\n",
       "      <td>6.0</td>\n",
       "      <td>9</td>\n",
       "      <td>34</td>\n",
       "      <td>6</td>\n",
       "    </tr>\n",
       "    <tr>\n",
       "      <th>52</th>\n",
       "      <td>A</td>\n",
       "      <td>1</td>\n",
       "      <td>F</td>\n",
       "      <td>3.43</td>\n",
       "      <td>3.48</td>\n",
       "      <td>7</td>\n",
       "      <td>10</td>\n",
       "      <td>7.0</td>\n",
       "      <td>10</td>\n",
       "      <td>34</td>\n",
       "      <td>14</td>\n",
       "    </tr>\n",
       "    <tr>\n",
       "      <th>53</th>\n",
       "      <td>D</td>\n",
       "      <td>0</td>\n",
       "      <td>M</td>\n",
       "      <td>2.61</td>\n",
       "      <td>2.80</td>\n",
       "      <td>7</td>\n",
       "      <td>5</td>\n",
       "      <td>NaN</td>\n",
       "      <td>6</td>\n",
       "      <td>18</td>\n",
       "      <td>6</td>\n",
       "    </tr>\n",
       "    <tr>\n",
       "      <th>54</th>\n",
       "      <td>D</td>\n",
       "      <td>0</td>\n",
       "      <td>M</td>\n",
       "      <td>3.36</td>\n",
       "      <td>3.44</td>\n",
       "      <td>11</td>\n",
       "      <td>11</td>\n",
       "      <td>8.0</td>\n",
       "      <td>9</td>\n",
       "      <td>39</td>\n",
       "      <td>1</td>\n",
       "    </tr>\n",
       "  </tbody>\n",
       "</table>\n",
       "</div>"
      ],
      "text/plain": [
       "   Accept  Acceptance Sex  BCPM   GPA  VR  PS   WS  BS  MCAT  Apps\n",
       "50      D           0   M  2.41  2.72   8   8  8.0   8    32     7\n",
       "51      D           0   M  3.51  3.56  11   8  6.0   9    34     6\n",
       "52      A           1   F  3.43  3.48   7  10  7.0  10    34    14\n",
       "53      D           0   M  2.61  2.80   7   5  NaN   6    18     6\n",
       "54      D           0   M  3.36  3.44  11  11  8.0   9    39     1"
      ]
     },
     "execution_count": 23,
     "metadata": {},
     "output_type": "execute_result"
    }
   ],
   "source": [
    "data_med = sm.datasets.get_rdataset(\"MedGPA\", package=\"Stat2Data\")\n",
    "df_med = data_med.data\n",
    "df_med.tail()"
   ]
  },
  {
   "cell_type": "markdown",
   "metadata": {
    "slideshow": {
     "slide_type": "subslide"
    }
   },
   "source": [
    "일단 학점(GPA)과 합격여부의 관계를 살펴봅시다."
   ]
  },
  {
   "cell_type": "code",
   "execution_count": 24,
   "metadata": {
    "school_cell_uuid": "ec1f946ed6dc4abca3fd2070256f9abe",
    "slideshow": {
     "slide_type": "fragment"
    }
   },
   "outputs": [
    {
     "data": {
      "image/png": "[encoded data removed]",
      "text/plain": [
       "<Figure size 432x288 with 1 Axes>"
      ]
     },
     "metadata": {
      "needs_background": "light"
     },
     "output_type": "display_data"
    }
   ],
   "source": [
    "sns.stripplot(x=\"GPA\", y=\"Acceptance\", data=df_med,\n",
    "              jitter=True, orient='h', order=[1, 0])\n",
    "plt.grid(True)\n",
    "plt.show()"
   ]
  },
  {
   "cell_type": "markdown",
   "metadata": {
    "slideshow": {
     "slide_type": "subslide"
    }
   },
   "source": [
    "로지스틱 회귀분석을 실시합시다. `MCAT = VR + PS + WS + BS`이므로 이 `MCAT`은 독립 변수에서 제외해야 맞습니다."
   ]
  },
  {
   "cell_type": "code",
   "execution_count": 25,
   "metadata": {
    "school_cell_uuid": "256a0d172f6f44f3a0f89331b1f13efb",
    "slideshow": {
     "slide_type": "fragment"
    }
   },
   "outputs": [
    {
     "name": "stdout",
     "output_type": "stream",
     "text": [
      "Optimization terminated successfully.\n",
      "         Current function value: 0.280736\n",
      "         Iterations 9\n",
      "                           Logit Regression Results                           \n",
      "==============================================================================\n",
      "Dep. Variable:             Acceptance   No. Observations:                   54\n",
      "Model:                          Logit   Df Residuals:                       45\n",
      "Method:                           MLE   Df Model:                            8\n",
      "Date:                Sat, 08 May 2021   Pseudo R-squ.:                  0.5913\n",
      "Time:                        21:55:14   Log-Likelihood:                -15.160\n",
      "converged:                       True   LL-Null:                       -37.096\n",
      "Covariance Type:            nonrobust   LLR p-value:                 6.014e-07\n",
      "==============================================================================\n",
      "                 coef    std err          z      P>|z|      [0.025      0.975]\n",
      "------------------------------------------------------------------------------\n",
      "Intercept    -46.6414     15.600     -2.990      0.003     -77.216     -16.067\n",
      "Sex[T.M]      -2.2835      1.429     -1.597      0.110      -5.085       0.518\n",
      "BCPM          -6.1633      6.963     -0.885      0.376     -19.811       7.484\n",
      "GPA           12.3973      8.611      1.440      0.150      -4.479      29.274\n",
      "VR             0.0790      0.311      0.254      0.799      -0.530       0.688\n",
      "PS             1.1673      0.539      2.164      0.030       0.110       2.225\n",
      "WS            -0.7784      0.396     -1.968      0.049      -1.554      -0.003\n",
      "BS             1.9184      0.682      2.814      0.005       0.582       3.255\n",
      "Apps           0.0512      0.147      0.348      0.728      -0.237       0.340\n",
      "==============================================================================\n"
     ]
    }
   ],
   "source": [
    "model_med = sm.Logit.from_formula(\"Acceptance ~ Sex + BCPM + GPA + VR + PS + WS + BS + Apps\", df_med)\n",
    "result_med = model_med.fit()\n",
    "print(result_med.summary())"
   ]
  },
  {
   "cell_type": "markdown",
   "metadata": {
    "slideshow": {
     "slide_type": "subslide"
    }
   },
   "source": [
    "예측 결과와 실제 결과를 비교하면 다음과 같습니다."
   ]
  },
  {
   "cell_type": "code",
   "execution_count": 26,
   "metadata": {
    "school_cell_uuid": "8bc1e65f26e44c01ab1e4930c9ccaf6f",
    "slideshow": {
     "slide_type": "fragment"
    }
   },
   "outputs": [
    {
     "data": {
      "image/png": "[encoded data removed]",
      "text/plain": [
       "<Figure size 432x288 with 1 Axes>"
      ]
     },
     "metadata": {
      "needs_background": "light"
     },
     "output_type": "display_data"
    }
   ],
   "source": [
    "df_med[\"Prediction\"] = result_med.predict(df_med)\n",
    "sns.boxplot(x=\"Acceptance\", y=\"Prediction\", data=df_med)\n",
    "plt.show()"
   ]
  },
  {
   "cell_type": "markdown",
   "metadata": {
    "slideshow": {
     "slide_type": "subslide"
    }
   },
   "source": [
    "위 분석 결과를 토대로 유의하지 않은 변수들을 제외하고 PS와 BS 점수만을 이용하여 다시 회귀분석하면 다음과 같습니다."
   ]
  },
  {
   "cell_type": "code",
   "execution_count": 27,
   "metadata": {
    "slideshow": {
     "slide_type": "fragment"
    }
   },
   "outputs": [
    {
     "name": "stdout",
     "output_type": "stream",
     "text": [
      "Optimization terminated successfully.\n",
      "         Current function value: 0.460609\n",
      "         Iterations 7\n",
      "                           Logit Regression Results                           \n",
      "==============================================================================\n",
      "Dep. Variable:             Acceptance   No. Observations:                   55\n",
      "Model:                          Logit   Df Residuals:                       52\n",
      "Method:                           MLE   Df Model:                            2\n",
      "Date:                Sat, 08 May 2021   Pseudo R-squ.:                  0.3315\n",
      "Time:                        21:56:23   Log-Likelihood:                -25.333\n",
      "converged:                       True   LL-Null:                       -37.896\n",
      "Covariance Type:            nonrobust   LLR p-value:                 3.503e-06\n",
      "==============================================================================\n",
      "                 coef    std err          z      P>|z|      [0.025      0.975]\n",
      "------------------------------------------------------------------------------\n",
      "Intercept    -15.5427      4.684     -3.318      0.001     -24.723      -6.362\n",
      "PS             0.4798      0.316      1.518      0.129      -0.140       1.099\n",
      "BS             1.1464      0.387      2.959      0.003       0.387       1.906\n",
      "==============================================================================\n"
     ]
    }
   ],
   "source": [
    "model_med = sm.Logit.from_formula(\"Acceptance ~ PS + BS\", df_med)\n",
    "result_med = model_med.fit()\n",
    "print(result_med.summary())"
   ]
  },
  {
   "cell_type": "markdown",
   "metadata": {
    "slideshow": {
     "slide_type": "fragment"
    }
   },
   "source": [
    "위 결과를 바탕으로 다음 점수가 $15.5427+0.5$보다 크면 합격이라고 예측할 수 있습니다.\n",
    "\n",
    "$$\n",
    "0.4798 \\text{PS} + 1.1464 \\text{BS}\n",
    "$$"
   ]
  },
  {
   "cell_type": "markdown",
   "metadata": {
    "school_cell_uuid": "5d3dd20a8ff7464da5b7cb821fe74a87",
    "slideshow": {
     "slide_type": "subslide"
    }
   },
   "source": [
    "### Regression analysis using logistic regression\n",
    "로지스틱 회귀는 분류문제뿐만 아니라 종속변수 $y$가 0부터 1까지 막혀있는 회귀분석 문제에도 사용할 수 있다. 이때는 다음처럼 $\\mu$ 값을 종속변수 y의 예측값으로 사용합니다.\n",
    "\n",
    "$$ \\hat{y} = \\mu(x) $$\n",
    "\n",
    "만약 실제 y의 범위가 0부터 1이 아니면 스케일링을 통해 바꿔야 합니다. 이번에는 다루지 않겠습니다."
   ]
  },
  {
   "cell_type": "markdown",
   "metadata": {
    "school_cell_uuid": "73d93f1a7bba4331b2ab67de8da65f72",
    "slideshow": {
     "slide_type": "subslide"
    }
   },
   "source": [
    "다음 데이터는 1974년도에 \"여성은 가정을 보살피고 국가를 운영하는 일은 남자에게 맡겨두어야 한다.\"라는 주장에 대한 찬성, 반대 입장을 조사한 결과입니다. 각 열은 다음을 뜻합니다.\n",
    "\n",
    "* `education`: 교육 기간\n",
    "* `sex`: 성별\n",
    "* `agree`: 찬성 인원\n",
    "* `disagree`: 반대 인원\n",
    "* `ratio`: 찬성 비율"
   ]
  },
  {
   "cell_type": "code",
   "execution_count": 28,
   "metadata": {
    "school_cell_uuid": "ca0198e7c0904153830af0f5e31da30f",
    "slideshow": {
     "slide_type": "subslide"
    }
   },
   "outputs": [
    {
     "data": {
      "text/html": [
       "<div>\n",
       "<style scoped>\n",
       "    .dataframe tbody tr th:only-of-type {\n",
       "        vertical-align: middle;\n",
       "    }\n",
       "\n",
       "    .dataframe tbody tr th {\n",
       "        vertical-align: top;\n",
       "    }\n",
       "\n",
       "    .dataframe thead th {\n",
       "        text-align: right;\n",
       "    }\n",
       "</style>\n",
       "<table border=\"1\" class=\"dataframe\">\n",
       "  <thead>\n",
       "    <tr style=\"text-align: right;\">\n",
       "      <th></th>\n",
       "      <th>education</th>\n",
       "      <th>sex</th>\n",
       "      <th>agree</th>\n",
       "      <th>disagree</th>\n",
       "      <th>ratio</th>\n",
       "    </tr>\n",
       "  </thead>\n",
       "  <tbody>\n",
       "    <tr>\n",
       "      <th>37</th>\n",
       "      <td>16</td>\n",
       "      <td>Female</td>\n",
       "      <td>13</td>\n",
       "      <td>115</td>\n",
       "      <td>0.101562</td>\n",
       "    </tr>\n",
       "    <tr>\n",
       "      <th>38</th>\n",
       "      <td>17</td>\n",
       "      <td>Female</td>\n",
       "      <td>3</td>\n",
       "      <td>28</td>\n",
       "      <td>0.096774</td>\n",
       "    </tr>\n",
       "    <tr>\n",
       "      <th>39</th>\n",
       "      <td>18</td>\n",
       "      <td>Female</td>\n",
       "      <td>0</td>\n",
       "      <td>21</td>\n",
       "      <td>0.000000</td>\n",
       "    </tr>\n",
       "    <tr>\n",
       "      <th>40</th>\n",
       "      <td>19</td>\n",
       "      <td>Female</td>\n",
       "      <td>1</td>\n",
       "      <td>2</td>\n",
       "      <td>0.333333</td>\n",
       "    </tr>\n",
       "    <tr>\n",
       "      <th>41</th>\n",
       "      <td>20</td>\n",
       "      <td>Female</td>\n",
       "      <td>2</td>\n",
       "      <td>4</td>\n",
       "      <td>0.333333</td>\n",
       "    </tr>\n",
       "  </tbody>\n",
       "</table>\n",
       "</div>"
      ],
      "text/plain": [
       "    education     sex  agree  disagree     ratio\n",
       "37         16  Female     13       115  0.101562\n",
       "38         17  Female      3        28  0.096774\n",
       "39         18  Female      0        21  0.000000\n",
       "40         19  Female      1         2  0.333333\n",
       "41         20  Female      2         4  0.333333"
      ]
     },
     "execution_count": 28,
     "metadata": {},
     "output_type": "execute_result"
    }
   ],
   "source": [
    "data_wrole = sm.datasets.get_rdataset(\"womensrole\", package=\"HSAUR\")\n",
    "df_wrole = data_wrole.data\n",
    "df_wrole[\"ratio\"] = df_wrole.agree / (df_wrole.agree + df_wrole.disagree)\n",
    "df_wrole.tail()"
   ]
  },
  {
   "cell_type": "markdown",
   "metadata": {
    "slideshow": {
     "slide_type": "subslide"
    }
   },
   "source": [
    "교육을 많이 받은 사람일수록 찬성 비율이 감소하는 것을 볼 수 있습니다."
   ]
  },
  {
   "cell_type": "code",
   "execution_count": 29,
   "metadata": {
    "school_cell_uuid": "28850ecc23d04b679ae0bbe09535df49",
    "slideshow": {
     "slide_type": "fragment"
    }
   },
   "outputs": [
    {
     "data": {
      "image/png": "[encoded data removed]",
      "text/plain": [
       "<Figure size 432x288 with 1 Axes>"
      ]
     },
     "metadata": {
      "needs_background": "light"
     },
     "output_type": "display_data"
    }
   ],
   "source": [
    "sns.scatterplot(x=\"education\", y=\"ratio\", style=\"sex\", data=df_wrole)\n",
    "plt.grid(True)\n",
    "plt.show()"
   ]
  },
  {
   "cell_type": "markdown",
   "metadata": {
    "slideshow": {
     "slide_type": "subslide"
    }
   },
   "source": [
    "분석 결과는 다음과 같습니다."
   ]
  },
  {
   "cell_type": "code",
   "execution_count": 30,
   "metadata": {
    "school_cell_uuid": "5fa7d954d41143eab63447cb2d6c0f5a",
    "slideshow": {
     "slide_type": "fragment"
    }
   },
   "outputs": [
    {
     "name": "stdout",
     "output_type": "stream",
     "text": [
      "Optimization terminated successfully.\n",
      "         Current function value: 0.448292\n",
      "         Iterations 6\n",
      "                           Logit Regression Results                           \n",
      "==============================================================================\n",
      "Dep. Variable:                  ratio   No. Observations:                   41\n",
      "Model:                          Logit   Df Residuals:                       38\n",
      "Method:                           MLE   Df Model:                            2\n",
      "Date:                Sat, 08 May 2021   Pseudo R-squ.:                  0.3435\n",
      "Time:                        21:59:12   Log-Likelihood:                -18.380\n",
      "converged:                       True   LL-Null:                       -27.997\n",
      "Covariance Type:            nonrobust   LLR p-value:                 6.660e-05\n",
      "===============================================================================\n",
      "                  coef    std err          z      P>|z|      [0.025      0.975]\n",
      "-------------------------------------------------------------------------------\n",
      "Intercept       2.0442      0.889      2.299      0.022       0.302       3.787\n",
      "sex[T.Male]    -0.1968      0.736     -0.267      0.789      -1.640       1.247\n",
      "education      -0.2127      0.071     -2.987      0.003      -0.352      -0.073\n",
      "===============================================================================\n"
     ]
    }
   ],
   "source": [
    "model_wrole = sm.Logit.from_formula(\"ratio ~ education + sex\", df_wrole)\n",
    "result_wrole = model_wrole.fit()\n",
    "print(result_wrole.summary())"
   ]
  },
  {
   "cell_type": "markdown",
   "metadata": {
    "slideshow": {
     "slide_type": "subslide"
    }
   },
   "source": [
    "성별은 유의하지 않다는 것을 알게되었습니다. 그러면 성별을 제외하고 다시 모형을 구해봅시다."
   ]
  },
  {
   "cell_type": "code",
   "execution_count": 31,
   "metadata": {
    "school_cell_uuid": "5fa7d954d41143eab63447cb2d6c0f5a",
    "slideshow": {
     "slide_type": "fragment"
    }
   },
   "outputs": [
    {
     "name": "stdout",
     "output_type": "stream",
     "text": [
      "Optimization terminated successfully.\n",
      "         Current function value: 0.449186\n",
      "         Iterations 6\n",
      "                           Logit Regression Results                           \n",
      "==============================================================================\n",
      "Dep. Variable:                  ratio   No. Observations:                   41\n",
      "Model:                          Logit   Df Residuals:                       39\n",
      "Method:                           MLE   Df Model:                            1\n",
      "Date:                Sat, 08 May 2021   Pseudo R-squ.:                  0.3422\n",
      "Time:                        21:59:48   Log-Likelihood:                -18.417\n",
      "converged:                       True   LL-Null:                       -27.997\n",
      "Covariance Type:            nonrobust   LLR p-value:                 1.202e-05\n",
      "==============================================================================\n",
      "                 coef    std err          z      P>|z|      [0.025      0.975]\n",
      "------------------------------------------------------------------------------\n",
      "Intercept      1.9345      0.781      2.478      0.013       0.405       3.464\n",
      "education     -0.2117      0.071     -2.983      0.003      -0.351      -0.073\n",
      "==============================================================================\n"
     ]
    }
   ],
   "source": [
    "model_wrole2 = sm.Logit.from_formula(\"ratio ~ education\", df_wrole)\n",
    "result_wrole2 = model_wrole2.fit()\n",
    "print(result_wrole2.summary())"
   ]
  },
  {
   "cell_type": "code",
   "execution_count": 32,
   "metadata": {
    "school_cell_uuid": "44e550dd72f749beb006190a4718076b",
    "slideshow": {
     "slide_type": "subslide"
    }
   },
   "outputs": [
    {
     "data": {
      "image/png": "[encoded data removed]",
      "text/plain": [
       "<Figure size 432x288 with 1 Axes>"
      ]
     },
     "metadata": {
      "needs_background": "light"
     },
     "output_type": "display_data"
    }
   ],
   "source": [
    "sns.scatterplot(x=\"education\", y=\"ratio\", data=df_wrole)\n",
    "xx = np.linspace(0, 20, 100)\n",
    "df_wrole_p = pd.DataFrame({\"education\": xx})\n",
    "plt.plot(xx, result_wrole2.predict(df_wrole_p), \"r-\", lw=4, label=\"preidctoin\")\n",
    "plt.legend()\n",
    "plt.show()"
   ]
  },
  {
   "cell_type": "markdown",
   "metadata": {
    "slideshow": {
     "slide_type": "slide"
    }
   },
   "source": [
    "# Today\n",
    "- 머신러닝이란 무엇인가\n",
    "- 회귀분석?\n",
    "- 선형회귀분석\n",
    "- 로지스틱회귀분석"
   ]
  },
  {
   "cell_type": "markdown",
   "metadata": {
    "slideshow": {
     "slide_type": "slide"
    }
   },
   "source": [
    "# Next class\n",
    "- 의사결정나무\n",
    "\n",
    "# Reference\n",
    "- https://datascienceschool.net/"
   ]
  }
 ],
 "metadata": {
  "celltoolbar": "Slideshow",
  "kernelspec": {
   "display_name": "Python 3",
   "language": "python",
   "name": "python3"
  },
  "language_info": {
   "codemirror_mode": {
    "name": "ipython",
    "version": 3
   },
   "file_extension": ".py",
   "mimetype": "text/x-python",
   "name": "python",
   "nbconvert_exporter": "python",
   "pygments_lexer": "ipython3",
   "version": "3.7.3"
  }
 },
 "nbformat": 4,
 "nbformat_minor": 4
}
