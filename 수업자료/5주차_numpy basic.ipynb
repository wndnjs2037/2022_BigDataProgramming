{
 "cells": [
  {
   "cell_type": "markdown",
   "metadata": {},
   "source": [
    "why numpy?\n",
    "편의성 측면에서 대부분 넘파이를 사용한다.\n",
    "pandas도 내부적으로는 넘파이 어레이를 사용해서 구현되어 있다.\n"
   ]
  },
  {
   "cell_type": "code",
   "execution_count": 4,
   "metadata": {},
   "outputs": [
    {
     "data": {
      "text/plain": [
       "'1.16.4'"
      ]
     },
     "execution_count": 4,
     "metadata": {},
     "output_type": "execute_result"
    }
   ],
   "source": [
    "import numpy\n",
    "numpy.__version__ #넘파이 버전 확인"
   ]
  },
  {
   "cell_type": "markdown",
   "metadata": {},
   "source": [
    "효율적인 데이터 분석에 관하여\n",
    "데이터 분석 처리를 위해서는 실제로 데이터가 파이썬 내부에서 어떻게 저장되고 처리되는지 배우는 게 필요하다.\n",
    "파이썬의 변수는 자료형이 능동적으로 변화할 수 있기 때문에 사용 용이함.\n",
    "\n",
    "파이썬의 기본 인터프리터는 C로 작성되어 있다.\n",
    "즉, 파이썬의 자료형은 c 자료형을 파이썬 기능에 맞추어서 만들어높은 wrapper class 라는 뜻이다.\n",
    "\n",
    "파이썬의 interger는 아래의 4가지로 구성되어 있다.\n",
    "struct _longobejct {\n",
    "- long ob_refcnt; : 파이썬이 메모리 얼로케이션과 디얼로케이션에 쓴느 레퍼런스 counta,\n",
    "- PyTupeObject *ob_type; : 변수형\n",
    "- size_t ob_size; : 변수의 크기\n",
    "- long ob_digit[1]; : long 으로 되어 있는 실제 변수의 값\n",
    "};\n",
    "\n"
   ]
  },
  {
   "cell_type": "code",
   "execution_count": 6,
   "metadata": {},
   "outputs": [
    {
     "data": {
      "text/plain": [
       "[0, 1, 2, 3, 4, 5, 6, 7, 8, 9]"
      ]
     },
     "execution_count": 6,
     "metadata": {},
     "output_type": "execute_result"
    }
   ],
   "source": [
    "# 리스트의 element 타입은 int로 되어있음\n",
    "L = list(range(10))\n",
    "L"
   ]
  },
  {
   "cell_type": "code",
   "execution_count": 7,
   "metadata": {},
   "outputs": [
    {
     "data": {
      "text/plain": [
       "int"
      ]
     },
     "execution_count": 7,
     "metadata": {},
     "output_type": "execute_result"
    }
   ],
   "source": [
    "type(L[0])"
   ]
  },
  {
   "cell_type": "code",
   "execution_count": 8,
   "metadata": {},
   "outputs": [
    {
     "data": {
      "text/plain": [
       "['0', '1', '2', '3', '4', '5', '6', '7', '8', '9']"
      ]
     },
     "execution_count": 8,
     "metadata": {},
     "output_type": "execute_result"
    }
   ],
   "source": [
    "# 리스트는 스트링으로도 만들 수 있다.\n",
    "L2 = [str(c) for c in L]\n",
    "L2"
   ]
  },
  {
   "cell_type": "code",
   "execution_count": 10,
   "metadata": {},
   "outputs": [
    {
     "data": {
      "text/plain": [
       "str"
      ]
     },
     "execution_count": 10,
     "metadata": {},
     "output_type": "execute_result"
    }
   ],
   "source": [
    "type(L2[0])"
   ]
  },
  {
   "cell_type": "code",
   "execution_count": 11,
   "metadata": {},
   "outputs": [
    {
     "data": {
      "text/plain": [
       "[bool, str, float, int]"
      ]
     },
     "execution_count": 11,
     "metadata": {},
     "output_type": "execute_result"
    }
   ],
   "source": [
    "# 파이썬은 한 리스트 안에 다양한 자료형을 넣을 수 있다.\n",
    "\n",
    "L3 = [True, \"2\", 3.0, 5]\n",
    "[type(item) for item in L3]"
   ]
  },
  {
   "cell_type": "markdown",
   "metadata": {},
   "source": [
    "이 모든것이 가능한 이유는 파이썬의 리스트는 C의 array와 다르게, 메모리의 연속 공간을 차지하게 구성되어 있지 않기 때문이다.\n",
    "(에를 들어 인티저 어레이라면 8바이트의 공간을 계속 차지함)\n",
    "\n",
    "그리고 각 element object가 위의 integer 예시 처럼 PyObject_HEAD를 별도로 가지고 있는 구조이다.\n",
    "파이썬은 헤더를 가진다는 말이다.\n",
    "\n",
    "즉, 이 모든것이 일종의 비용이 된다.\n",
    "\n",
    "그에 비해서 Numpy의 Array는 조금 더 C의 Array에 가깝게 되어 있다.\n",
    "넘파이 어레이 자체의 PyObject_HEAD는 있으나, 각 element는 C의 자료형처럼 연속된 메모리 공간을 차지한다.\n",
    "(노션 이미지 참고)\n",
    "\n",
    "메모리를 연속 공간에서 읽는게 빠를 것이다.\n",
    "(기본적으로 연속 공간을 차지함)"
   ]
  },
  {
   "cell_type": "code",
   "execution_count": 16,
   "metadata": {},
   "outputs": [],
   "source": [
    "# Fixed-Type Arrays in Python\n",
    "# 파이썬에는 리스트 말고도 어레이라는 모듈이 있다.\n",
    "# 어레이의 모듈은 조금 더 C에 가깝게 변수형이 고정되어 있다.\n",
    "\n",
    "# 리스트는 크기가 가변적이고 어떤 원소 타입이든 저장할 수 있다. 대신 C의 어레이보다 메모리를 더 많이 필요로 한다.\n",
    "# array.array는 C의 어레이와 동일하다고 보면 된다. 같은 타입의 원소만 저장 가능한 대신, 메모리를 훨씬 적게 쓴다\n",
    "# 근데 그냥 어레이보다 넘파이 어레이가 더 좋음\n",
    "\n",
    "import array\n",
    "L = list(range(10)) #10개짜리 리스트를 만들고\n",
    "A = array.array('i',L) # 만든 리스트를 어레이에 넣어줌, i는 int 타입을 의미한다.\n",
    "A\n",
    "\n",
    "#넘파이의 ndarray는 이러한 어레이와 유사한 오브젝트이지만, 훨씬 유연하게 사용 가능.\n",
    "# 보통 np라는 이름으로 넘파이를 임포트한다.\n",
    "\n",
    "import numpy as np"
   ]
  },
  {
   "cell_type": "code",
   "execution_count": 20,
   "metadata": {},
   "outputs": [
    {
     "data": {
      "text/plain": [
       "array([1, 2, 3, 4, 5])"
      ]
     },
     "execution_count": 20,
     "metadata": {},
     "output_type": "execute_result"
    }
   ],
   "source": [
    "# 넘파이 어레이는 파이썬 리스트부터 생성이 가능하다.\n",
    "\n",
    "np.array([1,2,3,4,5])\n",
    "\n"
   ]
  },
  {
   "cell_type": "code",
   "execution_count": 21,
   "metadata": {},
   "outputs": [
    {
     "data": {
      "text/plain": [
       "array([3.14, 4.  , 2.  , 3.  ])"
      ]
     },
     "execution_count": 21,
     "metadata": {},
     "output_type": "execute_result"
    }
   ],
   "source": [
    "# 넘파이 어레이는 꼭 같은 타입의 변수들로만 만들어야 한다.\n",
    "# 만약 변수들의 타입이 다른 리스트라면 typecast가 가능한 경우, 알아서 맞춰준다\n",
    "\n",
    "np.array([3.14, 4 ,2, 3]) # -> 인티저가 플롯으로 업케스팅 됨"
   ]
  },
  {
   "cell_type": "code",
   "execution_count": 22,
   "metadata": {},
   "outputs": [
    {
     "data": {
      "text/plain": [
       "array([1., 2., 3., 4.], dtype=float32)"
      ]
     },
     "execution_count": 22,
     "metadata": {},
     "output_type": "execute_result"
    }
   ],
   "source": [
    "# 만약 정해진 타입의 어레이를 만들고 십다면 dtype을 지정해주면 된다.\n",
    "\n",
    "np.array([1,2,3,4], dtype='float32')"
   ]
  },
  {
   "cell_type": "code",
   "execution_count": 25,
   "metadata": {},
   "outputs": [
    {
     "data": {
      "text/plain": [
       "array([[2, 3, 4],\n",
       "       [4, 5, 6],\n",
       "       [6, 7, 8]])"
      ]
     },
     "execution_count": 25,
     "metadata": {},
     "output_type": "execute_result"
    }
   ],
   "source": [
    "# 또한, 넘파이의 어레이는 다차원 어레이를 기본으로 한다.\n",
    "# list of list를 array로 만들면 다차원 array가 된다.\n",
    "\n",
    "np.array([range(i, i+3) for i in [2,4,6]])  #i부터 i+3 까지 [2.4.6]을 반복하는 i\n",
    "# 즉, [] 안의 요소개 3개이므로 3번 반복되어 3개의 리스트가 생성되고, i+3이므로 요소는 3개가 생성됨\n",
    "# range가 리스트를 만들어줌! (리스트 요소의 범위 지정)"
   ]
  },
  {
   "cell_type": "code",
   "execution_count": 26,
   "metadata": {},
   "outputs": [
    {
     "data": {
      "text/plain": [
       "array([list([1, 2]), list([3]), list([4, 5])], dtype=object)"
      ]
     },
     "execution_count": 26,
     "metadata": {},
     "output_type": "execute_result"
    }
   ],
   "source": [
    "# 아래처럼 만들면 list의 1d array가 되는 점에 주의해주세요\n",
    "np.array([[1,2], [3], [4,5]])"
   ]
  },
  {
   "cell_type": "code",
   "execution_count": 28,
   "metadata": {},
   "outputs": [
    {
     "data": {
      "text/plain": [
       "array([0, 0, 0, 0, 0, 0, 0, 0, 0, 0])"
      ]
     },
     "execution_count": 28,
     "metadata": {},
     "output_type": "execute_result"
    }
   ],
   "source": [
    "# Creating Array from scratch\n",
    "# 넘파이에는 어레이를 만들 수 있는 다양한 방법이 있다.\n",
    "# 큰 어레이를 만들 때는 이 방법들이 효율적일 수 있음\n",
    "\n",
    "# 0으로 채워진 길이 10 integer array를 만들자\n",
    "np.zeros(10, dtype=int)"
   ]
  },
  {
   "cell_type": "code",
   "execution_count": 29,
   "metadata": {},
   "outputs": [
    {
     "data": {
      "text/plain": [
       "array([[1., 1., 1., 1., 1.],\n",
       "       [1., 1., 1., 1., 1.],\n",
       "       [1., 1., 1., 1., 1.]])"
      ]
     },
     "execution_count": 29,
     "metadata": {},
     "output_type": "execute_result"
    }
   ],
   "source": [
    "# 1로 채워진 3*5 floating-point array 만들기\n",
    "np.ones((3,5), dtype=float)"
   ]
  },
  {
   "cell_type": "code",
   "execution_count": 30,
   "metadata": {},
   "outputs": [
    {
     "data": {
      "text/plain": [
       "array([[3.14, 3.14, 3.14, 3.14, 3.14],\n",
       "       [3.14, 3.14, 3.14, 3.14, 3.14],\n",
       "       [3.14, 3.14, 3.14, 3.14, 3.14]])"
      ]
     },
     "execution_count": 30,
     "metadata": {},
     "output_type": "execute_result"
    }
   ],
   "source": [
    "# 3.14로 채워진 3*5 어레이 생성하기\n",
    "np.full((3,5), 3.14)"
   ]
  },
  {
   "cell_type": "code",
   "execution_count": 31,
   "metadata": {},
   "outputs": [
    {
     "data": {
      "text/plain": [
       "array([ 0,  2,  4,  6,  8, 10, 12, 14, 16, 18])"
      ]
     },
     "execution_count": 31,
     "metadata": {},
     "output_type": "execute_result"
    }
   ],
   "source": [
    "# 어떤 linear sequence로 구성된 array를 만들자\n",
    "# 0부터 시작해서 20에서 끝나고, 각 성분은 2씩 차이남\n",
    "\n",
    "np.arange(0, 20, 2)\n",
    "#파이썬의 기본 range 함수와 비슷함"
   ]
  },
  {
   "cell_type": "code",
   "execution_count": 33,
   "metadata": {},
   "outputs": [
    {
     "data": {
      "text/plain": [
       "array([0.  , 0.25, 0.5 , 0.75, 1.  ])"
      ]
     },
     "execution_count": 33,
     "metadata": {},
     "output_type": "execute_result"
    }
   ],
   "source": [
    "# 0부터 1 사이에 균일하게 나누어진 5개의 값으로 array 생성하기\n",
    "np.linspace(0,1,5) #1은 포함됨!"
   ]
  },
  {
   "cell_type": "code",
   "execution_count": 35,
   "metadata": {},
   "outputs": [
    {
     "data": {
      "text/plain": [
       "array([[0.25158577, 0.23950855, 0.76729933],\n",
       "       [0.68407817, 0.2721369 , 0.20377848],\n",
       "       [0.56903605, 0.61638155, 0.40950288]])"
      ]
     },
     "execution_count": 35,
     "metadata": {},
     "output_type": "execute_result"
    }
   ],
   "source": [
    "# 0부터 1까지 uniform distribution의 난수로 만든 3*3 array 만들기\n",
    "\n",
    "np.random.random((3,3))"
   ]
  },
  {
   "cell_type": "code",
   "execution_count": 37,
   "metadata": {},
   "outputs": [
    {
     "data": {
      "text/plain": [
       "array([[-1.8940449 , -1.2518093 , -0.81181917],\n",
       "       [ 0.40401227, -0.17238598,  1.03818183],\n",
       "       [ 0.21009283,  0.45976864,  1.02833725]])"
      ]
     },
     "execution_count": 37,
     "metadata": {},
     "output_type": "execute_result"
    }
   ],
   "source": [
    "# 0부터 1까지 gaussian distributon의 난수로 만든 3*3 array 만들기\n",
    "# mean 0 standard deviation 1을 가정함\n",
    "\n",
    "np.random.normal(0,1,(3,3))"
   ]
  },
  {
   "cell_type": "code",
   "execution_count": 38,
   "metadata": {},
   "outputs": [
    {
     "data": {
      "text/plain": [
       "array([[8, 2, 5],\n",
       "       [7, 3, 4],\n",
       "       [4, 5, 9]])"
      ]
     },
     "execution_count": 38,
     "metadata": {},
     "output_type": "execute_result"
    }
   ],
   "source": [
    "# 0과 10 사이의 랜덤 인티저로 만든 3*3 행렬\n",
    "np.random.randint(0,10,(3,3))"
   ]
  },
  {
   "cell_type": "code",
   "execution_count": 40,
   "metadata": {},
   "outputs": [
    {
     "data": {
      "text/plain": [
       "array([[1., 0., 0.],\n",
       "       [0., 1., 0.],\n",
       "       [0., 0., 1.]])"
      ]
     },
     "execution_count": 40,
     "metadata": {},
     "output_type": "execute_result"
    }
   ],
   "source": [
    "# 단위행렬 만들기\n",
    "np.eye(3) # 곱하면 자기 자신이 되도록"
   ]
  },
  {
   "cell_type": "code",
   "execution_count": 41,
   "metadata": {},
   "outputs": [
    {
     "data": {
      "text/plain": [
       "array([1., 1., 1.])"
      ]
     },
     "execution_count": 41,
     "metadata": {},
     "output_type": "execute_result"
    }
   ],
   "source": [
    "# 비어있는 size 3 행렬 만들기\n",
    "# 주의 !  채워져 있는 값 들은 초기화가 되어있지 않은 값들임\n",
    "np.empty(3)"
   ]
  },
  {
   "cell_type": "markdown",
   "metadata": {},
   "source": [
    "Numpy Statndard Data Types\n",
    "넘파이 어레이는 기본적으로 한가지 종류의 데이터로 구성되어 있어야 한다.\n",
    "즉, 어떤 데이터 타입이 있는지를 아는 것이 중요하고, 데이터 타입의 한계 이해도 중요\n",
    "\n",
    "(노션 참고)"
   ]
  },
  {
   "cell_type": "code",
   "execution_count": 44,
   "metadata": {},
   "outputs": [],
   "source": [
    "# 임의로 채워진 랜덤 어레이를 만들어서 어레이에 대한 테스트를 해보자\n",
    "\n",
    "import numpy as np\n",
    "np.random.seed(0)\n",
    "\n",
    "# 차례대로 one-diemnsional , two, three - array\n",
    "x1 = np.random.randint(10, size=6) \n",
    "x2 = np.random.randint(10, size=(3,4))\n",
    "x3 = np.random.randint(10, size=(3,4,5))"
   ]
  },
  {
   "cell_type": "code",
   "execution_count": 45,
   "metadata": {},
   "outputs": [],
   "source": [
    "# 각각의 어레이는 ndim, shape, size 라는 attribute를 가지고 있다.\n",
    "# ndim : array 차원\n",
    "# shape : 각 dimension 의 크기\n",
    "# size : 전체 array의 크기"
   ]
  },
  {
   "cell_type": "code",
   "execution_count": 46,
   "metadata": {},
   "outputs": [
    {
     "name": "stdout",
     "output_type": "stream",
     "text": [
      "x3 ndim: 3\n",
      "x3 ndim: (3, 4, 5)\n",
      "x3 ndim: 60\n"
     ]
    }
   ],
   "source": [
    "print(\"x3 ndim:\", x3.ndim)\n",
    "print(\"x3 ndim:\", x3.shape)\n",
    "print(\"x3 ndim:\", x3.size) # 3 * 4 * 5의 전체 element 수"
   ]
  },
  {
   "cell_type": "code",
   "execution_count": 47,
   "metadata": {},
   "outputs": [
    {
     "name": "stdout",
     "output_type": "stream",
     "text": [
      "dtype: int32\n"
     ]
    }
   ],
   "source": [
    "# dtype -> 어레이의 데이터 타입을 나타내준다.\n",
    "print(\"dtype:\", x3.dtype)"
   ]
  },
  {
   "cell_type": "code",
   "execution_count": 48,
   "metadata": {},
   "outputs": [
    {
     "name": "stdout",
     "output_type": "stream",
     "text": [
      "itemsize :  4 bytes\n",
      "nbyte :  240 bytes\n"
     ]
    }
   ],
   "source": [
    "# itemsize 라는 속성값은 배열 성분들 한 개의 데이터 사이즈를 의미함\n",
    "# 비슷하게 nbytes라는 속성값은 해당 배열의 총 용량을 의미함\n",
    "\n",
    "print(\"itemsize : \", x3.itemsize, \"bytes\") # int32 / 8\n",
    "print(\"nbyte : \", x3.nbytes, \"bytes\")"
   ]
  },
  {
   "cell_type": "code",
   "execution_count": 51,
   "metadata": {},
   "outputs": [
    {
     "data": {
      "text/plain": [
       "3"
      ]
     },
     "execution_count": 51,
     "metadata": {},
     "output_type": "execute_result"
    }
   ],
   "source": [
    "# 다차원 배열은 comma separated index로 조회 가능\n",
    "x2[0,0]"
   ]
  },
  {
   "cell_type": "code",
   "execution_count": 52,
   "metadata": {},
   "outputs": [
    {
     "data": {
      "text/plain": [
       "array([[3, 5, 2, 4],\n",
       "       [7, 6, 8, 8],\n",
       "       [1, 6, 7, 7]])"
      ]
     },
     "execution_count": 52,
     "metadata": {},
     "output_type": "execute_result"
    }
   ],
   "source": [
    "x2"
   ]
  },
  {
   "cell_type": "code",
   "execution_count": 53,
   "metadata": {},
   "outputs": [],
   "source": [
    " # 넘파이의 어레이는 타입이 고정적이다.\n",
    "# 만약 int array에 float을 넣음녀 truncated 되어서 소수점 아래는 모두 버려짐 -> 수치 계산에서 치명적"
   ]
  },
  {
   "cell_type": "markdown",
   "metadata": {},
   "source": [
    "Array Slicing : Accessing Subarrays\n",
    "Array의 slicing도 []을 통해서 가능하다.\n",
    "슬라이싱 할 때에는 [:]의 형태 취함\n",
    "파이썬의 리스트 슬라이싱과 매우 유사.\n",
    "\n",
    "x[start:stop:step]\n",
    "\n",
    "지정 안할시 기본값\n",
    "start = 0\n",
    "stop = size of demension\n",
    "step = 1\n",
    "\n",
    "# 슬라이싱 실습은 노션 참고"
   ]
  },
  {
   "cell_type": "code",
   "execution_count": 54,
   "metadata": {},
   "outputs": [
    {
     "data": {
      "text/plain": [
       "array([[3, 5, 2, 4],\n",
       "       [7, 6, 8, 8],\n",
       "       [1, 6, 7, 7]])"
      ]
     },
     "execution_count": 54,
     "metadata": {},
     "output_type": "execute_result"
    }
   ],
   "source": [
    "# Multi-dimension subarrays\n",
    "\n",
    "# 다차원 어레이도 유사하게 사용 가능한데, comma를 통해서 슬라이싱 하면 됨\n",
    "\n",
    "x2"
   ]
  },
  {
   "cell_type": "code",
   "execution_count": 55,
   "metadata": {},
   "outputs": [
    {
     "data": {
      "text/plain": [
       "array([[3, 5, 2, 4],\n",
       "       [7, 6, 8, 8]])"
      ]
     },
     "execution_count": 55,
     "metadata": {},
     "output_type": "execute_result"
    }
   ],
   "source": [
    "x2[:2]"
   ]
  },
  {
   "cell_type": "code",
   "execution_count": 56,
   "metadata": {},
   "outputs": [
    {
     "data": {
      "text/plain": [
       "array([[3, 5, 2],\n",
       "       [7, 6, 8],\n",
       "       [1, 6, 7]])"
      ]
     },
     "execution_count": 56,
     "metadata": {},
     "output_type": "execute_result"
    }
   ],
   "source": [
    "x2[:,:3] #모든 raw에 대해서 3개의 컬럼까지만 슬라이싱"
   ]
  },
  {
   "cell_type": "code",
   "execution_count": 57,
   "metadata": {},
   "outputs": [
    {
     "data": {
      "text/plain": [
       "array([[3, 5, 2],\n",
       "       [7, 6, 8]])"
      ]
     },
     "execution_count": 57,
     "metadata": {},
     "output_type": "execute_result"
    }
   ],
   "source": [
    "x2[:2, :3] #두번째 raw까지 자르고, 3번째 컬럼까지 슬라이싱"
   ]
  },
  {
   "cell_type": "code",
   "execution_count": 58,
   "metadata": {},
   "outputs": [
    {
     "data": {
      "text/plain": [
       "array([[3, 2],\n",
       "       [7, 8],\n",
       "       [1, 7]])"
      ]
     },
     "execution_count": 58,
     "metadata": {},
     "output_type": "execute_result"
    }
   ],
   "source": [
    "x2[:, ::2] #모든 로우를 조회하고, 모든 짝수번째 컬럼 조회"
   ]
  },
  {
   "cell_type": "code",
   "execution_count": 59,
   "metadata": {},
   "outputs": [
    {
     "data": {
      "text/plain": [
       "array([[7, 7, 6, 1],\n",
       "       [8, 8, 6, 7],\n",
       "       [4, 2, 5, 3]])"
      ]
     },
     "execution_count": 59,
     "metadata": {},
     "output_type": "execute_result"
    }
   ],
   "source": [
    "x2[::-1, ::-1] #전부 뒤집어서 슬라이싱"
   ]
  },
  {
   "cell_type": "code",
   "execution_count": 60,
   "metadata": {},
   "outputs": [
    {
     "name": "stdout",
     "output_type": "stream",
     "text": [
      "[3 7 1]\n"
     ]
    }
   ],
   "source": [
    "# 한개의 Row나 한개의 column을 조회하는 것은 매우 자주 사용된다.\n",
    "# 컬럼이나 로우의 조회는 빈 slice 사용\n",
    "\n",
    "print(x2[:, 0]) #첫번째 컬럼의 데이터가 출력된다."
   ]
  },
  {
   "cell_type": "code",
   "execution_count": 61,
   "metadata": {},
   "outputs": [
    {
     "data": {
      "text/plain": [
       "array([[3, 5, 2, 4],\n",
       "       [7, 6, 8, 8],\n",
       "       [1, 6, 7, 7]])"
      ]
     },
     "execution_count": 61,
     "metadata": {},
     "output_type": "execute_result"
    }
   ],
   "source": [
    "x2"
   ]
  },
  {
   "cell_type": "code",
   "execution_count": 63,
   "metadata": {},
   "outputs": [
    {
     "name": "stdout",
     "output_type": "stream",
     "text": [
      "[3 5 2 4]\n"
     ]
    }
   ],
   "source": [
    "print(x2[0, :]) #row도 동일하게 가능"
   ]
  },
  {
   "cell_type": "code",
   "execution_count": 64,
   "metadata": {},
   "outputs": [],
   "source": [
    "# Subarrays as no-copy views\n",
    "\n",
    "# 어레이의 슬라이스는 실제로 변수의 카피를 리턴해주지 않고, 그변수를 조회하는 것에 가깝다.\n",
    "# 파이썬의 리스트 슬라이스는 복사본을 리턴해준다. 그래서 이 방법이 메모리 사용 등에 더 효율적임..\n"
   ]
  },
  {
   "cell_type": "code",
   "execution_count": 65,
   "metadata": {},
   "outputs": [
    {
     "data": {
      "text/plain": [
       "array([[3, 5, 2, 4],\n",
       "       [7, 6, 8, 8],\n",
       "       [1, 6, 7, 7]])"
      ]
     },
     "execution_count": 65,
     "metadata": {},
     "output_type": "execute_result"
    }
   ],
   "source": [
    "x2"
   ]
  },
  {
   "cell_type": "code",
   "execution_count": 66,
   "metadata": {},
   "outputs": [
    {
     "name": "stdout",
     "output_type": "stream",
     "text": [
      "[[3 5]\n",
      " [7 6]]\n"
     ]
    }
   ],
   "source": [
    "x2_sub = x2[:2, :2]\n",
    "print(x2_sub) #서브 어레이를 생성하고, 변화를 줘 보자"
   ]
  },
  {
   "cell_type": "code",
   "execution_count": 67,
   "metadata": {},
   "outputs": [
    {
     "name": "stdout",
     "output_type": "stream",
     "text": [
      "[[99  5]\n",
      " [ 7  6]]\n"
     ]
    }
   ],
   "source": [
    "x2_sub[0,0]=99\n",
    "print(x2_sub)"
   ]
  },
  {
   "cell_type": "code",
   "execution_count": 68,
   "metadata": {},
   "outputs": [
    {
     "data": {
      "text/plain": [
       "array([[99,  5,  2,  4],\n",
       "       [ 7,  6,  8,  8],\n",
       "       [ 1,  6,  7,  7]])"
      ]
     },
     "execution_count": 68,
     "metadata": {},
     "output_type": "execute_result"
    }
   ],
   "source": [
    "x2 # 단순한 조회이기 때문에 값이 변경됨."
   ]
  },
  {
   "cell_type": "code",
   "execution_count": null,
   "metadata": {},
   "outputs": [],
   "source": [
    "#즉, 서브 어레이를 변경한다고 하더라도 실제의 원래 어레이의 값이 변경되는 것이다.\n"
   ]
  },
  {
   "cell_type": "code",
   "execution_count": 69,
   "metadata": {},
   "outputs": [
    {
     "name": "stdout",
     "output_type": "stream",
     "text": [
      "[[99  5]\n",
      " [ 7  6]]\n"
     ]
    }
   ],
   "source": [
    "# 복사를 하기 위해선 어떻게 해야하는가?\n",
    "# 파이썬의 copy 모듈을 써도 되지만, 넘파이에는 이미 copu()라는 인터날 메소드가 있다.\n",
    "\n",
    "\n",
    "x2_sub_copy = x2[:2,:2].copy()\n",
    "print(x2_sub_copy) #카피 완."
   ]
  },
  {
   "cell_type": "code",
   "execution_count": 70,
   "metadata": {},
   "outputs": [
    {
     "name": "stdout",
     "output_type": "stream",
     "text": [
      "[[44  5]\n",
      " [ 7  6]]\n"
     ]
    }
   ],
   "source": [
    "# 카피한 어레이를 변경하면 원 어레이가 변경되진 않는다.\n",
    "\n",
    "x2_sub_copy[0,0] = 44\n",
    "print(x2_sub_copy)"
   ]
  },
  {
   "cell_type": "code",
   "execution_count": 71,
   "metadata": {},
   "outputs": [
    {
     "data": {
      "text/plain": [
       "array([[99,  5,  2,  4],\n",
       "       [ 7,  6,  8,  8],\n",
       "       [ 1,  6,  7,  7]])"
      ]
     },
     "execution_count": 71,
     "metadata": {},
     "output_type": "execute_result"
    }
   ],
   "source": [
    "x2 #그대로임~"
   ]
  },
  {
   "cell_type": "code",
   "execution_count": 72,
   "metadata": {},
   "outputs": [
    {
     "name": "stdout",
     "output_type": "stream",
     "text": [
      "[[1 2 3]\n",
      " [4 5 6]\n",
      " [7 8 9]]\n"
     ]
    }
   ],
   "source": [
    "# Resahping of Arrays\n",
    "# 어레이의 리쉐이프 예시\n",
    "# 크기 9의 1차원 어레이를 3*3 어레이로 바꾸는 방법?\n",
    "\n",
    "grid = np.arange(1, 10).reshape((3,3))\n",
    "print(grid) # 3*3 어레이로 변경됨"
   ]
  },
  {
   "cell_type": "code",
   "execution_count": 74,
   "metadata": {},
   "outputs": [
    {
     "name": "stdout",
     "output_type": "stream",
     "text": [
      "[1 2 3 4 5 6 7 8 9]\n"
     ]
    }
   ],
   "source": [
    "grid = np.arange(1, 10)\n",
    "print(grid) #원래는 이런 모습임"
   ]
  },
  {
   "cell_type": "code",
   "execution_count": null,
   "metadata": {},
   "outputs": [],
   "source": [
    "# 다만 이렇게 작동하려면 리쉐이프 후의 어레이 사이즈가 원 어레이와 동일해야 한다.\n",
    "#즉, 총 element의 수가 같아야 함.\n",
    "# 리쉐이프 또한 단순한 조회를 해주는데, 항상 그렇지는 않다.\n",
    "# 1 차원 어레이를 2차원의 로우나 컬럼 매트릭스로 변경하는 경우, 리쉐이프로도 가능하고 newaxis 라는 것으로도 가능하다."
   ]
  },
  {
   "cell_type": "code",
   "execution_count": 75,
   "metadata": {},
   "outputs": [
    {
     "data": {
      "text/plain": [
       "array([[1, 2, 3]])"
      ]
     },
     "execution_count": 75,
     "metadata": {},
     "output_type": "execute_result"
    }
   ],
   "source": [
    "x = np.array([1,2,3])\n",
    "\n",
    "# row vector via reshape\n",
    "x.reshape((1,3))"
   ]
  },
  {
   "cell_type": "code",
   "execution_count": 76,
   "metadata": {},
   "outputs": [
    {
     "data": {
      "text/plain": [
       "array([[1, 2, 3]])"
      ]
     },
     "execution_count": 76,
     "metadata": {},
     "output_type": "execute_result"
    }
   ],
   "source": [
    "# row vector via newaxis\n",
    "x[np.newaxis, :]\n",
    "\n",
    "# 위의 방법과 결과값이 동일하게 만들어진다."
   ]
  },
  {
   "cell_type": "code",
   "execution_count": 78,
   "metadata": {},
   "outputs": [
    {
     "data": {
      "text/plain": [
       "array([[1],\n",
       "       [2],\n",
       "       [3]])"
      ]
     },
     "execution_count": 78,
     "metadata": {},
     "output_type": "execute_result"
    }
   ],
   "source": [
    "# column vector via reshape\n",
    "x.reshape((3,1)) #칼람 벡터 만드는 경우"
   ]
  },
  {
   "cell_type": "code",
   "execution_count": 80,
   "metadata": {},
   "outputs": [
    {
     "data": {
      "text/plain": [
       "array([[1],\n",
       "       [2],\n",
       "       [3]])"
      ]
     },
     "execution_count": 80,
     "metadata": {},
     "output_type": "execute_result"
    }
   ],
   "source": [
    "# column vector via newaxis\n",
    "x[:, np.newaxis]"
   ]
  },
  {
   "cell_type": "code",
   "execution_count": 81,
   "metadata": {},
   "outputs": [
    {
     "data": {
      "text/plain": [
       "array([1, 2, 3, 3, 2, 1])"
      ]
     },
     "execution_count": 81,
     "metadata": {},
     "output_type": "execute_result"
    }
   ],
   "source": [
    "# Array Concatenation and Splitting\n",
    "# 여러 어레이를 한개로 합치거나 나누는 방법\n",
    "\n",
    "# 어레이를 합치는 것은 np.concatenate, np.vstack, np.hstack 3가지 방법 주로 사용\n",
    "# no.concatenate는 튜플이나 리스트 형태로 여러 어레이를 받아서 합쳐준다.\n",
    "\n",
    "x = np.array([1,2,3])\n",
    "y = np.array([3,2,1])\n",
    "np.concatenate([x,y]) #두개의 어레이를 합쳐주는 역할"
   ]
  },
  {
   "cell_type": "code",
   "execution_count": 82,
   "metadata": {},
   "outputs": [
    {
     "name": "stdout",
     "output_type": "stream",
     "text": [
      "[ 1  2  3  3  2  1 99 99 99]\n"
     ]
    }
   ],
   "source": [
    "# 2개 이상의 어레이도 한번에 합칠 수 있다.\n",
    "\n",
    "z = [99,99,99]\n",
    "print(np.concatenate([x,y,z]))\n"
   ]
  },
  {
   "cell_type": "code",
   "execution_count": 84,
   "metadata": {},
   "outputs": [],
   "source": [
    "# 2차원 어레이도 합칠 수 있음\n",
    "grid = np.array([[1,2,3],\n",
    "               [4,5,6]])\n"
   ]
  },
  {
   "cell_type": "code",
   "execution_count": 85,
   "metadata": {},
   "outputs": [
    {
     "data": {
      "text/plain": [
       "array([[1, 2, 3],\n",
       "       [4, 5, 6],\n",
       "       [1, 2, 3],\n",
       "       [4, 5, 6]])"
      ]
     },
     "execution_count": 85,
     "metadata": {},
     "output_type": "execute_result"
    }
   ],
   "source": [
    "np.concatenate([grid,grid])"
   ]
  },
  {
   "cell_type": "code",
   "execution_count": 86,
   "metadata": {},
   "outputs": [
    {
     "data": {
      "text/plain": [
       "array([[1, 2, 3, 1, 2, 3],\n",
       "       [4, 5, 6, 4, 5, 6]])"
      ]
     },
     "execution_count": 86,
     "metadata": {},
     "output_type": "execute_result"
    }
   ],
   "source": [
    "np.concatenate([grid,grid], axis=1) #axis 값을 설정하여 원하는 곳에 데이터를 붙여줄 수도 있다."
   ]
  },
  {
   "cell_type": "code",
   "execution_count": 87,
   "metadata": {},
   "outputs": [
    {
     "data": {
      "text/plain": [
       "array([[1, 2, 3],\n",
       "       [1, 2, 3],\n",
       "       [4, 5, 6]])"
      ]
     },
     "execution_count": 87,
     "metadata": {},
     "output_type": "execute_result"
    }
   ],
   "source": [
    "# 서로 다른 디멘션의 어레이를 합치려면 vstack(vertucal) 이나 hstack(horizeontal) 을 사용한다.\n",
    "\n",
    "x = np.array([1,2,3])\n",
    "grip = np.array([[9,8,7],\n",
    "                [6,5,4]])\n",
    "\n",
    "np.vstack([x,grid]) #세로로 합쳐줌"
   ]
  },
  {
   "cell_type": "code",
   "execution_count": 88,
   "metadata": {},
   "outputs": [
    {
     "data": {
      "text/plain": [
       "array([[ 1,  2,  3, 99],\n",
       "       [ 4,  5,  6, 99]])"
      ]
     },
     "execution_count": 88,
     "metadata": {},
     "output_type": "execute_result"
    }
   ],
   "source": [
    "y = np.array([[99],\n",
    "              [99]])\n",
    "\n",
    "np.hstack([grid,y]) #가로에 더해서 합쳐줌"
   ]
  },
  {
   "cell_type": "code",
   "execution_count": 89,
   "metadata": {},
   "outputs": [
    {
     "data": {
      "text/plain": [
       "array([[[1, 2],\n",
       "        [2, 3],\n",
       "        [3, 4]]])"
      ]
     },
     "execution_count": 89,
     "metadata": {},
     "output_type": "execute_result"
    }
   ],
   "source": [
    "# 3차원 어레이를 만들면 3번째 축이 생긴다. - 3차원은 복잡해지기 때문에 자주 사용되지는 않는다.\n",
    "\n",
    "a = np.array((1,2,3))\n",
    "b = np.array((2,3,4))\n",
    "np.dstack((a,b))"
   ]
  },
  {
   "cell_type": "code",
   "execution_count": 91,
   "metadata": {},
   "outputs": [
    {
     "name": "stdout",
     "output_type": "stream",
     "text": [
      "[1 2 3] [99 99] [3 2 1]\n"
     ]
    }
   ],
   "source": [
    "# 어레이를 나누는 방법\n",
    "# np.split, np.hsplit, np.vsplit 세가지 이용. - 나누고 싶은 위치의 list를 입력한다.\n",
    "\n",
    "x = [1,2,3,99,99,3,2,1]\n",
    "x1, x2, x3 = np.split(x, [3,5]) #한꺼번에 쪼개기 가능, x를 3번째부터 5개 이전 2개 99 쪼개고 나머지 리턴\n",
    "print(x1, x2, x3)"
   ]
  },
  {
   "cell_type": "code",
   "execution_count": 92,
   "metadata": {},
   "outputs": [
    {
     "data": {
      "text/plain": [
       "array([[ 0,  1,  2,  3],\n",
       "       [ 4,  5,  6,  7],\n",
       "       [ 8,  9, 10, 11],\n",
       "       [12, 13, 14, 15]])"
      ]
     },
     "execution_count": 92,
     "metadata": {},
     "output_type": "execute_result"
    }
   ],
   "source": [
    "# hsplit, vsplit도 유사하다.\n",
    "\n",
    "grid = np.arange(16).reshape((4,4))\n",
    "grid"
   ]
  },
  {
   "cell_type": "code",
   "execution_count": 93,
   "metadata": {},
   "outputs": [
    {
     "name": "stdout",
     "output_type": "stream",
     "text": [
      "[[0 1 2 3]\n",
      " [4 5 6 7]]\n",
      "[[ 8  9 10 11]\n",
      " [12 13 14 15]]\n"
     ]
    }
   ],
   "source": [
    "upper, lower =  np.vsplit(grid, [2])\n",
    "print(upper) #수직으로 두개씩 쪼갬\n",
    "print(lower)"
   ]
  },
  {
   "cell_type": "code",
   "execution_count": 95,
   "metadata": {},
   "outputs": [
    {
     "name": "stdout",
     "output_type": "stream",
     "text": [
      "[[ 0  1]\n",
      " [ 4  5]\n",
      " [ 8  9]\n",
      " [12 13]]\n",
      "[[ 2  3]\n",
      " [ 6  7]\n",
      " [10 11]\n",
      " [14 15]]\n"
     ]
    }
   ],
   "source": [
    "left, right = np.hsplit(grid, [2])\n",
    "print(left)\n",
    "print(right) "
   ]
  },
  {
   "cell_type": "markdown",
   "metadata": {},
   "source": [
    "Numpy Array를 사용한 수치계산 : Universal Functuons\n",
    "넘파이의 어레이를 사용한 계산이 어떻게 이루어지고 효율적으로 사용되는지 알아보자.\n",
    "\n",
    "어떻게 구성하는지에 따라 매우 빠르고 느릴 수 있음.\n",
    "빠르게 만드는 핵심은 loop의 사용을 줄이고 계산을 벡터화 하는 것\n",
    "Numpy의 universal finctions(ufuncs)은 이러한 벡터화를 지원한다.\n",
    "\n",
    "The Slowness of Loop\n",
    "파이썬의 기본인터프리터 구현인 CPython은 매우 느림.\n",
    "\n",
    "언어의 유연성과 인터프리트 형태에서 따라오는 부작용이며,\n",
    "최대한 머신싀 성능을 끌어다 써서 C나 포트란 등에 비해 매우 느림. 이는 데이터가 커지면 치명적이게 된다.\n",
    "\n",
    "이를 개선하기 위한 프로젝트 진행중.\n",
    "예를 들어 just-in-time을 도입해서 성능을 계산한 PyPy, Python code를 컴파일된 C 코드로 바꾸어주는 Cython,\n",
    "그리고 일부 파이썬의 코드를 LLVM 바이트코드로 바꾸어서 속도를 올리는 Numba 등이 있다.\n",
    "각각 장단점이 있지만, 100% CPython과 호환성이 보장되진 않는다.\n",
    "\n",
    "예를 들어 지금 배우는 numpy의 경우 pypy에서 오랜 기간 제대로 작동 안했고, 지금도 느리다.\n",
    "\n",
    "파이썬으 loop는 정말 느리다.\n",
    "다시 예를 들어 리스트 element의 역수를 계산하는 아래의 계산을 진행한다면,"
   ]
  },
  {
   "cell_type": "code",
   "execution_count": 99,
   "metadata": {},
   "outputs": [
    {
     "data": {
      "text/plain": [
       "array([0.16666667, 1.        , 0.25      , 0.25      , 0.125     ])"
      ]
     },
     "execution_count": 99,
     "metadata": {},
     "output_type": "execute_result"
    }
   ],
   "source": [
    "import numpy as np\n",
    "np.random.seed(0)\n",
    "\n",
    "def compute_reciprocals(values): # 리스트에 들어있는 요소들의 역수를 계산\n",
    "    output = np.empty(len(values))\n",
    "    for i in range(len(values)):\n",
    "        output[i] = 1.0 / values[i]\n",
    "    return output\n",
    "\n",
    "values = np.random.randint(1, 10, size=5) #랜덤으로 사이즈 5짜리 리스트 생성\n",
    "compute_reciprocals(values)"
   ]
  },
  {
   "cell_type": "code",
   "execution_count": 100,
   "metadata": {},
   "outputs": [],
   "source": [
    "# 이 계산은 속도가 매우 느림\n",
    "# %timeit magic operator를 사용하면 현재 cell의 loop당 실행 시간을 알 수 있습니다."
   ]
  },
  {
   "cell_type": "code",
   "execution_count": 101,
   "metadata": {},
   "outputs": [
    {
     "name": "stdout",
     "output_type": "stream",
     "text": [
      "2.14 s ± 183 ms per loop (mean ± std. dev. of 7 runs, 1 loop each)\n"
     ]
    }
   ],
   "source": [
    "big_array = np.random.randint(1, 100, size =1000000) # size는 실행 시간을 확인할 list의 크기!\n",
    "%timeit compute_reciprocals(big_array)"
   ]
  },
  {
   "cell_type": "markdown",
   "metadata": {},
   "source": [
    "100만개정도 성분을 가진 리스트라면 몇초~몇분이 걸린다.\n",
    "사이즈가 커질수록 연산 속도가 더 느릴 것이다.\n",
    "수십억개의 데이터도 딱히 큰 데이터는 아님..\n",
    "-> 넘파이를 통해 어떻게 개선할까?\n",
    "\n",
    "Introducing UFuncs\n",
    "numpy는 벡터화 된 연산을 통해 이를 개선한다.\n",
    "Vector 등의 선형대수 계산은 OpenBLAS, intel MKL같은 BLAS(BAsic Linear Algebra Subprograms)라이브러리를 통해 매우 빠르게 최적화 되어있음.\n",
    "\n",
    "현재의 numpy가 사용하는 BLAS 엔진을 보자"
   ]
  },
  {
   "cell_type": "code",
   "execution_count": 103,
   "metadata": {},
   "outputs": [
    {
     "name": "stdout",
     "output_type": "stream",
     "text": [
      "mkl_info:\n",
      "    libraries = ['mkl_rt']\n",
      "    library_dirs = ['C:/ProgramData/Anaconda3\\\\Library\\\\lib']\n",
      "    define_macros = [('SCIPY_MKL_H', None), ('HAVE_CBLAS', None)]\n",
      "    include_dirs = ['C:\\\\Program Files (x86)\\\\IntelSWTools\\\\compilers_and_libraries_2019.0.117\\\\windows\\\\mkl', 'C:\\\\Program Files (x86)\\\\IntelSWTools\\\\compilers_and_libraries_2019.0.117\\\\windows\\\\mkl\\\\include', 'C:\\\\Program Files (x86)\\\\IntelSWTools\\\\compilers_and_libraries_2019.0.117\\\\windows\\\\mkl\\\\lib', 'C:/ProgramData/Anaconda3\\\\Library\\\\include']\n",
      "blas_mkl_info:\n",
      "    libraries = ['mkl_rt']\n",
      "    library_dirs = ['C:/ProgramData/Anaconda3\\\\Library\\\\lib']\n",
      "    define_macros = [('SCIPY_MKL_H', None), ('HAVE_CBLAS', None)]\n",
      "    include_dirs = ['C:\\\\Program Files (x86)\\\\IntelSWTools\\\\compilers_and_libraries_2019.0.117\\\\windows\\\\mkl', 'C:\\\\Program Files (x86)\\\\IntelSWTools\\\\compilers_and_libraries_2019.0.117\\\\windows\\\\mkl\\\\include', 'C:\\\\Program Files (x86)\\\\IntelSWTools\\\\compilers_and_libraries_2019.0.117\\\\windows\\\\mkl\\\\lib', 'C:/ProgramData/Anaconda3\\\\Library\\\\include']\n",
      "blas_opt_info:\n",
      "    libraries = ['mkl_rt']\n",
      "    library_dirs = ['C:/ProgramData/Anaconda3\\\\Library\\\\lib']\n",
      "    define_macros = [('SCIPY_MKL_H', None), ('HAVE_CBLAS', None)]\n",
      "    include_dirs = ['C:\\\\Program Files (x86)\\\\IntelSWTools\\\\compilers_and_libraries_2019.0.117\\\\windows\\\\mkl', 'C:\\\\Program Files (x86)\\\\IntelSWTools\\\\compilers_and_libraries_2019.0.117\\\\windows\\\\mkl\\\\include', 'C:\\\\Program Files (x86)\\\\IntelSWTools\\\\compilers_and_libraries_2019.0.117\\\\windows\\\\mkl\\\\lib', 'C:/ProgramData/Anaconda3\\\\Library\\\\include']\n",
      "lapack_mkl_info:\n",
      "    libraries = ['mkl_rt']\n",
      "    library_dirs = ['C:/ProgramData/Anaconda3\\\\Library\\\\lib']\n",
      "    define_macros = [('SCIPY_MKL_H', None), ('HAVE_CBLAS', None)]\n",
      "    include_dirs = ['C:\\\\Program Files (x86)\\\\IntelSWTools\\\\compilers_and_libraries_2019.0.117\\\\windows\\\\mkl', 'C:\\\\Program Files (x86)\\\\IntelSWTools\\\\compilers_and_libraries_2019.0.117\\\\windows\\\\mkl\\\\include', 'C:\\\\Program Files (x86)\\\\IntelSWTools\\\\compilers_and_libraries_2019.0.117\\\\windows\\\\mkl\\\\lib', 'C:/ProgramData/Anaconda3\\\\Library\\\\include']\n",
      "lapack_opt_info:\n",
      "    libraries = ['mkl_rt']\n",
      "    library_dirs = ['C:/ProgramData/Anaconda3\\\\Library\\\\lib']\n",
      "    define_macros = [('SCIPY_MKL_H', None), ('HAVE_CBLAS', None)]\n",
      "    include_dirs = ['C:\\\\Program Files (x86)\\\\IntelSWTools\\\\compilers_and_libraries_2019.0.117\\\\windows\\\\mkl', 'C:\\\\Program Files (x86)\\\\IntelSWTools\\\\compilers_and_libraries_2019.0.117\\\\windows\\\\mkl\\\\include', 'C:\\\\Program Files (x86)\\\\IntelSWTools\\\\compilers_and_libraries_2019.0.117\\\\windows\\\\mkl\\\\lib', 'C:/ProgramData/Anaconda3\\\\Library\\\\include']\n"
     ]
    }
   ],
   "source": [
    "np.show_config()"
   ]
  },
  {
   "cell_type": "markdown",
   "metadata": {},
   "source": [
    "MKL, OPEN BLAS 등의 Baisc library를 쓰는 것을 볼 수 있다.\n",
    "\n",
    "이제 아래의 두개 식을 비교해보자.\n",
    "원래의 loop 식과, numpy의 vectorizedoperator인 /를 비교해보자. 결과적으로는 같은 결과를 출력함"
   ]
  },
  {
   "cell_type": "code",
   "execution_count": 105,
   "metadata": {},
   "outputs": [
    {
     "name": "stdout",
     "output_type": "stream",
     "text": [
      "[0.16666667 1.         0.25       0.25       0.125     ]\n",
      "[0.16666667 1.         0.25       0.25       0.125     ]\n"
     ]
    }
   ],
   "source": [
    "print(compute_reciprocals(values))\n",
    "print(1.0 / values)"
   ]
  },
  {
   "cell_type": "code",
   "execution_count": 106,
   "metadata": {},
   "outputs": [
    {
     "name": "stdout",
     "output_type": "stream",
     "text": [
      "3.94 ms ± 984 µs per loop (mean ± std. dev. of 7 runs, 100 loops each)\n"
     ]
    }
   ],
   "source": [
    "%timeit (1.0/big_array) # 위의 결과값은 동일하지만, array를 다를 때의 속드는 매우 다름! 느리당"
   ]
  },
  {
   "cell_type": "markdown",
   "metadata": {},
   "source": [
    "이러한 벡터화된 계산은 ufuncs을 통해 이루어져 있다.\n",
    "이러한 Ufuncs는 매우 유연하다. array와 scalar를 모두 사용할 수 있다."
   ]
  },
  {
   "cell_type": "code",
   "execution_count": 107,
   "metadata": {},
   "outputs": [
    {
     "data": {
      "text/plain": [
       "array([5.        , 2.5       , 1.66666667, 1.25      , 1.        ])"
      ]
     },
     "execution_count": 107,
     "metadata": {},
     "output_type": "execute_result"
    }
   ],
   "source": [
    "# 0 1 2 3 4 나누기 1 ~ 6\n",
    "np.array(5) / np.arange(1,6)"
   ]
  },
  {
   "cell_type": "code",
   "execution_count": 109,
   "metadata": {},
   "outputs": [
    {
     "data": {
      "text/plain": [
       "array([[  1,   2,   4],\n",
       "       [  8,  16,  32],\n",
       "       [ 64, 128, 256]], dtype=int32)"
      ]
     },
     "execution_count": 109,
     "metadata": {},
     "output_type": "execute_result"
    }
   ],
   "source": [
    "# 다차원 배열에도 사용 가능하다.\n",
    "x = np.arange(9).reshape((3,3))\n",
    "2 **x"
   ]
  },
  {
   "cell_type": "markdown",
   "metadata": {},
   "source": [
    "거의 모든 경우에 numpy array를 벡터화 하는 것이 파이썬에서 loop를 쓰는 것 보다 빠르다.\n",
    "특히 사이즈가 커지면 무조건!!\n",
    "\n",
    "loop를 보면 그걸 벡터화 할 수 있는지 체크하는게 좋음"
   ]
  },
  {
   "cell_type": "markdown",
   "metadata": {},
   "source": [
    "Exproing Numpy's UFuncs\n",
    "\n",
    "Ufuncs는 두가지 종류가 있다.\n",
    "단일 입력을 받는 unary ufuncs\n",
    "두개의 입력을 받는 binary ufuncs..\n",
    "\n",
    "(노션 이미지 참고)\n",
    "\n",
    "사실 이 오퍼레이터들은 binary ufuncs들의 wrapper 이다.\n",
    "예를 들어 +는 내부적으로는 np.add를 호출한다.\n",
    "\n",
    "Absolute value\n",
    "Numpy는 절대값도파이썬의 기본 절대값 함수를 쓸 수 있긴 하다. 근데 느림\n",
    "\n",
    "대응되는 Numpy ufunc으로 np.absolute 혹은 np.abs가 있다.\n",
    "두 함수는 같은 함수임"
   ]
  },
  {
   "cell_type": "code",
   "execution_count": 110,
   "metadata": {},
   "outputs": [
    {
     "data": {
      "text/plain": [
       "array([[0, 1, 2],\n",
       "       [3, 4, 5],\n",
       "       [6, 7, 8]])"
      ]
     },
     "execution_count": 110,
     "metadata": {},
     "output_type": "execute_result"
    }
   ],
   "source": [
    "np.absolute(x)"
   ]
  },
  {
   "cell_type": "code",
   "execution_count": 111,
   "metadata": {},
   "outputs": [
    {
     "data": {
      "text/plain": [
       "array([[0, 1, 2],\n",
       "       [3, 4, 5],\n",
       "       [6, 7, 8]])"
      ]
     },
     "execution_count": 111,
     "metadata": {},
     "output_type": "execute_result"
    }
   ],
   "source": [
    "np.abs(x)"
   ]
  },
  {
   "cell_type": "code",
   "execution_count": null,
   "metadata": {},
   "outputs": [],
   "source": [
    "또한, numpy는 복소수 계산도 가능하다. 즉, ufuncs의 절대값은 복소수의 절대값을 반환한다.\n"
   ]
  },
  {
   "cell_type": "code",
   "execution_count": 112,
   "metadata": {},
   "outputs": [
    {
     "data": {
      "text/plain": [
       "array([5., 5., 2., 1.])"
      ]
     },
     "execution_count": 112,
     "metadata": {},
     "output_type": "execute_result"
    }
   ],
   "source": [
    "x = np.array([3 - 4j, 4 - 3j, 2 +0j, 0 + 1j])\n",
    "np.abs(x)"
   ]
  },
  {
   "cell_type": "markdown",
   "metadata": {},
   "source": [
    "넘파이는 삼각함수도 ufuncs로 내장해준다. 데이터 분석에 쓸만~"
   ]
  },
  {
   "cell_type": "code",
   "execution_count": 113,
   "metadata": {},
   "outputs": [],
   "source": [
    "theta = np.linspace(0, np.pi, 3)"
   ]
  },
  {
   "cell_type": "code",
   "execution_count": 115,
   "metadata": {},
   "outputs": [
    {
     "name": "stdout",
     "output_type": "stream",
     "text": [
      "theta     = [0.         1.57079633 3.14159265]\n",
      "sin(theta)= [0.0000000e+00 1.0000000e+00 1.2246468e-16]\n",
      "cos(theta)= [ 1.000000e+00  6.123234e-17 -1.000000e+00]\n",
      "tan(theta)= [ 0.00000000e+00  1.63312394e+16 -1.22464680e-16]\n"
     ]
    }
   ],
   "source": [
    "# 삼각함수는 아래와 같이 쓸 수 있다\n",
    "\n",
    "print(\"theta     =\" , theta)\n",
    "print(\"sin(theta)=\", np.sin(theta))\n",
    "print(\"cos(theta)=\", np.cos(theta))\n",
    "print(\"tan(theta)=\", np.tan(theta))\n"
   ]
  },
  {
   "cell_type": "code",
   "execution_count": null,
   "metadata": {},
   "outputs": [],
   "source": [
    "# 나머지는 노션 참고.."
   ]
  }
 ],
 "metadata": {
  "kernelspec": {
   "display_name": "Python 3",
   "language": "python",
   "name": "python3"
  },
  "language_info": {
   "codemirror_mode": {
    "name": "ipython",
    "version": 3
   },
   "file_extension": ".py",
   "mimetype": "text/x-python",
   "name": "python",
   "nbconvert_exporter": "python",
   "pygments_lexer": "ipython3",
   "version": "3.7.3"
  }
 },
 "nbformat": 4,
 "nbformat_minor": 4
}
