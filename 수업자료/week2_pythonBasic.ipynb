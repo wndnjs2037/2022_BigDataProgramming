{
 "cells": [
  {
   "cell_type": "code",
   "execution_count": 1,
   "metadata": {},
   "outputs": [],
   "source": [
    "import sys"
   ]
  },
  {
   "cell_type": "code",
   "execution_count": 2,
   "metadata": {},
   "outputs": [
    {
     "name": "stdout",
     "output_type": "stream",
     "text": [
      "sys.version_info(major=3, minor=7, micro=3, releaselevel='final', serial=0)\n"
     ]
    }
   ],
   "source": [
    "print(sys.version_info) #파이썬 버전 확인"
   ]
  },
  {
   "cell_type": "code",
   "execution_count": 3,
   "metadata": {},
   "outputs": [],
   "source": [
    "import numpy as np"
   ]
  },
  {
   "cell_type": "code",
   "execution_count": 5,
   "metadata": {},
   "outputs": [
    {
     "name": "stdout",
     "output_type": "stream",
     "text": [
      " E 드라이브의 볼륨: 새 볼륨\n",
      " 볼륨 일련 번호: 28A3-DA62\n",
      "\n",
      " e:\\ 디렉터리\n",
      "\n",
      "2021-03-07  오후 11:32    <DIR>          3DSMAX\n",
      "2021-06-09  오전 01:10    <DIR>          Adobe After Effects\n",
      "2021-10-19  오전 12:33    <DIR>          ASIO4ALL v2\n",
      "2021-07-23  오후 03:34    <DIR>          baekjoon\n",
      "2021-10-30  오후 10:57    <DIR>          Bitnami\n",
      "2021-09-12  오전 01:24    <DIR>          camera\n",
      "2021-08-06  오후 02:11    <DIR>          Citra\n",
      "2021-03-09  오후 07:49    <DIR>          FileZilla\n",
      "2021-06-11  오후 11:37    <DIR>          GOMRecorder\n",
      "2021-10-28  오후 04:15    <DIR>          micro\n",
      "2021-08-09  오후 09:20    <DIR>          Nintendo\n",
      "2022-01-04  오후 05:46    <DIR>          ocam\n",
      "2022-03-13  오후 05:30    <DIR>          onedrive\n",
      "2014-01-01  오후 10:17    <DIR>          Rhino 설치파일\n",
      "2021-10-20  오후 11:35    <DIR>          Rhino_Vray\n",
      "2021-12-14  오후 02:48    <DIR>          Sourcetrail_2021_4_19_Windows_64bit_Installer\n",
      "2022-03-12  오후 02:27    <DIR>          STEAM\n",
      "2021-07-23  오후 08:09    <DIR>          Unity\n",
      "2021-07-12  오후 07:11    <DIR>          Unity Hub\n",
      "2021-10-28  오후 04:15    <DIR>          Virtual Machines\n",
      "2021-10-28  오후 04:15    <DIR>          VMware\n",
      "2022-02-20  오후 03:50    <DIR>          숭실대학교\n",
      "2021-06-13  오후 10:41               709 숭실대학교 - 바로 가기.lnk\n",
      "2021-10-17  오전 11:52    <DIR>          우분투 이미지파일\n",
      "2022-01-30  오후 03:08    <DIR>          황주원\n",
      "2022-01-10  오후 08:18               685 황주원 - 바로 가기.lnk\n",
      "               2개 파일               1,394 바이트\n",
      "              24개 디렉터리  322,191,409,152 바이트 남음\n"
     ]
    }
   ],
   "source": [
    "# 커맨드라인 사용하고 싶은 경우엔 ! 붙여서 사용, base로 지정할 수도 있음\n",
    "\n",
    "!dir e:\\"
   ]
  },
  {
   "cell_type": "markdown",
   "metadata": {},
   "source": [
    "% : 한 줄\n",
    "%% : 셀\n",
    "    \n",
    "%pwd : 현재 실행중인 폴더위치 나옴\n",
    "%ls 등 ..\n",
    "%whos 현재 정의중인 변수를 모두 보여줌\n",
    "%reset : 상태 초기화"
   ]
  },
  {
   "cell_type": "code",
   "execution_count": 6,
   "metadata": {},
   "outputs": [
    {
     "data": {
      "text/plain": [
       "' 이 주석은 인터프리터가 읽음, 출력시 나올 수 있음'"
      ]
     },
     "execution_count": 6,
     "metadata": {},
     "output_type": "execute_result"
    }
   ],
   "source": [
    "# 이 주석은 인터프리터가 읽지 않음\n",
    "\"\"\" 이 주석은 인터프리터가 읽음, 출력시 나올 수 있음\"\"\""
   ]
  },
  {
   "cell_type": "markdown",
   "metadata": {},
   "source": [
    "변수 안에 데이터를 담는 경우 타입에 상관없이 아무거나 바꿔가면서 담을 수 있음\n",
    "\n",
    "sep : 구분되는 부분에 어떤 문자를 넣을지\n",
    "end : 마지막에 어떤 문자를 넣을 지"
   ]
  },
  {
   "cell_type": "code",
   "execution_count": null,
   "metadata": {},
   "outputs": [],
   "source": []
  }
 ],
 "metadata": {
  "kernelspec": {
   "display_name": "Python 3",
   "language": "python",
   "name": "python3"
  },
  "language_info": {
   "codemirror_mode": {
    "name": "ipython",
    "version": 3
   },
   "file_extension": ".py",
   "mimetype": "text/x-python",
   "name": "python",
   "nbconvert_exporter": "python",
   "pygments_lexer": "ipython3",
   "version": "3.7.3"
  }
 },
 "nbformat": 4,
 "nbformat_minor": 4
}
